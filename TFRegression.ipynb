{
 "cells": [
  {
   "cell_type": "code",
   "execution_count": null,
   "id": "f60d8e05-6bfa-4e4a-8fa9-0d277cc63e9d",
   "metadata": {},
   "outputs": [],
   "source": [
    "pip --version"
   ]
  },
  {
   "cell_type": "code",
   "execution_count": null,
   "id": "f6a1fc77-281f-4e10-8b32-a63513e3e8e3",
   "metadata": {},
   "outputs": [],
   "source": [
    "pip install --upgrade tensorflow"
   ]
  },
  {
   "cell_type": "code",
   "execution_count": null,
   "id": "52576c5d-8080-4dc3-a512-09913efced5c",
   "metadata": {},
   "outputs": [],
   "source": [
    "import numpy as np\n",
    "import pandas as pd\n",
    "# https://www.kaggle.com/datasets/shree1992/housedata\n",
    "df = pd.read_csv('https://raw.githubusercontent.com/fenago/datasets/main/data.csv')\n",
    "df.sample(5)"
   ]
  },
  {
   "cell_type": "code",
   "execution_count": null,
   "id": "0163ef1b-91aa-460e-803f-84e2a7196fd6",
   "metadata": {},
   "outputs": [],
   "source": [
    "to_drop = ['date', 'street', 'statezip', 'country']\n",
    "df = df.drop(to_drop, axis=1)\n",
    "\n",
    "df.head()"
   ]
  },
  {
   "cell_type": "code",
   "execution_count": null,
   "id": "f9539083-6554-4324-aa4a-0601ac7fc65b",
   "metadata": {},
   "outputs": [],
   "source": [
    "# How old is the house?\n",
    "df['house_age'] = [2021 - yr_built for yr_built in df['yr_built']]\n",
    "\n",
    "# Was the house renovated and was the renovation recent?\n",
    "df['was_renovated'] = [1 if yr_renovated != 0 else 0 \n",
    "    for yr_renovated in df['yr_renovated']]\n",
    "df['was_renovated_10_yrs'] = [1 if (2021 - yr_renovated) <= 10 \n",
    "    else 0 for yr_renovated in df['yr_renovated']]\n",
    "df['was_renovated_30_yrs'] = [1 if 10 < (2021 - yr_renovated) <= 30\n",
    "    else 0 for yr_renovated in df['yr_renovated']]\n",
    "\n",
    "# Drop original columns\n",
    "df = df.drop(['yr_built', 'yr_renovated'], axis=1)\n",
    "df.head()"
   ]
  },
  {
   "cell_type": "code",
   "execution_count": null,
   "id": "530c0b3b-e972-47e2-abab-e294049846e7",
   "metadata": {},
   "outputs": [],
   "source": [
    "def remap_location(data: pd.DataFrame, \n",
    "                   location: str, \n",
    "                   threshold: int = 50) -> str:\n",
    "    if len(data[data['city'] == location]) < threshold:\n",
    "        return 'Rare'\n",
    "    return location"
   ]
  },
  {
   "cell_type": "code",
   "execution_count": null,
   "id": "48a4d2e9-0d02-48ae-85ed-5211ae6a7410",
   "metadata": {},
   "outputs": [],
   "source": [
    "df['city'] = df['city'].apply(\n",
    "    lambda x: remap_location(data=df, location=x)\n",
    ")\n",
    "df.sample(10)"
   ]
  },
  {
   "cell_type": "code",
   "execution_count": null,
   "id": "801284d6-293f-4b53-a84a-e1e8b4719f89",
   "metadata": {},
   "outputs": [],
   "source": [
    "import matplotlib.pyplot as plt\n",
    "from matplotlib import rcParams\n",
    "rcParams['figure.figsize'] = (16, 6)\n",
    "rcParams['axes.spines.top'] = False\n",
    "rcParams['axes.spines.right'] = False\n",
    "\n",
    "plt.hist(df['price'], bins=100);"
   ]
  },
  {
   "cell_type": "code",
   "execution_count": null,
   "id": "6a3c8517-5289-4cf2-bf4f-7b878eaf9e10",
   "metadata": {},
   "outputs": [],
   "source": [
    "from scipy import stats\n",
    "\n",
    "\n",
    "# Calculate Z-values\n",
    "df['price_z'] = np.abs(stats.zscore(df['price']))\n",
    "\n",
    "# Filter out outliers\n",
    "df = df[df['price_z'] <= 3]\n",
    "\n",
    "# Remove houses listed for $0\n",
    "df = df[df['price'] != 0]\n",
    "\n",
    "# Drop the column\n",
    "df = df.drop('price_z', axis=1)\n",
    "\n",
    "# Draw a histogram\n",
    "plt.hist(df['price'], bins=100);"
   ]
  },
  {
   "cell_type": "code",
   "execution_count": null,
   "id": "47159dbb-97b1-4f00-9973-a8a9019eb8df",
   "metadata": {},
   "outputs": [],
   "source": [
    "from sklearn.compose import make_column_transformer\n",
    "from sklearn.preprocessing import MinMaxScaler, OneHotEncoder\n",
    "\n",
    "\n",
    "transformer = make_column_transformer(\n",
    "    (MinMaxScaler(), \n",
    "        ['sqft_living', 'sqft_lot','sqft_above', \n",
    "         'sqft_basement', 'house_age']),\n",
    "    (OneHotEncoder(handle_unknown='ignore'), \n",
    "        ['bedrooms', 'bathrooms', 'floors', \n",
    "         'view', 'condition'])\n",
    ")"
   ]
  },
  {
   "cell_type": "code",
   "execution_count": null,
   "id": "fc1217a9-3296-433a-8912-9e5ecde83ef8",
   "metadata": {},
   "outputs": [],
   "source": [
    "from sklearn.model_selection import train_test_split\n",
    "\n",
    "\n",
    "X = df.drop('price', axis=1)\n",
    "y = df['price']\n",
    "\n",
    "X_train, X_test, y_train, y_test = train_test_split(\n",
    "    X, y, test_size=0.2, random_state=42\n",
    ")"
   ]
  },
  {
   "cell_type": "code",
   "execution_count": null,
   "id": "c0fd8ace-5ea4-41d1-b3f8-9e51da3f2d0b",
   "metadata": {},
   "outputs": [],
   "source": [
    "# Fit\n",
    "transformer.fit(X_train)\n",
    "\n",
    "# Apply the transformation\n",
    "X_train = transformer.transform(X_train)\n",
    "X_test = transformer.transform(X_test)"
   ]
  },
  {
   "cell_type": "code",
   "execution_count": null,
   "id": "9d8964f9-6356-45b4-b377-26527b173775",
   "metadata": {},
   "outputs": [],
   "source": [
    "X_train.toarray()"
   ]
  },
  {
   "cell_type": "code",
   "execution_count": null,
   "id": "4f418abd-c8ad-4245-ba95-8d3bc17055b7",
   "metadata": {},
   "outputs": [],
   "source": [
    "X_train = X_train.toarray()\n",
    "X_test = X_test.toarray()"
   ]
  },
  {
   "cell_type": "code",
   "execution_count": null,
   "id": "d7475ee7-2bb9-44bd-9141-157a981deeea",
   "metadata": {},
   "outputs": [],
   "source": [
    "import tensorflow as tf\n",
    "from tensorflow.keras import Sequential\n",
    "from tensorflow.keras.layers import Dense\n",
    "from tensorflow.keras.optimizers import Adam\n",
    "from tensorflow.keras import backend as K"
   ]
  },
  {
   "cell_type": "code",
   "execution_count": null,
   "id": "512e1439-26cd-4aa2-96fa-f55afe314b20",
   "metadata": {},
   "outputs": [],
   "source": [
    "def rmse(y_true, y_pred):    \n",
    "    return K.sqrt(K.mean(K.square(y_pred - y_true)))"
   ]
  },
  {
   "cell_type": "code",
   "execution_count": null,
   "id": "b2849d0b-67a9-4d65-990e-fa306e62a55c",
   "metadata": {},
   "outputs": [],
   "source": [
    "# Start with 10 epochs and then go from there...\n",
    "tf.random.set_seed(42)\n",
    "\n",
    "model = Sequential([\n",
    "    Dense(256, activation='relu'),\n",
    "    Dense(256, activation='relu'),\n",
    "    Dense(128, activation='relu'),\n",
    "    Dense(1)\n",
    "])\n",
    "\n",
    "model.compile(\n",
    "    loss=rmse,\n",
    "    optimizer=Adam(),\n",
    "    metrics=[rmse]\n",
    ")\n",
    "\n",
    "model.fit(X_train, y_train, epochs=100)"
   ]
  },
  {
   "cell_type": "code",
   "execution_count": null,
   "id": "0b91d34c-f927-4dba-89bf-2db3c8cb0dcd",
   "metadata": {},
   "outputs": [],
   "source": [
    "predictions = model.predict(X_test)\n",
    "predictions[:5]"
   ]
  },
  {
   "cell_type": "code",
   "execution_count": null,
   "id": "6f34898d-2763-41c9-96a5-aa9c7a62c4fd",
   "metadata": {},
   "outputs": [],
   "source": [
    "predictions = np.ravel(predictions)\n",
    "predictions[:5]"
   ]
  },
  {
   "cell_type": "code",
   "execution_count": null,
   "id": "d4a7f268-0593-4d6e-9911-bf7918020af4",
   "metadata": {},
   "outputs": [],
   "source": [
    "rmse(y_test, predictions).numpy()"
   ]
  },
  {
   "cell_type": "code",
   "execution_count": null,
   "id": "893d2e50-44b7-414e-a4c8-91d6b6015d8c",
   "metadata": {},
   "outputs": [],
   "source": []
  }
 ],
 "metadata": {
  "kernelspec": {
   "display_name": "Python 3 (ipykernel)",
   "language": "python",
   "name": "python3"
  },
  "language_info": {
   "codemirror_mode": {
    "name": "ipython",
    "version": 3
   },
   "file_extension": ".py",
   "mimetype": "text/x-python",
   "name": "python",
   "nbconvert_exporter": "python",
   "pygments_lexer": "ipython3",
   "version": "3.8.13"
  }
 },
 "nbformat": 4,
 "nbformat_minor": 5
}
