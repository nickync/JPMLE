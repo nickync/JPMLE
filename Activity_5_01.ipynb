{
 "cells": [
  {
   "cell_type": "markdown",
   "metadata": {
    "id": "u7G8NIEeUQcq"
   },
   "source": [
    "## Activity 5.01"
   ]
  },
  {
   "cell_type": "markdown",
   "metadata": {
    "id": "0WliZ1cmTL9M"
   },
   "source": [
    "### Importing modules"
   ]
  },
  {
   "cell_type": "code",
   "execution_count": null,
   "metadata": {
    "id": "EvQUcUtBTLrg"
   },
   "outputs": [],
   "source": [
    "import numpy as np\n",
    "import pandas as pd"
   ]
  },
  {
   "cell_type": "markdown",
   "metadata": {
    "id": "UTgtrjCyQypl"
   },
   "source": [
    "### Read the CSV file using the read_csv() method. You will be using the columns \"infant deaths,Alcohol\". Extract these."
   ]
  },
  {
   "cell_type": "code",
   "execution_count": null,
   "metadata": {
    "id": "XYPwpfi1Qxym"
   },
   "outputs": [],
   "source": [
    "data = pd.read_csv('https://raw.githubusercontent.com/fenago/datasets/main/Life%20Expectancy%20Data.csv', \\\n",
    "                 usecols=['status', \\\n",
    "                          'infant deaths', \\\n",
    "'Alcohol']"
   ]
  },
  {
   "cell_type": "code",
   "execution_count": null,
   "metadata": {
    "id": "Bp2bkFjtQaPq"
   },
   "outputs": [],
   "source": []
  },
  {
   "cell_type": "markdown",
   "metadata": {
    "id": "blAwAs5SShne"
   },
   "source": [
    "### Perform data standardization by instantiating a StandardScaler object."
   ]
  },
  {
   "cell_type": "code",
   "execution_count": null,
   "metadata": {
    "id": "F-_JPWnHQHQs"
   },
   "outputs": [],
   "source": []
  },
  {
   "cell_type": "markdown",
   "metadata": {
    "id": "Bt4UFIMQS4n0"
   },
   "source": [
    "###  Analyze and define the optimal number of clusters."
   ]
  },
  {
   "cell_type": "code",
   "execution_count": null,
   "metadata": {
    "id": "hctBEkjXS71o"
   },
   "outputs": [],
   "source": []
  },
  {
   "cell_type": "markdown",
   "metadata": {
    "id": "AcSZb31ES8TH"
   },
   "source": [
    "###  Fit a k-means algorithm with the number of clusters you've defined"
   ]
  },
  {
   "cell_type": "code",
   "execution_count": null,
   "metadata": {
    "id": "d0J7YwqOS933"
   },
   "outputs": [],
   "source": []
  },
  {
   "cell_type": "markdown",
   "metadata": {
    "id": "o-Qv16fzzWXy"
   },
   "source": [
    "### Create a scatter plot of the clusters."
   ]
  },
  {
   "cell_type": "code",
   "execution_count": null,
   "metadata": {
    "id": "zEZek7QCzX7I"
   },
   "outputs": [],
   "source": []
  }
 ],
 "metadata": {
  "colab": {
   "authorship_tag": "ABX9TyNLi53wUMLGqYlVgqNHZ0bN",
   "collapsed_sections": [],
   "name": "Untitled6.ipynb",
   "provenance": []
  },
  "kernelspec": {
   "display_name": "Python 3 (ipykernel)",
   "language": "python",
   "name": "python3"
  },
  "language_info": {
   "codemirror_mode": {
    "name": "ipython",
    "version": 3
   },
   "file_extension": ".py",
   "mimetype": "text/x-python",
   "name": "python",
   "nbconvert_exporter": "python",
   "pygments_lexer": "ipython3",
   "version": "3.8.13"
  }
 },
 "nbformat": 4,
 "nbformat_minor": 4
}
