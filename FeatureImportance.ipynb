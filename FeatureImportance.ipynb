{
 "cells": [
  {
   "cell_type": "code",
   "execution_count": 1,
   "metadata": {},
   "outputs": [],
   "source": [
    "# Feature Importance\n",
    "#!pip install plotly"
   ]
  },
  {
   "cell_type": "code",
   "execution_count": 2,
   "metadata": {},
   "outputs": [],
   "source": [
    "#Import the Libraries\n",
    "\n",
    "#Dataframe and numerical library\n",
    "import pandas as pd \n",
    "import numpy as np\n",
    "\n",
    "#Visualization\n",
    "import matplotlib\n",
    "import matplotlib.pyplot as plt\n",
    "import seaborn as sns\n",
    "import plotly.express as px\n",
    "\n",
    "#Machine Learming Model\n",
    "from sklearn.linear_model import LogisticRegression "
   ]
  },
  {
   "cell_type": "code",
   "execution_count": 3,
   "metadata": {},
   "outputs": [
    {
     "data": {
      "text/html": [
       "<div>\n",
       "<style scoped>\n",
       "    .dataframe tbody tr th:only-of-type {\n",
       "        vertical-align: middle;\n",
       "    }\n",
       "\n",
       "    .dataframe tbody tr th {\n",
       "        vertical-align: top;\n",
       "    }\n",
       "\n",
       "    .dataframe thead th {\n",
       "        text-align: right;\n",
       "    }\n",
       "</style>\n",
       "<table border=\"1\" class=\"dataframe\">\n",
       "  <thead>\n",
       "    <tr style=\"text-align: right;\">\n",
       "      <th></th>\n",
       "      <th>churn</th>\n",
       "      <th>accountlength</th>\n",
       "      <th>internationalplan</th>\n",
       "      <th>voicemailplan</th>\n",
       "      <th>numbervmailmessages</th>\n",
       "      <th>totaldayminutes</th>\n",
       "      <th>totaldaycalls</th>\n",
       "      <th>totaldaycharge</th>\n",
       "      <th>totaleveminutes</th>\n",
       "      <th>totalevecalls</th>\n",
       "      <th>totalevecharge</th>\n",
       "      <th>totalnightminutes</th>\n",
       "      <th>totalnightcalls</th>\n",
       "      <th>totalnightcharge</th>\n",
       "      <th>totalintlminutes</th>\n",
       "      <th>totalintlcalls</th>\n",
       "      <th>totalintlcharge</th>\n",
       "      <th>numbercustomerservicecalls</th>\n",
       "    </tr>\n",
       "  </thead>\n",
       "  <tbody>\n",
       "    <tr>\n",
       "      <th>2044</th>\n",
       "      <td>No</td>\n",
       "      <td>80</td>\n",
       "      <td>yes</td>\n",
       "      <td>yes</td>\n",
       "      <td>30</td>\n",
       "      <td>184.2</td>\n",
       "      <td>132</td>\n",
       "      <td>31.31</td>\n",
       "      <td>167.5</td>\n",
       "      <td>109</td>\n",
       "      <td>14.24</td>\n",
       "      <td>212.8</td>\n",
       "      <td>114</td>\n",
       "      <td>9.58</td>\n",
       "      <td>10.0</td>\n",
       "      <td>10</td>\n",
       "      <td>2.70</td>\n",
       "      <td>0</td>\n",
       "    </tr>\n",
       "    <tr>\n",
       "      <th>258</th>\n",
       "      <td>Yes</td>\n",
       "      <td>92</td>\n",
       "      <td>yes</td>\n",
       "      <td>no</td>\n",
       "      <td>0</td>\n",
       "      <td>62.6</td>\n",
       "      <td>111</td>\n",
       "      <td>10.64</td>\n",
       "      <td>180.6</td>\n",
       "      <td>126</td>\n",
       "      <td>15.35</td>\n",
       "      <td>221.7</td>\n",
       "      <td>80</td>\n",
       "      <td>9.98</td>\n",
       "      <td>10.4</td>\n",
       "      <td>2</td>\n",
       "      <td>2.81</td>\n",
       "      <td>1</td>\n",
       "    </tr>\n",
       "    <tr>\n",
       "      <th>421</th>\n",
       "      <td>No</td>\n",
       "      <td>51</td>\n",
       "      <td>no</td>\n",
       "      <td>no</td>\n",
       "      <td>0</td>\n",
       "      <td>259.9</td>\n",
       "      <td>114</td>\n",
       "      <td>44.18</td>\n",
       "      <td>176.2</td>\n",
       "      <td>94</td>\n",
       "      <td>14.98</td>\n",
       "      <td>77.2</td>\n",
       "      <td>112</td>\n",
       "      <td>3.47</td>\n",
       "      <td>15.3</td>\n",
       "      <td>1</td>\n",
       "      <td>4.13</td>\n",
       "      <td>1</td>\n",
       "    </tr>\n",
       "    <tr>\n",
       "      <th>4851</th>\n",
       "      <td>No</td>\n",
       "      <td>39</td>\n",
       "      <td>no</td>\n",
       "      <td>no</td>\n",
       "      <td>0</td>\n",
       "      <td>189.6</td>\n",
       "      <td>89</td>\n",
       "      <td>32.23</td>\n",
       "      <td>251.6</td>\n",
       "      <td>116</td>\n",
       "      <td>21.39</td>\n",
       "      <td>230.9</td>\n",
       "      <td>105</td>\n",
       "      <td>10.39</td>\n",
       "      <td>5.4</td>\n",
       "      <td>8</td>\n",
       "      <td>1.46</td>\n",
       "      <td>3</td>\n",
       "    </tr>\n",
       "    <tr>\n",
       "      <th>2768</th>\n",
       "      <td>No</td>\n",
       "      <td>121</td>\n",
       "      <td>no</td>\n",
       "      <td>yes</td>\n",
       "      <td>44</td>\n",
       "      <td>116.0</td>\n",
       "      <td>85</td>\n",
       "      <td>19.72</td>\n",
       "      <td>150.1</td>\n",
       "      <td>120</td>\n",
       "      <td>12.76</td>\n",
       "      <td>246.8</td>\n",
       "      <td>98</td>\n",
       "      <td>11.11</td>\n",
       "      <td>12.0</td>\n",
       "      <td>2</td>\n",
       "      <td>3.24</td>\n",
       "      <td>1</td>\n",
       "    </tr>\n",
       "  </tbody>\n",
       "</table>\n",
       "</div>"
      ],
      "text/plain": [
       "     churn  accountlength internationalplan voicemailplan  \\\n",
       "2044    No             80               yes           yes   \n",
       "258    Yes             92               yes            no   \n",
       "421     No             51                no            no   \n",
       "4851    No             39                no            no   \n",
       "2768    No            121                no           yes   \n",
       "\n",
       "      numbervmailmessages  totaldayminutes  totaldaycalls  totaldaycharge  \\\n",
       "2044                   30            184.2            132           31.31   \n",
       "258                     0             62.6            111           10.64   \n",
       "421                     0            259.9            114           44.18   \n",
       "4851                    0            189.6             89           32.23   \n",
       "2768                   44            116.0             85           19.72   \n",
       "\n",
       "      totaleveminutes  totalevecalls  totalevecharge  totalnightminutes  \\\n",
       "2044            167.5            109           14.24              212.8   \n",
       "258             180.6            126           15.35              221.7   \n",
       "421             176.2             94           14.98               77.2   \n",
       "4851            251.6            116           21.39              230.9   \n",
       "2768            150.1            120           12.76              246.8   \n",
       "\n",
       "      totalnightcalls  totalnightcharge  totalintlminutes  totalintlcalls  \\\n",
       "2044              114              9.58              10.0              10   \n",
       "258                80              9.98              10.4               2   \n",
       "421               112              3.47              15.3               1   \n",
       "4851              105             10.39               5.4               8   \n",
       "2768               98             11.11              12.0               2   \n",
       "\n",
       "      totalintlcharge  numbercustomerservicecalls  \n",
       "2044             2.70                           0  \n",
       "258              2.81                           1  \n",
       "421              4.13                           1  \n",
       "4851             1.46                           3  \n",
       "2768             3.24                           1  "
      ]
     },
     "execution_count": 3,
     "metadata": {},
     "output_type": "execute_result"
    }
   ],
   "source": [
    "# df = pd.read_csv(\"https://raw.githubusercontent.com/fenago/datasets/main/Leads.csv\")\n",
    "df = pd.read_csv(\"https://raw.githubusercontent.com/fenago/datasets/main/churn.csv\")\n",
    "df.sample(5)"
   ]
  },
  {
   "cell_type": "code",
   "execution_count": 4,
   "metadata": {},
   "outputs": [
    {
     "name": "stdout",
     "output_type": "stream",
     "text": [
      "(5000, 18)\n"
     ]
    },
    {
     "data": {
      "text/plain": [
       "churn                         0\n",
       "accountlength                 0\n",
       "internationalplan             0\n",
       "voicemailplan                 0\n",
       "numbervmailmessages           0\n",
       "totaldayminutes               0\n",
       "totaldaycalls                 0\n",
       "totaldaycharge                0\n",
       "totaleveminutes               0\n",
       "totalevecalls                 0\n",
       "totalevecharge                0\n",
       "totalnightminutes             0\n",
       "totalnightcalls               0\n",
       "totalnightcharge              0\n",
       "totalintlminutes              0\n",
       "totalintlcalls                0\n",
       "totalintlcharge               0\n",
       "numbercustomerservicecalls    0\n",
       "dtype: int64"
      ]
     },
     "execution_count": 4,
     "metadata": {},
     "output_type": "execute_result"
    }
   ],
   "source": [
    "print(df.shape)\n",
    "df.isnull().sum()"
   ]
  },
  {
   "cell_type": "code",
   "execution_count": 5,
   "metadata": {},
   "outputs": [],
   "source": [
    "#df.drop(['Lead Number','Prospect ID', 'Asymmetrique Activity Index','Asymmetrique Profile Index','Asymmetrique Activity Score','Asymmetrique Profile Score','Lead Quality','Tags','City','Lead Profile','What matters most to you in choosing a course','What is your current occupation','How did you hear about X Education','Specialization','Country'], axis=1, inplace=True)\n",
    "#df.isnull().sum()"
   ]
  },
  {
   "cell_type": "code",
   "execution_count": 6,
   "metadata": {},
   "outputs": [],
   "source": [
    "#df = df.fillna(0)\n",
    "#print(df.isnull().sum())\n",
    "#print(df.dtypes)"
   ]
  },
  {
   "cell_type": "code",
   "execution_count": 7,
   "metadata": {},
   "outputs": [
    {
     "name": "stdout",
     "output_type": "stream",
     "text": [
      "churn                          object\n",
      "accountlength                   int64\n",
      "internationalplan              object\n",
      "voicemailplan                  object\n",
      "numbervmailmessages             int64\n",
      "totaldayminutes               float64\n",
      "totaldaycalls                   int64\n",
      "totaldaycharge                float64\n",
      "totaleveminutes               float64\n",
      "totalevecalls                   int64\n",
      "totalevecharge                float64\n",
      "totalnightminutes             float64\n",
      "totalnightcalls                 int64\n",
      "totalnightcharge              float64\n",
      "totalintlminutes              float64\n",
      "totalintlcalls                  int64\n",
      "totalintlcharge               float64\n",
      "numbercustomerservicecalls      int64\n",
      "dtype: object\n"
     ]
    },
    {
     "data": {
      "text/plain": [
       "churn                            2\n",
       "accountlength                  218\n",
       "internationalplan                2\n",
       "voicemailplan                    2\n",
       "numbervmailmessages             48\n",
       "totaldayminutes               1961\n",
       "totaldaycalls                  123\n",
       "totaldaycharge                1961\n",
       "totaleveminutes               1879\n",
       "totalevecalls                  126\n",
       "totalevecharge                1659\n",
       "totalnightminutes             1853\n",
       "totalnightcalls                131\n",
       "totalnightcharge              1028\n",
       "totalintlminutes               170\n",
       "totalintlcalls                  21\n",
       "totalintlcharge                170\n",
       "numbercustomerservicecalls      10\n",
       "dtype: int64"
      ]
     },
     "execution_count": 7,
     "metadata": {},
     "output_type": "execute_result"
    }
   ],
   "source": [
    "print(df.dtypes)\n",
    "df.nunique()"
   ]
  },
  {
   "cell_type": "code",
   "execution_count": 8,
   "metadata": {},
   "outputs": [],
   "source": [
    "from sklearn.preprocessing import RobustScaler\n",
    "scaler = RobustScaler()"
   ]
  },
  {
   "cell_type": "code",
   "execution_count": 9,
   "metadata": {},
   "outputs": [],
   "source": [
    "numerics = ['int16', 'int32', 'int64','float64']\n",
    "catDF = df.select_dtypes(exclude=numerics)\n",
    "numDF = df.select_dtypes(include=numerics)"
   ]
  },
  {
   "cell_type": "code",
   "execution_count": 10,
   "metadata": {},
   "outputs": [
    {
     "name": "stdout",
     "output_type": "stream",
     "text": [
      "  churn internationalplan voicemailplan\n",
      "0    No                no           yes\n",
      "1    No                no           yes\n",
      "2    No                no            no\n",
      "3    No               yes            no\n",
      "4    No               yes            no\n"
     ]
    },
    {
     "data": {
      "text/html": [
       "<div>\n",
       "<style scoped>\n",
       "    .dataframe tbody tr th:only-of-type {\n",
       "        vertical-align: middle;\n",
       "    }\n",
       "\n",
       "    .dataframe tbody tr th {\n",
       "        vertical-align: top;\n",
       "    }\n",
       "\n",
       "    .dataframe thead th {\n",
       "        text-align: right;\n",
       "    }\n",
       "</style>\n",
       "<table border=\"1\" class=\"dataframe\">\n",
       "  <thead>\n",
       "    <tr style=\"text-align: right;\">\n",
       "      <th></th>\n",
       "      <th>accountlength</th>\n",
       "      <th>numbervmailmessages</th>\n",
       "      <th>totaldayminutes</th>\n",
       "      <th>totaldaycalls</th>\n",
       "      <th>totaldaycharge</th>\n",
       "      <th>totaleveminutes</th>\n",
       "      <th>totalevecalls</th>\n",
       "      <th>totalevecharge</th>\n",
       "      <th>totalnightminutes</th>\n",
       "      <th>totalnightcalls</th>\n",
       "      <th>totalnightcharge</th>\n",
       "      <th>totalintlminutes</th>\n",
       "      <th>totalintlcalls</th>\n",
       "      <th>totalintlcharge</th>\n",
       "      <th>numbercustomerservicecalls</th>\n",
       "    </tr>\n",
       "  </thead>\n",
       "  <tbody>\n",
       "    <tr>\n",
       "      <th>0</th>\n",
       "      <td>128</td>\n",
       "      <td>25</td>\n",
       "      <td>265.1</td>\n",
       "      <td>110</td>\n",
       "      <td>45.07</td>\n",
       "      <td>197.4</td>\n",
       "      <td>99</td>\n",
       "      <td>16.78</td>\n",
       "      <td>244.7</td>\n",
       "      <td>91</td>\n",
       "      <td>11.01</td>\n",
       "      <td>10.0</td>\n",
       "      <td>3</td>\n",
       "      <td>2.70</td>\n",
       "      <td>1</td>\n",
       "    </tr>\n",
       "    <tr>\n",
       "      <th>1</th>\n",
       "      <td>107</td>\n",
       "      <td>26</td>\n",
       "      <td>161.6</td>\n",
       "      <td>123</td>\n",
       "      <td>27.47</td>\n",
       "      <td>195.5</td>\n",
       "      <td>103</td>\n",
       "      <td>16.62</td>\n",
       "      <td>254.4</td>\n",
       "      <td>103</td>\n",
       "      <td>11.45</td>\n",
       "      <td>13.7</td>\n",
       "      <td>3</td>\n",
       "      <td>3.70</td>\n",
       "      <td>1</td>\n",
       "    </tr>\n",
       "    <tr>\n",
       "      <th>2</th>\n",
       "      <td>137</td>\n",
       "      <td>0</td>\n",
       "      <td>243.4</td>\n",
       "      <td>114</td>\n",
       "      <td>41.38</td>\n",
       "      <td>121.2</td>\n",
       "      <td>110</td>\n",
       "      <td>10.30</td>\n",
       "      <td>162.6</td>\n",
       "      <td>104</td>\n",
       "      <td>7.32</td>\n",
       "      <td>12.2</td>\n",
       "      <td>5</td>\n",
       "      <td>3.29</td>\n",
       "      <td>0</td>\n",
       "    </tr>\n",
       "    <tr>\n",
       "      <th>3</th>\n",
       "      <td>84</td>\n",
       "      <td>0</td>\n",
       "      <td>299.4</td>\n",
       "      <td>71</td>\n",
       "      <td>50.90</td>\n",
       "      <td>61.9</td>\n",
       "      <td>88</td>\n",
       "      <td>5.26</td>\n",
       "      <td>196.9</td>\n",
       "      <td>89</td>\n",
       "      <td>8.86</td>\n",
       "      <td>6.6</td>\n",
       "      <td>7</td>\n",
       "      <td>1.78</td>\n",
       "      <td>2</td>\n",
       "    </tr>\n",
       "    <tr>\n",
       "      <th>4</th>\n",
       "      <td>75</td>\n",
       "      <td>0</td>\n",
       "      <td>166.7</td>\n",
       "      <td>113</td>\n",
       "      <td>28.34</td>\n",
       "      <td>148.3</td>\n",
       "      <td>122</td>\n",
       "      <td>12.61</td>\n",
       "      <td>186.9</td>\n",
       "      <td>121</td>\n",
       "      <td>8.41</td>\n",
       "      <td>10.1</td>\n",
       "      <td>3</td>\n",
       "      <td>2.73</td>\n",
       "      <td>3</td>\n",
       "    </tr>\n",
       "  </tbody>\n",
       "</table>\n",
       "</div>"
      ],
      "text/plain": [
       "   accountlength  numbervmailmessages  totaldayminutes  totaldaycalls  \\\n",
       "0            128                   25            265.1            110   \n",
       "1            107                   26            161.6            123   \n",
       "2            137                    0            243.4            114   \n",
       "3             84                    0            299.4             71   \n",
       "4             75                    0            166.7            113   \n",
       "\n",
       "   totaldaycharge  totaleveminutes  totalevecalls  totalevecharge  \\\n",
       "0           45.07            197.4             99           16.78   \n",
       "1           27.47            195.5            103           16.62   \n",
       "2           41.38            121.2            110           10.30   \n",
       "3           50.90             61.9             88            5.26   \n",
       "4           28.34            148.3            122           12.61   \n",
       "\n",
       "   totalnightminutes  totalnightcalls  totalnightcharge  totalintlminutes  \\\n",
       "0              244.7               91             11.01              10.0   \n",
       "1              254.4              103             11.45              13.7   \n",
       "2              162.6              104              7.32              12.2   \n",
       "3              196.9               89              8.86               6.6   \n",
       "4              186.9              121              8.41              10.1   \n",
       "\n",
       "   totalintlcalls  totalintlcharge  numbercustomerservicecalls  \n",
       "0               3             2.70                           1  \n",
       "1               3             3.70                           1  \n",
       "2               5             3.29                           0  \n",
       "3               7             1.78                           2  \n",
       "4               3             2.73                           3  "
      ]
     },
     "execution_count": 10,
     "metadata": {},
     "output_type": "execute_result"
    }
   ],
   "source": [
    "print(catDF.head())\n",
    "numDF.head()"
   ]
  },
  {
   "cell_type": "code",
   "execution_count": 11,
   "metadata": {},
   "outputs": [
    {
     "data": {
      "text/html": [
       "<div>\n",
       "<style scoped>\n",
       "    .dataframe tbody tr th:only-of-type {\n",
       "        vertical-align: middle;\n",
       "    }\n",
       "\n",
       "    .dataframe tbody tr th {\n",
       "        vertical-align: top;\n",
       "    }\n",
       "\n",
       "    .dataframe thead th {\n",
       "        text-align: right;\n",
       "    }\n",
       "</style>\n",
       "<table border=\"1\" class=\"dataframe\">\n",
       "  <thead>\n",
       "    <tr style=\"text-align: right;\">\n",
       "      <th></th>\n",
       "      <th>accountlength</th>\n",
       "      <th>numbervmailmessages</th>\n",
       "      <th>totaldayminutes</th>\n",
       "      <th>totaldaycalls</th>\n",
       "      <th>totaldaycharge</th>\n",
       "      <th>totaleveminutes</th>\n",
       "      <th>totalevecalls</th>\n",
       "      <th>totalevecharge</th>\n",
       "      <th>totalnightminutes</th>\n",
       "      <th>totalnightcalls</th>\n",
       "      <th>totalnightcharge</th>\n",
       "      <th>totalintlminutes</th>\n",
       "      <th>totalintlcalls</th>\n",
       "      <th>totalintlcharge</th>\n",
       "      <th>numbercustomerservicecalls</th>\n",
       "    </tr>\n",
       "  </thead>\n",
       "  <tbody>\n",
       "    <tr>\n",
       "      <th>0</th>\n",
       "      <td>0.518519</td>\n",
       "      <td>1.470588</td>\n",
       "      <td>1.172414</td>\n",
       "      <td>0.384615</td>\n",
       "      <td>1.172890</td>\n",
       "      <td>-0.053156</td>\n",
       "      <td>-0.037037</td>\n",
       "      <td>-0.053819</td>\n",
       "      <td>0.653392</td>\n",
       "      <td>-0.346154</td>\n",
       "      <td>0.652459</td>\n",
       "      <td>-0.085714</td>\n",
       "      <td>-0.333333</td>\n",
       "      <td>-0.085106</td>\n",
       "      <td>0.0</td>\n",
       "    </tr>\n",
       "    <tr>\n",
       "      <th>1</th>\n",
       "      <td>0.129630</td>\n",
       "      <td>1.529412</td>\n",
       "      <td>-0.255172</td>\n",
       "      <td>0.884615</td>\n",
       "      <td>-0.255682</td>\n",
       "      <td>-0.081211</td>\n",
       "      <td>0.111111</td>\n",
       "      <td>-0.081597</td>\n",
       "      <td>0.796460</td>\n",
       "      <td>0.115385</td>\n",
       "      <td>0.796721</td>\n",
       "      <td>0.971429</td>\n",
       "      <td>-0.333333</td>\n",
       "      <td>0.978723</td>\n",
       "      <td>0.0</td>\n",
       "    </tr>\n",
       "    <tr>\n",
       "      <th>2</th>\n",
       "      <td>0.685185</td>\n",
       "      <td>0.000000</td>\n",
       "      <td>0.873103</td>\n",
       "      <td>0.538462</td>\n",
       "      <td>0.873377</td>\n",
       "      <td>-1.178295</td>\n",
       "      <td>0.370370</td>\n",
       "      <td>-1.178819</td>\n",
       "      <td>-0.557522</td>\n",
       "      <td>0.153846</td>\n",
       "      <td>-0.557377</td>\n",
       "      <td>0.542857</td>\n",
       "      <td>0.333333</td>\n",
       "      <td>0.542553</td>\n",
       "      <td>-1.0</td>\n",
       "    </tr>\n",
       "    <tr>\n",
       "      <th>3</th>\n",
       "      <td>-0.296296</td>\n",
       "      <td>0.000000</td>\n",
       "      <td>1.645517</td>\n",
       "      <td>-1.115385</td>\n",
       "      <td>1.646104</td>\n",
       "      <td>-2.053894</td>\n",
       "      <td>-0.444444</td>\n",
       "      <td>-2.053819</td>\n",
       "      <td>-0.051622</td>\n",
       "      <td>-0.423077</td>\n",
       "      <td>-0.052459</td>\n",
       "      <td>-1.057143</td>\n",
       "      <td>1.000000</td>\n",
       "      <td>-1.063830</td>\n",
       "      <td>1.0</td>\n",
       "    </tr>\n",
       "    <tr>\n",
       "      <th>4</th>\n",
       "      <td>-0.462963</td>\n",
       "      <td>0.000000</td>\n",
       "      <td>-0.184828</td>\n",
       "      <td>0.500000</td>\n",
       "      <td>-0.185065</td>\n",
       "      <td>-0.778147</td>\n",
       "      <td>0.814815</td>\n",
       "      <td>-0.777778</td>\n",
       "      <td>-0.199115</td>\n",
       "      <td>0.807692</td>\n",
       "      <td>-0.200000</td>\n",
       "      <td>-0.057143</td>\n",
       "      <td>-0.333333</td>\n",
       "      <td>-0.053191</td>\n",
       "      <td>2.0</td>\n",
       "    </tr>\n",
       "  </tbody>\n",
       "</table>\n",
       "</div>"
      ],
      "text/plain": [
       "   accountlength  numbervmailmessages  totaldayminutes  totaldaycalls  \\\n",
       "0       0.518519             1.470588         1.172414       0.384615   \n",
       "1       0.129630             1.529412        -0.255172       0.884615   \n",
       "2       0.685185             0.000000         0.873103       0.538462   \n",
       "3      -0.296296             0.000000         1.645517      -1.115385   \n",
       "4      -0.462963             0.000000        -0.184828       0.500000   \n",
       "\n",
       "   totaldaycharge  totaleveminutes  totalevecalls  totalevecharge  \\\n",
       "0        1.172890        -0.053156      -0.037037       -0.053819   \n",
       "1       -0.255682        -0.081211       0.111111       -0.081597   \n",
       "2        0.873377        -1.178295       0.370370       -1.178819   \n",
       "3        1.646104        -2.053894      -0.444444       -2.053819   \n",
       "4       -0.185065        -0.778147       0.814815       -0.777778   \n",
       "\n",
       "   totalnightminutes  totalnightcalls  totalnightcharge  totalintlminutes  \\\n",
       "0           0.653392        -0.346154          0.652459         -0.085714   \n",
       "1           0.796460         0.115385          0.796721          0.971429   \n",
       "2          -0.557522         0.153846         -0.557377          0.542857   \n",
       "3          -0.051622        -0.423077         -0.052459         -1.057143   \n",
       "4          -0.199115         0.807692         -0.200000         -0.057143   \n",
       "\n",
       "   totalintlcalls  totalintlcharge  numbercustomerservicecalls  \n",
       "0       -0.333333        -0.085106                         0.0  \n",
       "1       -0.333333         0.978723                         0.0  \n",
       "2        0.333333         0.542553                        -1.0  \n",
       "3        1.000000        -1.063830                         1.0  \n",
       "4       -0.333333        -0.053191                         2.0  "
      ]
     },
     "execution_count": 11,
     "metadata": {},
     "output_type": "execute_result"
    }
   ],
   "source": [
    "# Scale all numeric columns\n",
    "numDF = pd.DataFrame(scaler.fit_transform(numDF.values), columns=numDF.columns, index=numDF.index)\n",
    "numDF.head()"
   ]
  },
  {
   "cell_type": "code",
   "execution_count": 12,
   "metadata": {},
   "outputs": [],
   "source": [
    "# Drop the target variable from the DF\n",
    "catDF.drop(['churn'], axis=1, inplace=True)"
   ]
  },
  {
   "cell_type": "code",
   "execution_count": 13,
   "metadata": {},
   "outputs": [
    {
     "data": {
      "text/plain": [
       "(5000, 4)"
      ]
     },
     "execution_count": 13,
     "metadata": {},
     "output_type": "execute_result"
    }
   ],
   "source": [
    "# Converting all the categorical variables to dummy variables\n",
    "catDF = pd.get_dummies(catDF)\n",
    "catDF.shape"
   ]
  },
  {
   "cell_type": "code",
   "execution_count": 14,
   "metadata": {},
   "outputs": [
    {
     "data": {
      "text/html": [
       "<div>\n",
       "<style scoped>\n",
       "    .dataframe tbody tr th:only-of-type {\n",
       "        vertical-align: middle;\n",
       "    }\n",
       "\n",
       "    .dataframe tbody tr th {\n",
       "        vertical-align: top;\n",
       "    }\n",
       "\n",
       "    .dataframe thead th {\n",
       "        text-align: right;\n",
       "    }\n",
       "</style>\n",
       "<table border=\"1\" class=\"dataframe\">\n",
       "  <thead>\n",
       "    <tr style=\"text-align: right;\">\n",
       "      <th></th>\n",
       "      <th>internationalplan_no</th>\n",
       "      <th>internationalplan_yes</th>\n",
       "      <th>voicemailplan_no</th>\n",
       "      <th>voicemailplan_yes</th>\n",
       "    </tr>\n",
       "  </thead>\n",
       "  <tbody>\n",
       "    <tr>\n",
       "      <th>0</th>\n",
       "      <td>1</td>\n",
       "      <td>0</td>\n",
       "      <td>0</td>\n",
       "      <td>1</td>\n",
       "    </tr>\n",
       "    <tr>\n",
       "      <th>1</th>\n",
       "      <td>1</td>\n",
       "      <td>0</td>\n",
       "      <td>0</td>\n",
       "      <td>1</td>\n",
       "    </tr>\n",
       "    <tr>\n",
       "      <th>2</th>\n",
       "      <td>1</td>\n",
       "      <td>0</td>\n",
       "      <td>1</td>\n",
       "      <td>0</td>\n",
       "    </tr>\n",
       "    <tr>\n",
       "      <th>3</th>\n",
       "      <td>0</td>\n",
       "      <td>1</td>\n",
       "      <td>1</td>\n",
       "      <td>0</td>\n",
       "    </tr>\n",
       "    <tr>\n",
       "      <th>4</th>\n",
       "      <td>0</td>\n",
       "      <td>1</td>\n",
       "      <td>1</td>\n",
       "      <td>0</td>\n",
       "    </tr>\n",
       "  </tbody>\n",
       "</table>\n",
       "</div>"
      ],
      "text/plain": [
       "   internationalplan_no  internationalplan_yes  voicemailplan_no  \\\n",
       "0                     1                      0                 0   \n",
       "1                     1                      0                 0   \n",
       "2                     1                      0                 1   \n",
       "3                     0                      1                 1   \n",
       "4                     0                      1                 1   \n",
       "\n",
       "   voicemailplan_yes  \n",
       "0                  1  \n",
       "1                  1  \n",
       "2                  0  \n",
       "3                  0  \n",
       "4                  0  "
      ]
     },
     "execution_count": 14,
     "metadata": {},
     "output_type": "execute_result"
    }
   ],
   "source": [
    "catDF.head()"
   ]
  },
  {
   "cell_type": "code",
   "execution_count": 15,
   "metadata": {},
   "outputs": [
    {
     "name": "stdout",
     "output_type": "stream",
     "text": [
      "(5000, 19)\n",
      "(5000,)\n"
     ]
    },
    {
     "data": {
      "text/html": [
       "<div>\n",
       "<style scoped>\n",
       "    .dataframe tbody tr th:only-of-type {\n",
       "        vertical-align: middle;\n",
       "    }\n",
       "\n",
       "    .dataframe tbody tr th {\n",
       "        vertical-align: top;\n",
       "    }\n",
       "\n",
       "    .dataframe thead th {\n",
       "        text-align: right;\n",
       "    }\n",
       "</style>\n",
       "<table border=\"1\" class=\"dataframe\">\n",
       "  <thead>\n",
       "    <tr style=\"text-align: right;\">\n",
       "      <th></th>\n",
       "      <th>internationalplan_no</th>\n",
       "      <th>internationalplan_yes</th>\n",
       "      <th>voicemailplan_no</th>\n",
       "      <th>voicemailplan_yes</th>\n",
       "      <th>accountlength</th>\n",
       "      <th>numbervmailmessages</th>\n",
       "      <th>totaldayminutes</th>\n",
       "      <th>totaldaycalls</th>\n",
       "      <th>totaldaycharge</th>\n",
       "      <th>totaleveminutes</th>\n",
       "      <th>totalevecalls</th>\n",
       "      <th>totalevecharge</th>\n",
       "      <th>totalnightminutes</th>\n",
       "      <th>totalnightcalls</th>\n",
       "      <th>totalnightcharge</th>\n",
       "      <th>totalintlminutes</th>\n",
       "      <th>totalintlcalls</th>\n",
       "      <th>totalintlcharge</th>\n",
       "      <th>numbercustomerservicecalls</th>\n",
       "    </tr>\n",
       "  </thead>\n",
       "  <tbody>\n",
       "    <tr>\n",
       "      <th>0</th>\n",
       "      <td>1</td>\n",
       "      <td>0</td>\n",
       "      <td>0</td>\n",
       "      <td>1</td>\n",
       "      <td>0.518519</td>\n",
       "      <td>1.470588</td>\n",
       "      <td>1.172414</td>\n",
       "      <td>0.384615</td>\n",
       "      <td>1.172890</td>\n",
       "      <td>-0.053156</td>\n",
       "      <td>-0.037037</td>\n",
       "      <td>-0.053819</td>\n",
       "      <td>0.653392</td>\n",
       "      <td>-0.346154</td>\n",
       "      <td>0.652459</td>\n",
       "      <td>-0.085714</td>\n",
       "      <td>-0.333333</td>\n",
       "      <td>-0.085106</td>\n",
       "      <td>0.0</td>\n",
       "    </tr>\n",
       "    <tr>\n",
       "      <th>1</th>\n",
       "      <td>1</td>\n",
       "      <td>0</td>\n",
       "      <td>0</td>\n",
       "      <td>1</td>\n",
       "      <td>0.129630</td>\n",
       "      <td>1.529412</td>\n",
       "      <td>-0.255172</td>\n",
       "      <td>0.884615</td>\n",
       "      <td>-0.255682</td>\n",
       "      <td>-0.081211</td>\n",
       "      <td>0.111111</td>\n",
       "      <td>-0.081597</td>\n",
       "      <td>0.796460</td>\n",
       "      <td>0.115385</td>\n",
       "      <td>0.796721</td>\n",
       "      <td>0.971429</td>\n",
       "      <td>-0.333333</td>\n",
       "      <td>0.978723</td>\n",
       "      <td>0.0</td>\n",
       "    </tr>\n",
       "    <tr>\n",
       "      <th>2</th>\n",
       "      <td>1</td>\n",
       "      <td>0</td>\n",
       "      <td>1</td>\n",
       "      <td>0</td>\n",
       "      <td>0.685185</td>\n",
       "      <td>0.000000</td>\n",
       "      <td>0.873103</td>\n",
       "      <td>0.538462</td>\n",
       "      <td>0.873377</td>\n",
       "      <td>-1.178295</td>\n",
       "      <td>0.370370</td>\n",
       "      <td>-1.178819</td>\n",
       "      <td>-0.557522</td>\n",
       "      <td>0.153846</td>\n",
       "      <td>-0.557377</td>\n",
       "      <td>0.542857</td>\n",
       "      <td>0.333333</td>\n",
       "      <td>0.542553</td>\n",
       "      <td>-1.0</td>\n",
       "    </tr>\n",
       "    <tr>\n",
       "      <th>3</th>\n",
       "      <td>0</td>\n",
       "      <td>1</td>\n",
       "      <td>1</td>\n",
       "      <td>0</td>\n",
       "      <td>-0.296296</td>\n",
       "      <td>0.000000</td>\n",
       "      <td>1.645517</td>\n",
       "      <td>-1.115385</td>\n",
       "      <td>1.646104</td>\n",
       "      <td>-2.053894</td>\n",
       "      <td>-0.444444</td>\n",
       "      <td>-2.053819</td>\n",
       "      <td>-0.051622</td>\n",
       "      <td>-0.423077</td>\n",
       "      <td>-0.052459</td>\n",
       "      <td>-1.057143</td>\n",
       "      <td>1.000000</td>\n",
       "      <td>-1.063830</td>\n",
       "      <td>1.0</td>\n",
       "    </tr>\n",
       "    <tr>\n",
       "      <th>4</th>\n",
       "      <td>0</td>\n",
       "      <td>1</td>\n",
       "      <td>1</td>\n",
       "      <td>0</td>\n",
       "      <td>-0.462963</td>\n",
       "      <td>0.000000</td>\n",
       "      <td>-0.184828</td>\n",
       "      <td>0.500000</td>\n",
       "      <td>-0.185065</td>\n",
       "      <td>-0.778147</td>\n",
       "      <td>0.814815</td>\n",
       "      <td>-0.777778</td>\n",
       "      <td>-0.199115</td>\n",
       "      <td>0.807692</td>\n",
       "      <td>-0.200000</td>\n",
       "      <td>-0.057143</td>\n",
       "      <td>-0.333333</td>\n",
       "      <td>-0.053191</td>\n",
       "      <td>2.0</td>\n",
       "    </tr>\n",
       "  </tbody>\n",
       "</table>\n",
       "</div>"
      ],
      "text/plain": [
       "   internationalplan_no  internationalplan_yes  voicemailplan_no  \\\n",
       "0                     1                      0                 0   \n",
       "1                     1                      0                 0   \n",
       "2                     1                      0                 1   \n",
       "3                     0                      1                 1   \n",
       "4                     0                      1                 1   \n",
       "\n",
       "   voicemailplan_yes  accountlength  numbervmailmessages  totaldayminutes  \\\n",
       "0                  1       0.518519             1.470588         1.172414   \n",
       "1                  1       0.129630             1.529412        -0.255172   \n",
       "2                  0       0.685185             0.000000         0.873103   \n",
       "3                  0      -0.296296             0.000000         1.645517   \n",
       "4                  0      -0.462963             0.000000        -0.184828   \n",
       "\n",
       "   totaldaycalls  totaldaycharge  totaleveminutes  totalevecalls  \\\n",
       "0       0.384615        1.172890        -0.053156      -0.037037   \n",
       "1       0.884615       -0.255682        -0.081211       0.111111   \n",
       "2       0.538462        0.873377        -1.178295       0.370370   \n",
       "3      -1.115385        1.646104        -2.053894      -0.444444   \n",
       "4       0.500000       -0.185065        -0.778147       0.814815   \n",
       "\n",
       "   totalevecharge  totalnightminutes  totalnightcalls  totalnightcharge  \\\n",
       "0       -0.053819           0.653392        -0.346154          0.652459   \n",
       "1       -0.081597           0.796460         0.115385          0.796721   \n",
       "2       -1.178819          -0.557522         0.153846         -0.557377   \n",
       "3       -2.053819          -0.051622        -0.423077         -0.052459   \n",
       "4       -0.777778          -0.199115         0.807692         -0.200000   \n",
       "\n",
       "   totalintlminutes  totalintlcalls  totalintlcharge  \\\n",
       "0         -0.085714       -0.333333        -0.085106   \n",
       "1          0.971429       -0.333333         0.978723   \n",
       "2          0.542857        0.333333         0.542553   \n",
       "3         -1.057143        1.000000        -1.063830   \n",
       "4         -0.057143       -0.333333        -0.053191   \n",
       "\n",
       "   numbercustomerservicecalls  \n",
       "0                         0.0  \n",
       "1                         0.0  \n",
       "2                        -1.0  \n",
       "3                         1.0  \n",
       "4                         2.0  "
      ]
     },
     "execution_count": 15,
     "metadata": {},
     "output_type": "execute_result"
    }
   ],
   "source": [
    "# Merging with the original data frame\n",
    "# Preparing the X variables\n",
    "X = pd.concat([catDF, numDF], axis=1)\n",
    "print(X.shape)\n",
    "# Preparing the Y variable\n",
    "Y = df['churn']\n",
    "# Tree models have trouble turning strings to float to labeling the target variable so there is a complete feature matrix\n",
    "Y = Y.replace(to_replace=['No','Yes'],value=[0,1])\n",
    "print(Y.shape)\n",
    "X.head()"
   ]
  },
  {
   "cell_type": "code",
   "execution_count": 16,
   "metadata": {
    "jupyter": {
     "source_hidden": true
    }
   },
   "outputs": [
    {
     "ename": "NameError",
     "evalue": "name 'rob_scaler' is not defined",
     "output_type": "error",
     "traceback": [
      "\u001b[0;31m---------------------------------------------------------------------------\u001b[0m",
      "\u001b[0;31mNameError\u001b[0m                                 Traceback (most recent call last)",
      "Input \u001b[0;32mIn [16]\u001b[0m, in \u001b[0;36m<cell line: 3>\u001b[0;34m()\u001b[0m\n\u001b[1;32m      1\u001b[0m \u001b[38;5;66;03m# Converting each of the columns to scaled version\u001b[39;00m\n\u001b[0;32m----> 3\u001b[0m df[\u001b[38;5;124m'\u001b[39m\u001b[38;5;124mTotalVisits\u001b[39m\u001b[38;5;124m'\u001b[39m] \u001b[38;5;241m=\u001b[39m \u001b[43mrob_scaler\u001b[49m\u001b[38;5;241m.\u001b[39mfit_transform(df[\u001b[38;5;124m'\u001b[39m\u001b[38;5;124mTotalVisits\u001b[39m\u001b[38;5;124m'\u001b[39m]\u001b[38;5;241m.\u001b[39mvalues\u001b[38;5;241m.\u001b[39mreshape(\u001b[38;5;241m-\u001b[39m\u001b[38;5;241m1\u001b[39m,\u001b[38;5;241m1\u001b[39m))\n\u001b[1;32m      4\u001b[0m df[\u001b[38;5;124m'\u001b[39m\u001b[38;5;124mPage Views Per Visit\u001b[39m\u001b[38;5;124m'\u001b[39m] \u001b[38;5;241m=\u001b[39m rob_scaler\u001b[38;5;241m.\u001b[39mfit_transform(df[\u001b[38;5;124m'\u001b[39m\u001b[38;5;124mPage Views Per Visit\u001b[39m\u001b[38;5;124m'\u001b[39m]\u001b[38;5;241m.\u001b[39mvalues\u001b[38;5;241m.\u001b[39mreshape(\u001b[38;5;241m-\u001b[39m\u001b[38;5;241m1\u001b[39m,\u001b[38;5;241m1\u001b[39m))\n\u001b[1;32m      5\u001b[0m df[\u001b[38;5;124m'\u001b[39m\u001b[38;5;124mTotal Time Spent on Website\u001b[39m\u001b[38;5;124m'\u001b[39m] \u001b[38;5;241m=\u001b[39m rob_scaler\u001b[38;5;241m.\u001b[39mfit_transform(df[\u001b[38;5;124m'\u001b[39m\u001b[38;5;124mTotal Time Spent on Website\u001b[39m\u001b[38;5;124m'\u001b[39m]\u001b[38;5;241m.\u001b[39mvalues\u001b[38;5;241m.\u001b[39mreshape(\u001b[38;5;241m-\u001b[39m\u001b[38;5;241m1\u001b[39m,\u001b[38;5;241m1\u001b[39m))\n",
      "\u001b[0;31mNameError\u001b[0m: name 'rob_scaler' is not defined"
     ]
    }
   ],
   "source": [
    "# Converting each of the columns to scaled version\n",
    "\n",
    "df['TotalVisits'] = rob_scaler.fit_transform(df['TotalVisits'].values.reshape(-1,1))\n",
    "df['Page Views Per Visit'] = rob_scaler.fit_transform(df['Page Views Per Visit'].values.reshape(-1,1))\n",
    "df['Total Time Spent on Website'] = rob_scaler.fit_transform(df['Total Time Spent on Website'].values.reshape(-1,1))"
   ]
  },
  {
   "cell_type": "code",
   "execution_count": null,
   "metadata": {
    "jupyter": {
     "source_hidden": true
    }
   },
   "outputs": [],
   "source": [
    "df['TotalVisits'].sample(3)"
   ]
  },
  {
   "cell_type": "code",
   "execution_count": null,
   "metadata": {
    "jupyter": {
     "source_hidden": true
    }
   },
   "outputs": [],
   "source": [
    "# Converting all the categorical variables to dummy variables\n",
    "dfCat = pd.get_dummies(df[['Lead Origin','Lead Source','Do Not Email','Do Not Call','Last Activity','Search','Magazine','Newspaper Article','X Education Forums','Newspaper','Digital Advertisement','Through Recommendations','Receive More Updates About Our Courses','Update me on Supply Chain Content','Get updates on DM Content','I agree to pay the amount through cheque','A free copy of Mastering The Interview','Last Notable Activity']])\n",
    "dfCat.shape"
   ]
  },
  {
   "cell_type": "code",
   "execution_count": null,
   "metadata": {
    "jupyter": {
     "source_hidden": true
    }
   },
   "outputs": [],
   "source": [
    "# Seperating the numerical data\n",
    "dfNum = df[['TotalVisits','Total Time Spent on Website','Page Views Per Visit']]\n",
    "dfNum.shape"
   ]
  },
  {
   "cell_type": "code",
   "execution_count": null,
   "metadata": {
    "jupyter": {
     "source_hidden": true
    }
   },
   "outputs": [],
   "source": [
    "# Merging with the original data frame\n",
    "# Preparing the X variables\n",
    "X = pd.concat([dfCat, dfNum], axis=1)\n",
    "print(X.shape)\n",
    "# Preparing the Y variable\n",
    "Y = df['Converted']\n",
    "print(Y.shape)\n",
    "X.head()"
   ]
  },
  {
   "cell_type": "code",
   "execution_count": 17,
   "metadata": {},
   "outputs": [
    {
     "name": "stdout",
     "output_type": "stream",
     "text": [
      "False\n",
      "0\n"
     ]
    }
   ],
   "source": [
    "print(df.isnull().values.any())\n",
    "print(df.isnull().sum().sum())"
   ]
  },
  {
   "cell_type": "code",
   "execution_count": 18,
   "metadata": {},
   "outputs": [],
   "source": [
    "from sklearn.model_selection import train_test_split\n",
    "# Using train_test_split to Split Data into Training and Testing Data\n",
    "X_train, X_test, y_train, y_test = train_test_split(X, Y, test_size=0.3, random_state=100, stratify=Y)"
   ]
  },
  {
   "cell_type": "code",
   "execution_count": 19,
   "metadata": {},
   "outputs": [
    {
     "data": {
      "text/plain": [
       "array([0.08044264, 0.07753329, 0.02426644, 0.01970038, 0.00690673,\n",
       "       0.02538906, 0.16990805, 0.00964337, 0.17287501, 0.04726982,\n",
       "       0.00712123, 0.0477349 , 0.01752274, 0.00808935, 0.01508305,\n",
       "       0.03838077, 0.04495763, 0.04717761, 0.13999794])"
      ]
     },
     "execution_count": 19,
     "metadata": {},
     "output_type": "execute_result"
    }
   ],
   "source": [
    "# First we build and train our Random Forest Model \n",
    "from sklearn.ensemble import RandomForestClassifier\n",
    "rf = RandomForestClassifier(max_depth=5, random_state=42, n_estimators = 300).fit(X_train, y_train)\n",
    "rf.feature_importances_"
   ]
  },
  {
   "cell_type": "code",
   "execution_count": 20,
   "metadata": {},
   "outputs": [],
   "source": [
    "from sklearn.inspection import permutation_importance\n",
    "r = permutation_importance(rf, X_test, y_test,\n",
    "                           n_repeats=10,\n",
    "                           random_state=0)\n",
    "perm = pd.DataFrame(columns=['AVG_Importance', 'STD_Importance'], index=[i for i in X_train.columns])\n",
    "perm['AVG_Importance'] = r.importances_mean"
   ]
  },
  {
   "cell_type": "code",
   "execution_count": 21,
   "metadata": {},
   "outputs": [
    {
     "name": "stdout",
     "output_type": "stream",
     "text": [
      "                            AVG_Importance STD_Importance\n",
      "internationalplan_no          1.406667e-02            NaN\n",
      "internationalplan_yes         1.386667e-02            NaN\n",
      "voicemailplan_no              3.666667e-03            NaN\n",
      "voicemailplan_yes             2.200000e-03            NaN\n",
      "accountlength                -1.333333e-03            NaN\n",
      "numbervmailmessages           3.600000e-03            NaN\n",
      "totaldayminutes               3.473333e-02            NaN\n",
      "totaldaycalls                -7.333333e-04            NaN\n",
      "totaldaycharge                3.586667e-02            NaN\n",
      "totaleveminutes               3.133333e-03            NaN\n",
      "totalevecalls                 3.330669e-17            NaN\n",
      "totalevecharge                2.733333e-03            NaN\n",
      "totalnightminutes            -6.666667e-04            NaN\n",
      "totalnightcalls              -4.666667e-04            NaN\n",
      "totalnightcharge              5.333333e-04            NaN\n",
      "totalintlminutes              5.733333e-03            NaN\n",
      "totalintlcalls                6.733333e-03            NaN\n",
      "totalintlcharge               1.046667e-02            NaN\n",
      "numbercustomerservicecalls    1.740000e-02            NaN\n"
     ]
    }
   ],
   "source": [
    "print(perm.to_string())"
   ]
  },
  {
   "cell_type": "code",
   "execution_count": 22,
   "metadata": {},
   "outputs": [
    {
     "data": {
      "text/plain": [
       "KNeighborsClassifier()"
      ]
     },
     "execution_count": 22,
     "metadata": {},
     "output_type": "execute_result"
    }
   ],
   "source": [
    "from sklearn.neighbors import KNeighborsClassifier\n",
    "kn = KNeighborsClassifier()\n",
    "kn.fit(X,Y)"
   ]
  },
  {
   "cell_type": "code",
   "execution_count": 23,
   "metadata": {},
   "outputs": [],
   "source": [
    "results = permutation_importance(kn, X_test, y_test, n_repeats=10, random_state=0)"
   ]
  },
  {
   "cell_type": "code",
   "execution_count": 24,
   "metadata": {},
   "outputs": [
    {
     "name": "stdout",
     "output_type": "stream",
     "text": [
      "Feature: 0  Score: -0.00640000000000005\n",
      "Feature: 1  Score: -0.006333333333333369\n",
      "Feature: 2  Score: -0.004066666666666696\n",
      "Feature: 3  Score: -0.003800000000000059\n",
      "Feature: 4  Score: -0.0037333333333333884\n",
      "Feature: 5  Score: -0.0017333333333333645\n",
      "Feature: 6  Score: -0.0008666666666666933\n",
      "Feature: 7  Score: 0.0006666666666666043\n",
      "Feature: 8  Score: 0.0006666666666666043\n",
      "Feature: 9  Score: 0.0017999999999999462\n",
      "Feature: 10  Score: 0.0023999999999999577\n",
      "Feature: 11  Score: 0.0025333333333332876\n",
      "Feature: 12  Score: 0.00459999999999996\n",
      "Feature: 13  Score: 0.005199999999999971\n",
      "Feature: 14  Score: 0.005199999999999971\n",
      "Feature: 15  Score: 0.0067999999999999615\n",
      "Feature: 16  Score: 0.028133333333333323\n",
      "Feature: 17  Score: 0.028133333333333323\n",
      "Feature: 18  Score: 0.036733333333333305\n"
     ]
    },
    {
     "data": {
      "image/png": "[encoded data removed]",
      "text/plain": [
       "<Figure size 432x288 with 1 Axes>"
      ]
     },
     "metadata": {
      "needs_background": "light"
     },
     "output_type": "display_data"
    }
   ],
   "source": [
    "from matplotlib import pyplot\n",
    "\n",
    "# get importance\n",
    "importance = results.importances_mean\n",
    "importance=np.sort(importance)\n",
    "# summarize feature importance\n",
    "for i,v in enumerate(importance):\n",
    "    print('Feature: {}  Score: {}' .format(i,v))\n",
    "# plot feature importance\n",
    "pyplot.bar([x for x in range(len(importance))] ,importance)\n",
    "pyplot.show()"
   ]
  },
  {
   "cell_type": "code",
   "execution_count": 25,
   "metadata": {},
   "outputs": [
    {
     "name": "stdout",
     "output_type": "stream",
     "text": [
      "internationalplan_no -0.00640000000000005\n",
      "internationalplan_yes -0.006333333333333369\n",
      "voicemailplan_no -0.004066666666666696\n",
      "voicemailplan_yes -0.003800000000000059\n",
      "accountlength -0.0037333333333333884\n",
      "numbervmailmessages -0.0017333333333333645\n",
      "totaldayminutes -0.0008666666666666933\n",
      "totaldaycalls 0.0006666666666666043\n",
      "totaldaycharge 0.0006666666666666043\n",
      "totaleveminutes 0.0017999999999999462\n",
      "totalevecalls 0.0023999999999999577\n",
      "totalevecharge 0.0025333333333332876\n",
      "totalnightminutes 0.00459999999999996\n",
      "totalnightcalls 0.005199999999999971\n",
      "totalnightcharge 0.005199999999999971\n",
      "totalintlminutes 0.0067999999999999615\n",
      "totalintlcalls 0.028133333333333323\n",
      "totalintlcharge 0.028133333333333323\n",
      "numbercustomerservicecalls 0.036733333333333305\n"
     ]
    },
    {
     "data": {
      "image/png": "[encoded data removed]",
      "text/plain": [
       "<Figure size 432x288 with 1 Axes>"
      ]
     },
     "metadata": {},
     "output_type": "display_data"
    }
   ],
   "source": [
    "# Create lists\n",
    "column_labels = X.columns.tolist()\n",
    "# coef = importance\n",
    "\n",
    "# Zip together\n",
    "labels_importance = list(zip(column_labels, importance))\n",
    "# Sort them\n",
    "labels_importance.sort(key=lambda y: y[1])\n",
    "\n",
    "# Verify the result\n",
    "# print(labels_coef)\n",
    "for x in labels_importance:\n",
    "    print(x[0], x[1])\n",
    "    # print(\"Feature : {} has score  : {} \".format(index,val))\n",
    "# for index,val in enumerate(importance):\n",
    "#    print(\"Feature : {} has score  : {} \".format(index,val))\n",
    "    \n",
    "#plotting the features and their score in ascending order\n",
    "sns.set_style(\"darkgrid\")\n",
    "plt.bar([i for i in range (len(importance))],importance)\n",
    "plt.show()"
   ]
  },
  {
   "cell_type": "code",
   "execution_count": 26,
   "metadata": {},
   "outputs": [],
   "source": [
    "# Coefficient as feature importance - Logistic Regression / Linear Regression or Regularization"
   ]
  },
  {
   "cell_type": "code",
   "execution_count": 27,
   "metadata": {},
   "outputs": [
    {
     "data": {
      "text/plain": [
       "array([-1.0434809 , -0.94723482, -0.21527153, -0.04139081, -0.04026367,\n",
       "        0.06741511,  0.07531676,  0.13109155,  0.14180777,  0.14919747,\n",
       "        0.1611474 ,  0.23945351,  0.24275205,  0.46263104,  0.48888544,\n",
       "        0.50135129,  0.51647076,  0.94716849,  1.04341456])"
      ]
     },
     "execution_count": 27,
     "metadata": {},
     "output_type": "execute_result"
    }
   ],
   "source": [
    "model = LogisticRegression()\n",
    "model.fit(X,Y)\n",
    "importance = model.coef_[0]\n",
    "importance = np.sort(importance)\n",
    "importance"
   ]
  },
  {
   "cell_type": "code",
   "execution_count": 28,
   "metadata": {},
   "outputs": [
    {
     "name": "stdout",
     "output_type": "stream",
     "text": [
      "Feature : 0 has score  : -1.0434808951960952 \n",
      "Feature : 1 has score  : -0.94723481678266 \n",
      "Feature : 2 has score  : -0.21527152908933553 \n",
      "Feature : 3 has score  : -0.041390808828847644 \n",
      "Feature : 4 has score  : -0.040263667201358426 \n",
      "Feature : 5 has score  : 0.06741511096446874 \n",
      "Feature : 6 has score  : 0.07531676104191888 \n",
      "Feature : 7 has score  : 0.1310915503517227 \n",
      "Feature : 8 has score  : 0.141807767594883 \n",
      "Feature : 9 has score  : 0.14919746913649123 \n",
      "Feature : 10 has score  : 0.1611473978938459 \n",
      "Feature : 11 has score  : 0.23945351472357443 \n",
      "Feature : 12 has score  : 0.24275205454398277 \n",
      "Feature : 13 has score  : 0.4626310449044274 \n",
      "Feature : 14 has score  : 0.48888543564517584 \n",
      "Feature : 15 has score  : 0.5013512890208941 \n",
      "Feature : 16 has score  : 0.5164707643147288 \n",
      "Feature : 17 has score  : 0.9471684850735964 \n",
      "Feature : 18 has score  : 1.043414563487047 \n"
     ]
    }
   ],
   "source": [
    "for index,val in enumerate(importance):\n",
    "    print(\"Feature : {} has score  : {} \".format(index,val))"
   ]
  },
  {
   "cell_type": "code",
   "execution_count": 29,
   "metadata": {},
   "outputs": [
    {
     "name": "stdout",
     "output_type": "stream",
     "text": [
      "internationalplan_no -1.0434808951960952\n",
      "internationalplan_yes -0.94723481678266\n",
      "voicemailplan_no -0.21527152908933553\n",
      "voicemailplan_yes -0.041390808828847644\n",
      "accountlength -0.040263667201358426\n",
      "numbervmailmessages 0.06741511096446874\n",
      "totaldayminutes 0.07531676104191888\n",
      "totaldaycalls 0.1310915503517227\n",
      "totaldaycharge 0.141807767594883\n",
      "totaleveminutes 0.14919746913649123\n",
      "totalevecalls 0.1611473978938459\n",
      "totalevecharge 0.23945351472357443\n",
      "totalnightminutes 0.24275205454398277\n",
      "totalnightcalls 0.4626310449044274\n",
      "totalnightcharge 0.48888543564517584\n",
      "totalintlminutes 0.5013512890208941\n",
      "totalintlcalls 0.5164707643147288\n",
      "totalintlcharge 0.9471684850735964\n",
      "numbercustomerservicecalls 1.043414563487047\n"
     ]
    },
    {
     "data": {
      "image/png": "[encoded data removed]",
      "text/plain": [
       "<Figure size 432x288 with 1 Axes>"
      ]
     },
     "metadata": {},
     "output_type": "display_data"
    }
   ],
   "source": [
    "# Create lists\n",
    "column_labels = X.columns.tolist()\n",
    "# coef = importance\n",
    "\n",
    "# Zip together\n",
    "labels_importance = list(zip(column_labels, importance))\n",
    "# Sort them\n",
    "labels_importance.sort(key=lambda y: y[1])\n",
    "\n",
    "# Verify the result\n",
    "# print(labels_coef)\n",
    "for x in labels_importance:\n",
    "    print(x[0], x[1])\n",
    "    # print(\"Feature : {} has score  : {} \".format(index,val))\n",
    "# for index,val in enumerate(importance):\n",
    "#    print(\"Feature : {} has score  : {} \".format(index,val))\n",
    "    \n",
    "#plotting the features and their score in ascending order\n",
    "sns.set_style(\"darkgrid\")\n",
    "plt.bar([i for i in range (len(importance))],importance)\n",
    "plt.show()"
   ]
  },
  {
   "cell_type": "code",
   "execution_count": 30,
   "metadata": {},
   "outputs": [
    {
     "data": {
      "image/png": "[encoded data removed]",
      "text/plain": [
       "<Figure size 432x288 with 1 Axes>"
      ]
     },
     "metadata": {},
     "output_type": "display_data"
    }
   ],
   "source": [
    "from sklearn.datasets import make_regression\n",
    "from sklearn.linear_model import LinearRegression\n",
    "import matplotlib.pyplot as plt\n",
    "import seaborn as sns\n",
    "X, y = make_regression(n_samples=1000, n_features=10, n_informative=5, random_state=1)\n",
    "model=LinearRegression()\n",
    "model.fit(X,y)\n",
    "importance=model.coef_\n",
    "importance=np.sort(importance)\n",
    "#plotting the features and their score in ascending order\n",
    "sns.set_style(\"darkgrid\")\n",
    "plt.bar([i for i in range (len(importance))],importance)\n",
    "plt.show()"
   ]
  },
  {
   "cell_type": "code",
   "execution_count": 31,
   "metadata": {},
   "outputs": [],
   "source": [
    "# Feature Importance with Decision Trees (CARTS)"
   ]
  },
  {
   "cell_type": "code",
   "execution_count": 32,
   "metadata": {},
   "outputs": [
    {
     "name": "stdout",
     "output_type": "stream",
     "text": [
      "(5000, 19)\n",
      "(5000,)\n"
     ]
    },
    {
     "data": {
      "text/html": [
       "<div>\n",
       "<style scoped>\n",
       "    .dataframe tbody tr th:only-of-type {\n",
       "        vertical-align: middle;\n",
       "    }\n",
       "\n",
       "    .dataframe tbody tr th {\n",
       "        vertical-align: top;\n",
       "    }\n",
       "\n",
       "    .dataframe thead th {\n",
       "        text-align: right;\n",
       "    }\n",
       "</style>\n",
       "<table border=\"1\" class=\"dataframe\">\n",
       "  <thead>\n",
       "    <tr style=\"text-align: right;\">\n",
       "      <th></th>\n",
       "      <th>internationalplan_no</th>\n",
       "      <th>internationalplan_yes</th>\n",
       "      <th>voicemailplan_no</th>\n",
       "      <th>voicemailplan_yes</th>\n",
       "      <th>accountlength</th>\n",
       "      <th>numbervmailmessages</th>\n",
       "      <th>totaldayminutes</th>\n",
       "      <th>totaldaycalls</th>\n",
       "      <th>totaldaycharge</th>\n",
       "      <th>totaleveminutes</th>\n",
       "      <th>totalevecalls</th>\n",
       "      <th>totalevecharge</th>\n",
       "      <th>totalnightminutes</th>\n",
       "      <th>totalnightcalls</th>\n",
       "      <th>totalnightcharge</th>\n",
       "      <th>totalintlminutes</th>\n",
       "      <th>totalintlcalls</th>\n",
       "      <th>totalintlcharge</th>\n",
       "      <th>numbercustomerservicecalls</th>\n",
       "    </tr>\n",
       "  </thead>\n",
       "  <tbody>\n",
       "    <tr>\n",
       "      <th>0</th>\n",
       "      <td>1</td>\n",
       "      <td>0</td>\n",
       "      <td>0</td>\n",
       "      <td>1</td>\n",
       "      <td>0.518519</td>\n",
       "      <td>1.470588</td>\n",
       "      <td>1.172414</td>\n",
       "      <td>0.384615</td>\n",
       "      <td>1.172890</td>\n",
       "      <td>-0.053156</td>\n",
       "      <td>-0.037037</td>\n",
       "      <td>-0.053819</td>\n",
       "      <td>0.653392</td>\n",
       "      <td>-0.346154</td>\n",
       "      <td>0.652459</td>\n",
       "      <td>-0.085714</td>\n",
       "      <td>-0.333333</td>\n",
       "      <td>-0.085106</td>\n",
       "      <td>0.0</td>\n",
       "    </tr>\n",
       "    <tr>\n",
       "      <th>1</th>\n",
       "      <td>1</td>\n",
       "      <td>0</td>\n",
       "      <td>0</td>\n",
       "      <td>1</td>\n",
       "      <td>0.129630</td>\n",
       "      <td>1.529412</td>\n",
       "      <td>-0.255172</td>\n",
       "      <td>0.884615</td>\n",
       "      <td>-0.255682</td>\n",
       "      <td>-0.081211</td>\n",
       "      <td>0.111111</td>\n",
       "      <td>-0.081597</td>\n",
       "      <td>0.796460</td>\n",
       "      <td>0.115385</td>\n",
       "      <td>0.796721</td>\n",
       "      <td>0.971429</td>\n",
       "      <td>-0.333333</td>\n",
       "      <td>0.978723</td>\n",
       "      <td>0.0</td>\n",
       "    </tr>\n",
       "    <tr>\n",
       "      <th>2</th>\n",
       "      <td>1</td>\n",
       "      <td>0</td>\n",
       "      <td>1</td>\n",
       "      <td>0</td>\n",
       "      <td>0.685185</td>\n",
       "      <td>0.000000</td>\n",
       "      <td>0.873103</td>\n",
       "      <td>0.538462</td>\n",
       "      <td>0.873377</td>\n",
       "      <td>-1.178295</td>\n",
       "      <td>0.370370</td>\n",
       "      <td>-1.178819</td>\n",
       "      <td>-0.557522</td>\n",
       "      <td>0.153846</td>\n",
       "      <td>-0.557377</td>\n",
       "      <td>0.542857</td>\n",
       "      <td>0.333333</td>\n",
       "      <td>0.542553</td>\n",
       "      <td>-1.0</td>\n",
       "    </tr>\n",
       "    <tr>\n",
       "      <th>3</th>\n",
       "      <td>0</td>\n",
       "      <td>1</td>\n",
       "      <td>1</td>\n",
       "      <td>0</td>\n",
       "      <td>-0.296296</td>\n",
       "      <td>0.000000</td>\n",
       "      <td>1.645517</td>\n",
       "      <td>-1.115385</td>\n",
       "      <td>1.646104</td>\n",
       "      <td>-2.053894</td>\n",
       "      <td>-0.444444</td>\n",
       "      <td>-2.053819</td>\n",
       "      <td>-0.051622</td>\n",
       "      <td>-0.423077</td>\n",
       "      <td>-0.052459</td>\n",
       "      <td>-1.057143</td>\n",
       "      <td>1.000000</td>\n",
       "      <td>-1.063830</td>\n",
       "      <td>1.0</td>\n",
       "    </tr>\n",
       "    <tr>\n",
       "      <th>4</th>\n",
       "      <td>0</td>\n",
       "      <td>1</td>\n",
       "      <td>1</td>\n",
       "      <td>0</td>\n",
       "      <td>-0.462963</td>\n",
       "      <td>0.000000</td>\n",
       "      <td>-0.184828</td>\n",
       "      <td>0.500000</td>\n",
       "      <td>-0.185065</td>\n",
       "      <td>-0.778147</td>\n",
       "      <td>0.814815</td>\n",
       "      <td>-0.777778</td>\n",
       "      <td>-0.199115</td>\n",
       "      <td>0.807692</td>\n",
       "      <td>-0.200000</td>\n",
       "      <td>-0.057143</td>\n",
       "      <td>-0.333333</td>\n",
       "      <td>-0.053191</td>\n",
       "      <td>2.0</td>\n",
       "    </tr>\n",
       "  </tbody>\n",
       "</table>\n",
       "</div>"
      ],
      "text/plain": [
       "   internationalplan_no  internationalplan_yes  voicemailplan_no  \\\n",
       "0                     1                      0                 0   \n",
       "1                     1                      0                 0   \n",
       "2                     1                      0                 1   \n",
       "3                     0                      1                 1   \n",
       "4                     0                      1                 1   \n",
       "\n",
       "   voicemailplan_yes  accountlength  numbervmailmessages  totaldayminutes  \\\n",
       "0                  1       0.518519             1.470588         1.172414   \n",
       "1                  1       0.129630             1.529412        -0.255172   \n",
       "2                  0       0.685185             0.000000         0.873103   \n",
       "3                  0      -0.296296             0.000000         1.645517   \n",
       "4                  0      -0.462963             0.000000        -0.184828   \n",
       "\n",
       "   totaldaycalls  totaldaycharge  totaleveminutes  totalevecalls  \\\n",
       "0       0.384615        1.172890        -0.053156      -0.037037   \n",
       "1       0.884615       -0.255682        -0.081211       0.111111   \n",
       "2       0.538462        0.873377        -1.178295       0.370370   \n",
       "3      -1.115385        1.646104        -2.053894      -0.444444   \n",
       "4       0.500000       -0.185065        -0.778147       0.814815   \n",
       "\n",
       "   totalevecharge  totalnightminutes  totalnightcalls  totalnightcharge  \\\n",
       "0       -0.053819           0.653392        -0.346154          0.652459   \n",
       "1       -0.081597           0.796460         0.115385          0.796721   \n",
       "2       -1.178819          -0.557522         0.153846         -0.557377   \n",
       "3       -2.053819          -0.051622        -0.423077         -0.052459   \n",
       "4       -0.777778          -0.199115         0.807692         -0.200000   \n",
       "\n",
       "   totalintlminutes  totalintlcalls  totalintlcharge  \\\n",
       "0         -0.085714       -0.333333        -0.085106   \n",
       "1          0.971429       -0.333333         0.978723   \n",
       "2          0.542857        0.333333         0.542553   \n",
       "3         -1.057143        1.000000        -1.063830   \n",
       "4         -0.057143       -0.333333        -0.053191   \n",
       "\n",
       "   numbercustomerservicecalls  \n",
       "0                         0.0  \n",
       "1                         0.0  \n",
       "2                        -1.0  \n",
       "3                         1.0  \n",
       "4                         2.0  "
      ]
     },
     "execution_count": 32,
     "metadata": {},
     "output_type": "execute_result"
    }
   ],
   "source": [
    "# Merging with the original data frame\n",
    "# Preparing the X variables\n",
    "X = pd.concat([catDF, numDF], axis=1)\n",
    "print(X.shape)\n",
    "# Preparing the Y variable\n",
    "Y = df['churn']\n",
    "print(Y.shape)\n",
    "X.head()"
   ]
  },
  {
   "cell_type": "code",
   "execution_count": 33,
   "metadata": {},
   "outputs": [],
   "source": [
    "# Tree models have trouble turning strings to float to labeling the target variable so there is a complete feature matrix\n",
    "Y = Y.replace(to_replace=['No','Yes'],value=[0,1])"
   ]
  },
  {
   "cell_type": "code",
   "execution_count": 34,
   "metadata": {},
   "outputs": [
    {
     "name": "stdout",
     "output_type": "stream",
     "text": [
      "Feature: 0, Score: 0.003599574625859644\n",
      "Feature: 1, Score: 0.010094827718363572\n",
      "Feature: 2, Score: 0.013942355159112714\n",
      "Feature: 3, Score: 0.014154434993955146\n",
      "Feature: 4, Score: 0.019028738068915783\n",
      "Feature: 5, Score: 0.01992826254667845\n",
      "Feature: 6, Score: 0.02215212980574775\n",
      "Feature: 7, Score: 0.024679001655610454\n",
      "Feature: 8, Score: 0.030343720207286158\n",
      "Feature: 9, Score: 0.03494065489968491\n",
      "Feature: 10, Score: 0.04094021162637725\n",
      "Feature: 11, Score: 0.04982760163600826\n",
      "Feature: 12, Score: 0.06421712077912782\n",
      "Feature: 13, Score: 0.07702669820528482\n",
      "Feature: 14, Score: 0.09771415981298774\n",
      "Feature: 15, Score: 0.10526619562550936\n",
      "Feature: 16, Score: 0.11026099851150324\n",
      "Feature: 17, Score: 0.12099405642971889\n",
      "Feature: 18, Score: 0.14088925769226784\n"
     ]
    },
    {
     "data": {
      "image/png": "[encoded data removed]",
      "text/plain": [
       "<Figure size 432x288 with 1 Axes>"
      ]
     },
     "metadata": {},
     "output_type": "display_data"
    }
   ],
   "source": [
    "from sklearn.tree import DecisionTreeRegressor\n",
    "model = DecisionTreeRegressor()\n",
    "model.fit(X,Y)\n",
    "importance = model.feature_importances_\n",
    "importance = np.sort(importance)\n",
    "# summarize feature importance\n",
    "for i,v in enumerate(importance):\n",
    "    print('Feature: {}, Score: {}'.format(i,v))\n",
    "# plot feature importance\n",
    "plt.bar([x for x in range(len(importance))], importance)\n",
    "plt.show()"
   ]
  },
  {
   "cell_type": "code",
   "execution_count": 35,
   "metadata": {},
   "outputs": [
    {
     "name": "stdout",
     "output_type": "stream",
     "text": [
      "internationalplan_no 0.003599574625859644\n",
      "internationalplan_yes 0.010094827718363572\n",
      "voicemailplan_no 0.013942355159112714\n",
      "voicemailplan_yes 0.014154434993955146\n",
      "accountlength 0.019028738068915783\n",
      "numbervmailmessages 0.01992826254667845\n",
      "totaldayminutes 0.02215212980574775\n",
      "totaldaycalls 0.024679001655610454\n",
      "totaldaycharge 0.030343720207286158\n",
      "totaleveminutes 0.03494065489968491\n",
      "totalevecalls 0.04094021162637725\n",
      "totalevecharge 0.04982760163600826\n",
      "totalnightminutes 0.06421712077912782\n",
      "totalnightcalls 0.07702669820528482\n",
      "totalnightcharge 0.09771415981298774\n",
      "totalintlminutes 0.10526619562550936\n",
      "totalintlcalls 0.11026099851150324\n",
      "totalintlcharge 0.12099405642971889\n",
      "numbercustomerservicecalls 0.14088925769226784\n"
     ]
    },
    {
     "data": {
      "image/png": "[encoded data removed]",
      "text/plain": [
       "<Figure size 432x288 with 1 Axes>"
      ]
     },
     "metadata": {},
     "output_type": "display_data"
    }
   ],
   "source": [
    "# Create lists\n",
    "column_labels = X.columns.tolist()\n",
    "# coef = importance\n",
    "\n",
    "# Zip together\n",
    "labels_importance = list(zip(column_labels, importance))\n",
    "# Sort them\n",
    "labels_importance.sort(key=lambda y: y[1])\n",
    "\n",
    "# Verify the result\n",
    "# print(labels_coef)\n",
    "for x in labels_importance:\n",
    "    print(x[0], x[1])\n",
    "    # print(\"Feature : {} has score  : {} \".format(index,val))\n",
    "# for index,val in enumerate(importance):\n",
    "#    print(\"Feature : {} has score  : {} \".format(index,val))\n",
    "    \n",
    "#plotting the features and their score in ascending order\n",
    "sns.set_style(\"darkgrid\")\n",
    "plt.bar([i for i in range (len(importance))],importance)\n",
    "plt.show()"
   ]
  },
  {
   "cell_type": "code",
   "execution_count": 36,
   "metadata": {},
   "outputs": [],
   "source": [
    "# Correlation"
   ]
  },
  {
   "cell_type": "code",
   "execution_count": 37,
   "metadata": {},
   "outputs": [
    {
     "data": {
      "text/html": [
       "<div>\n",
       "<style scoped>\n",
       "    .dataframe tbody tr th:only-of-type {\n",
       "        vertical-align: middle;\n",
       "    }\n",
       "\n",
       "    .dataframe tbody tr th {\n",
       "        vertical-align: top;\n",
       "    }\n",
       "\n",
       "    .dataframe thead th {\n",
       "        text-align: right;\n",
       "    }\n",
       "</style>\n",
       "<table border=\"1\" class=\"dataframe\">\n",
       "  <thead>\n",
       "    <tr style=\"text-align: right;\">\n",
       "      <th></th>\n",
       "      <th>churn</th>\n",
       "      <th>accountlength</th>\n",
       "      <th>internationalplan</th>\n",
       "      <th>voicemailplan</th>\n",
       "      <th>numbervmailmessages</th>\n",
       "      <th>totaldayminutes</th>\n",
       "      <th>totaldaycalls</th>\n",
       "      <th>totaldaycharge</th>\n",
       "      <th>totaleveminutes</th>\n",
       "      <th>totalevecalls</th>\n",
       "      <th>totalevecharge</th>\n",
       "      <th>totalnightminutes</th>\n",
       "      <th>totalnightcalls</th>\n",
       "      <th>totalnightcharge</th>\n",
       "      <th>totalintlminutes</th>\n",
       "      <th>totalintlcalls</th>\n",
       "      <th>totalintlcharge</th>\n",
       "      <th>numbercustomerservicecalls</th>\n",
       "    </tr>\n",
       "  </thead>\n",
       "  <tbody>\n",
       "    <tr>\n",
       "      <th>0</th>\n",
       "      <td>No</td>\n",
       "      <td>128</td>\n",
       "      <td>no</td>\n",
       "      <td>yes</td>\n",
       "      <td>25</td>\n",
       "      <td>265.1</td>\n",
       "      <td>110</td>\n",
       "      <td>45.07</td>\n",
       "      <td>197.4</td>\n",
       "      <td>99</td>\n",
       "      <td>16.78</td>\n",
       "      <td>244.7</td>\n",
       "      <td>91</td>\n",
       "      <td>11.01</td>\n",
       "      <td>10.0</td>\n",
       "      <td>3</td>\n",
       "      <td>2.7</td>\n",
       "      <td>1</td>\n",
       "    </tr>\n",
       "  </tbody>\n",
       "</table>\n",
       "</div>"
      ],
      "text/plain": [
       "  churn  accountlength internationalplan voicemailplan  numbervmailmessages  \\\n",
       "0    No            128                no           yes                   25   \n",
       "\n",
       "   totaldayminutes  totaldaycalls  totaldaycharge  totaleveminutes  \\\n",
       "0            265.1            110           45.07            197.4   \n",
       "\n",
       "   totalevecalls  totalevecharge  totalnightminutes  totalnightcalls  \\\n",
       "0             99           16.78              244.7               91   \n",
       "\n",
       "   totalnightcharge  totalintlminutes  totalintlcalls  totalintlcharge  \\\n",
       "0             11.01              10.0               3              2.7   \n",
       "\n",
       "   numbercustomerservicecalls  \n",
       "0                           1  "
      ]
     },
     "execution_count": 37,
     "metadata": {},
     "output_type": "execute_result"
    }
   ],
   "source": [
    "df.head(1)"
   ]
  },
  {
   "cell_type": "code",
   "execution_count": 38,
   "metadata": {},
   "outputs": [
    {
     "ename": "KeyError",
     "evalue": "'churn'",
     "output_type": "error",
     "traceback": [
      "\u001b[0;31m---------------------------------------------------------------------------\u001b[0m",
      "\u001b[0;31mKeyError\u001b[0m                                  Traceback (most recent call last)",
      "File \u001b[0;32m~/tensorflow-test/env/lib/python3.8/site-packages/pandas/core/indexes/base.py:3621\u001b[0m, in \u001b[0;36mIndex.get_loc\u001b[0;34m(self, key, method, tolerance)\u001b[0m\n\u001b[1;32m   3620\u001b[0m \u001b[38;5;28;01mtry\u001b[39;00m:\n\u001b[0;32m-> 3621\u001b[0m     \u001b[38;5;28;01mreturn\u001b[39;00m \u001b[38;5;28;43mself\u001b[39;49m\u001b[38;5;241;43m.\u001b[39;49m\u001b[43m_engine\u001b[49m\u001b[38;5;241;43m.\u001b[39;49m\u001b[43mget_loc\u001b[49m\u001b[43m(\u001b[49m\u001b[43mcasted_key\u001b[49m\u001b[43m)\u001b[49m\n\u001b[1;32m   3622\u001b[0m \u001b[38;5;28;01mexcept\u001b[39;00m \u001b[38;5;167;01mKeyError\u001b[39;00m \u001b[38;5;28;01mas\u001b[39;00m err:\n",
      "File \u001b[0;32m~/tensorflow-test/env/lib/python3.8/site-packages/pandas/_libs/index.pyx:136\u001b[0m, in \u001b[0;36mpandas._libs.index.IndexEngine.get_loc\u001b[0;34m()\u001b[0m\n",
      "File \u001b[0;32m~/tensorflow-test/env/lib/python3.8/site-packages/pandas/_libs/index.pyx:163\u001b[0m, in \u001b[0;36mpandas._libs.index.IndexEngine.get_loc\u001b[0;34m()\u001b[0m\n",
      "File \u001b[0;32mpandas/_libs/hashtable_class_helper.pxi:5198\u001b[0m, in \u001b[0;36mpandas._libs.hashtable.PyObjectHashTable.get_item\u001b[0;34m()\u001b[0m\n",
      "File \u001b[0;32mpandas/_libs/hashtable_class_helper.pxi:5206\u001b[0m, in \u001b[0;36mpandas._libs.hashtable.PyObjectHashTable.get_item\u001b[0;34m()\u001b[0m\n",
      "\u001b[0;31mKeyError\u001b[0m: 'churn'",
      "\nThe above exception was the direct cause of the following exception:\n",
      "\u001b[0;31mKeyError\u001b[0m                                  Traceback (most recent call last)",
      "Input \u001b[0;32mIn [38]\u001b[0m, in \u001b[0;36m<cell line: 3>\u001b[0;34m()\u001b[0m\n\u001b[1;32m      1\u001b[0m \u001b[38;5;66;03m# correlation between target and features\u001b[39;00m\n\u001b[1;32m      2\u001b[0m df \u001b[38;5;241m=\u001b[39m pd\u001b[38;5;241m.\u001b[39mread_csv(\u001b[38;5;124m\"\u001b[39m\u001b[38;5;124mhttps://raw.githubusercontent.com/fenago/datasets/main/churn.csv\u001b[39m\u001b[38;5;124m\"\u001b[39m)\n\u001b[0;32m----> 3\u001b[0m (\u001b[43mdf\u001b[49m\u001b[38;5;241;43m.\u001b[39;49m\u001b[43mcorr\u001b[49m\u001b[43m(\u001b[49m\u001b[43m)\u001b[49m\u001b[38;5;241;43m.\u001b[39;49m\u001b[43mloc\u001b[49m\u001b[43m[\u001b[49m\u001b[38;5;124;43m'\u001b[39;49m\u001b[38;5;124;43mchurn\u001b[39;49m\u001b[38;5;124;43m'\u001b[39;49m\u001b[43m]\u001b[49m\u001b[38;5;241m.\u001b[39mplot(kind\u001b[38;5;241m=\u001b[39m\u001b[38;5;124m'\u001b[39m\u001b[38;5;124mbarh\u001b[39m\u001b[38;5;124m'\u001b[39m, figsize\u001b[38;5;241m=\u001b[39m(\u001b[38;5;241m4\u001b[39m,\u001b[38;5;241m10\u001b[39m)))\n",
      "File \u001b[0;32m~/tensorflow-test/env/lib/python3.8/site-packages/pandas/core/indexing.py:967\u001b[0m, in \u001b[0;36m_LocationIndexer.__getitem__\u001b[0;34m(self, key)\u001b[0m\n\u001b[1;32m    964\u001b[0m axis \u001b[38;5;241m=\u001b[39m \u001b[38;5;28mself\u001b[39m\u001b[38;5;241m.\u001b[39maxis \u001b[38;5;129;01mor\u001b[39;00m \u001b[38;5;241m0\u001b[39m\n\u001b[1;32m    966\u001b[0m maybe_callable \u001b[38;5;241m=\u001b[39m com\u001b[38;5;241m.\u001b[39mapply_if_callable(key, \u001b[38;5;28mself\u001b[39m\u001b[38;5;241m.\u001b[39mobj)\n\u001b[0;32m--> 967\u001b[0m \u001b[38;5;28;01mreturn\u001b[39;00m \u001b[38;5;28;43mself\u001b[39;49m\u001b[38;5;241;43m.\u001b[39;49m\u001b[43m_getitem_axis\u001b[49m\u001b[43m(\u001b[49m\u001b[43mmaybe_callable\u001b[49m\u001b[43m,\u001b[49m\u001b[43m \u001b[49m\u001b[43maxis\u001b[49m\u001b[38;5;241;43m=\u001b[39;49m\u001b[43maxis\u001b[49m\u001b[43m)\u001b[49m\n",
      "File \u001b[0;32m~/tensorflow-test/env/lib/python3.8/site-packages/pandas/core/indexing.py:1202\u001b[0m, in \u001b[0;36m_LocIndexer._getitem_axis\u001b[0;34m(self, key, axis)\u001b[0m\n\u001b[1;32m   1200\u001b[0m \u001b[38;5;66;03m# fall thru to straight lookup\u001b[39;00m\n\u001b[1;32m   1201\u001b[0m \u001b[38;5;28mself\u001b[39m\u001b[38;5;241m.\u001b[39m_validate_key(key, axis)\n\u001b[0;32m-> 1202\u001b[0m \u001b[38;5;28;01mreturn\u001b[39;00m \u001b[38;5;28;43mself\u001b[39;49m\u001b[38;5;241;43m.\u001b[39;49m\u001b[43m_get_label\u001b[49m\u001b[43m(\u001b[49m\u001b[43mkey\u001b[49m\u001b[43m,\u001b[49m\u001b[43m \u001b[49m\u001b[43maxis\u001b[49m\u001b[38;5;241;43m=\u001b[39;49m\u001b[43maxis\u001b[49m\u001b[43m)\u001b[49m\n",
      "File \u001b[0;32m~/tensorflow-test/env/lib/python3.8/site-packages/pandas/core/indexing.py:1153\u001b[0m, in \u001b[0;36m_LocIndexer._get_label\u001b[0;34m(self, label, axis)\u001b[0m\n\u001b[1;32m   1151\u001b[0m \u001b[38;5;28;01mdef\u001b[39;00m \u001b[38;5;21m_get_label\u001b[39m(\u001b[38;5;28mself\u001b[39m, label, axis: \u001b[38;5;28mint\u001b[39m):\n\u001b[1;32m   1152\u001b[0m     \u001b[38;5;66;03m# GH#5667 this will fail if the label is not present in the axis.\u001b[39;00m\n\u001b[0;32m-> 1153\u001b[0m     \u001b[38;5;28;01mreturn\u001b[39;00m \u001b[38;5;28;43mself\u001b[39;49m\u001b[38;5;241;43m.\u001b[39;49m\u001b[43mobj\u001b[49m\u001b[38;5;241;43m.\u001b[39;49m\u001b[43mxs\u001b[49m\u001b[43m(\u001b[49m\u001b[43mlabel\u001b[49m\u001b[43m,\u001b[49m\u001b[43m \u001b[49m\u001b[43maxis\u001b[49m\u001b[38;5;241;43m=\u001b[39;49m\u001b[43maxis\u001b[49m\u001b[43m)\u001b[49m\n",
      "File \u001b[0;32m~/tensorflow-test/env/lib/python3.8/site-packages/pandas/core/generic.py:3864\u001b[0m, in \u001b[0;36mNDFrame.xs\u001b[0;34m(self, key, axis, level, drop_level)\u001b[0m\n\u001b[1;32m   3862\u001b[0m             new_index \u001b[38;5;241m=\u001b[39m index[loc]\n\u001b[1;32m   3863\u001b[0m \u001b[38;5;28;01melse\u001b[39;00m:\n\u001b[0;32m-> 3864\u001b[0m     loc \u001b[38;5;241m=\u001b[39m \u001b[43mindex\u001b[49m\u001b[38;5;241;43m.\u001b[39;49m\u001b[43mget_loc\u001b[49m\u001b[43m(\u001b[49m\u001b[43mkey\u001b[49m\u001b[43m)\u001b[49m\n\u001b[1;32m   3866\u001b[0m     \u001b[38;5;28;01mif\u001b[39;00m \u001b[38;5;28misinstance\u001b[39m(loc, np\u001b[38;5;241m.\u001b[39mndarray):\n\u001b[1;32m   3867\u001b[0m         \u001b[38;5;28;01mif\u001b[39;00m loc\u001b[38;5;241m.\u001b[39mdtype \u001b[38;5;241m==\u001b[39m np\u001b[38;5;241m.\u001b[39mbool_:\n",
      "File \u001b[0;32m~/tensorflow-test/env/lib/python3.8/site-packages/pandas/core/indexes/base.py:3623\u001b[0m, in \u001b[0;36mIndex.get_loc\u001b[0;34m(self, key, method, tolerance)\u001b[0m\n\u001b[1;32m   3621\u001b[0m     \u001b[38;5;28;01mreturn\u001b[39;00m \u001b[38;5;28mself\u001b[39m\u001b[38;5;241m.\u001b[39m_engine\u001b[38;5;241m.\u001b[39mget_loc(casted_key)\n\u001b[1;32m   3622\u001b[0m \u001b[38;5;28;01mexcept\u001b[39;00m \u001b[38;5;167;01mKeyError\u001b[39;00m \u001b[38;5;28;01mas\u001b[39;00m err:\n\u001b[0;32m-> 3623\u001b[0m     \u001b[38;5;28;01mraise\u001b[39;00m \u001b[38;5;167;01mKeyError\u001b[39;00m(key) \u001b[38;5;28;01mfrom\u001b[39;00m \u001b[38;5;21;01merr\u001b[39;00m\n\u001b[1;32m   3624\u001b[0m \u001b[38;5;28;01mexcept\u001b[39;00m \u001b[38;5;167;01mTypeError\u001b[39;00m:\n\u001b[1;32m   3625\u001b[0m     \u001b[38;5;66;03m# If we have a listlike key, _check_indexing_error will raise\u001b[39;00m\n\u001b[1;32m   3626\u001b[0m     \u001b[38;5;66;03m#  InvalidIndexError. Otherwise we fall through and re-raise\u001b[39;00m\n\u001b[1;32m   3627\u001b[0m     \u001b[38;5;66;03m#  the TypeError.\u001b[39;00m\n\u001b[1;32m   3628\u001b[0m     \u001b[38;5;28mself\u001b[39m\u001b[38;5;241m.\u001b[39m_check_indexing_error(key)\n",
      "\u001b[0;31mKeyError\u001b[0m: 'churn'"
     ]
    }
   ],
   "source": [
    "# correlation between target and features\n",
    "df = pd.read_csv(\"https://raw.githubusercontent.com/fenago/datasets/main/churn.csv\")\n",
    "(df.corr().loc['churn'].plot(kind='barh', figsize=(4,10)))"
   ]
  },
  {
   "cell_type": "code",
   "execution_count": null,
   "metadata": {},
   "outputs": [],
   "source": [
    "import matplotlib.pyplot as plt\n",
    "sns.set(rc={'figure.figsize':(16,10)})\n",
    "sns.heatmap(df.corr(),\n",
    "            annot=True,\n",
    "            linewidths=.5,\n",
    "            center=0,\n",
    "            cbar=False,\n",
    "            cmap=\"PiYG\")\n",
    "plt.show()"
   ]
  },
  {
   "cell_type": "code",
   "execution_count": null,
   "metadata": {},
   "outputs": [],
   "source": [
    "import numpy as np\n",
    "# variance of numeric features\n",
    "(df\n",
    " .select_dtypes(include=np.number)\n",
    " .var()\n",
    " .astype('str'))"
   ]
  },
  {
   "cell_type": "code",
   "execution_count": null,
   "metadata": {},
   "outputs": [],
   "source": [
    "# drop uncorrelated numeric features (threshold <0.2)\n",
    "corr = abs(df.corr().loc['Converted'])\n",
    "corr = corr[corr<0.4]\n",
    "cols_to_drop = corr.index.to_list()\n",
    "df = df.drop(cols_to_drop, axis=1)"
   ]
  },
  {
   "cell_type": "code",
   "execution_count": null,
   "metadata": {},
   "outputs": [],
   "source": [
    "df.head().T"
   ]
  },
  {
   "cell_type": "code",
   "execution_count": null,
   "metadata": {},
   "outputs": [],
   "source": []
  }
 ],
 "metadata": {
  "kernelspec": {
   "display_name": "Python 3 (ipykernel)",
   "language": "python",
   "name": "python3"
  },
  "language_info": {
   "codemirror_mode": {
    "name": "ipython",
    "version": 3
   },
   "file_extension": ".py",
   "mimetype": "text/x-python",
   "name": "python",
   "nbconvert_exporter": "python",
   "pygments_lexer": "ipython3",
   "version": "3.8.13"
  }
 },
 "nbformat": 4,
 "nbformat_minor": 4
}
