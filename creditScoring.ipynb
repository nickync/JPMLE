{
 "cells": [
  {
   "cell_type": "code",
   "execution_count": 2,
   "id": "344638f9-c1e4-49ce-9a61-ed509767c68a",
   "metadata": {},
   "outputs": [],
   "source": [
    "import numpy as np\n",
    "import pandas as pd\n",
    "import matplotlib.pyplot as plt"
   ]
  },
  {
   "cell_type": "code",
   "execution_count": 3,
   "id": "8be13d38-e0bc-45fe-9c35-5acdaccd8b0b",
   "metadata": {},
   "outputs": [],
   "source": [
    "df = pd.read_csv('https://raw.githubusercontent.com/fenago/classify/main/data/CreditScoring.csv')"
   ]
  },
  {
   "cell_type": "code",
   "execution_count": 4,
   "id": "6ca7c70a-c81f-4dcd-88d0-4d33a4d1086b",
   "metadata": {},
   "outputs": [
    {
     "data": {
      "text/html": [
       "<div>\n",
       "<style scoped>\n",
       "    .dataframe tbody tr th:only-of-type {\n",
       "        vertical-align: middle;\n",
       "    }\n",
       "\n",
       "    .dataframe tbody tr th {\n",
       "        vertical-align: top;\n",
       "    }\n",
       "\n",
       "    .dataframe thead th {\n",
       "        text-align: right;\n",
       "    }\n",
       "</style>\n",
       "<table border=\"1\" class=\"dataframe\">\n",
       "  <thead>\n",
       "    <tr style=\"text-align: right;\">\n",
       "      <th></th>\n",
       "      <th>0</th>\n",
       "      <th>1</th>\n",
       "      <th>2</th>\n",
       "      <th>3</th>\n",
       "      <th>4</th>\n",
       "    </tr>\n",
       "  </thead>\n",
       "  <tbody>\n",
       "    <tr>\n",
       "      <th>Status</th>\n",
       "      <td>1</td>\n",
       "      <td>1</td>\n",
       "      <td>2</td>\n",
       "      <td>1</td>\n",
       "      <td>1</td>\n",
       "    </tr>\n",
       "    <tr>\n",
       "      <th>Seniority</th>\n",
       "      <td>9</td>\n",
       "      <td>17</td>\n",
       "      <td>10</td>\n",
       "      <td>0</td>\n",
       "      <td>0</td>\n",
       "    </tr>\n",
       "    <tr>\n",
       "      <th>Home</th>\n",
       "      <td>1</td>\n",
       "      <td>1</td>\n",
       "      <td>2</td>\n",
       "      <td>1</td>\n",
       "      <td>1</td>\n",
       "    </tr>\n",
       "    <tr>\n",
       "      <th>Time</th>\n",
       "      <td>60</td>\n",
       "      <td>60</td>\n",
       "      <td>36</td>\n",
       "      <td>60</td>\n",
       "      <td>36</td>\n",
       "    </tr>\n",
       "    <tr>\n",
       "      <th>Age</th>\n",
       "      <td>30</td>\n",
       "      <td>58</td>\n",
       "      <td>46</td>\n",
       "      <td>24</td>\n",
       "      <td>26</td>\n",
       "    </tr>\n",
       "    <tr>\n",
       "      <th>Marital</th>\n",
       "      <td>2</td>\n",
       "      <td>3</td>\n",
       "      <td>2</td>\n",
       "      <td>1</td>\n",
       "      <td>1</td>\n",
       "    </tr>\n",
       "    <tr>\n",
       "      <th>Records</th>\n",
       "      <td>1</td>\n",
       "      <td>1</td>\n",
       "      <td>2</td>\n",
       "      <td>1</td>\n",
       "      <td>1</td>\n",
       "    </tr>\n",
       "    <tr>\n",
       "      <th>Job</th>\n",
       "      <td>3</td>\n",
       "      <td>1</td>\n",
       "      <td>3</td>\n",
       "      <td>1</td>\n",
       "      <td>1</td>\n",
       "    </tr>\n",
       "    <tr>\n",
       "      <th>Expenses</th>\n",
       "      <td>73</td>\n",
       "      <td>48</td>\n",
       "      <td>90</td>\n",
       "      <td>63</td>\n",
       "      <td>46</td>\n",
       "    </tr>\n",
       "    <tr>\n",
       "      <th>Income</th>\n",
       "      <td>129</td>\n",
       "      <td>131</td>\n",
       "      <td>200</td>\n",
       "      <td>182</td>\n",
       "      <td>107</td>\n",
       "    </tr>\n",
       "    <tr>\n",
       "      <th>Assets</th>\n",
       "      <td>0</td>\n",
       "      <td>0</td>\n",
       "      <td>3000</td>\n",
       "      <td>2500</td>\n",
       "      <td>0</td>\n",
       "    </tr>\n",
       "    <tr>\n",
       "      <th>Debt</th>\n",
       "      <td>0</td>\n",
       "      <td>0</td>\n",
       "      <td>0</td>\n",
       "      <td>0</td>\n",
       "      <td>0</td>\n",
       "    </tr>\n",
       "    <tr>\n",
       "      <th>Amount</th>\n",
       "      <td>800</td>\n",
       "      <td>1000</td>\n",
       "      <td>2000</td>\n",
       "      <td>900</td>\n",
       "      <td>310</td>\n",
       "    </tr>\n",
       "    <tr>\n",
       "      <th>Price</th>\n",
       "      <td>846</td>\n",
       "      <td>1658</td>\n",
       "      <td>2985</td>\n",
       "      <td>1325</td>\n",
       "      <td>910</td>\n",
       "    </tr>\n",
       "  </tbody>\n",
       "</table>\n",
       "</div>"
      ],
      "text/plain": [
       "             0     1     2     3    4\n",
       "Status       1     1     2     1    1\n",
       "Seniority    9    17    10     0    0\n",
       "Home         1     1     2     1    1\n",
       "Time        60    60    36    60   36\n",
       "Age         30    58    46    24   26\n",
       "Marital      2     3     2     1    1\n",
       "Records      1     1     2     1    1\n",
       "Job          3     1     3     1    1\n",
       "Expenses    73    48    90    63   46\n",
       "Income     129   131   200   182  107\n",
       "Assets       0     0  3000  2500    0\n",
       "Debt         0     0     0     0    0\n",
       "Amount     800  1000  2000   900  310\n",
       "Price      846  1658  2985  1325  910"
      ]
     },
     "execution_count": 4,
     "metadata": {},
     "output_type": "execute_result"
    }
   ],
   "source": [
    "df.head().T"
   ]
  },
  {
   "cell_type": "code",
   "execution_count": 5,
   "id": "3bde7afd-1d1b-453b-ae01-54821f5aba6e",
   "metadata": {},
   "outputs": [
    {
     "data": {
      "text/plain": [
       "Status       0\n",
       "Seniority    0\n",
       "Home         0\n",
       "Time         0\n",
       "Age          0\n",
       "Marital      0\n",
       "Records      0\n",
       "Job          0\n",
       "Expenses     0\n",
       "Income       0\n",
       "Assets       0\n",
       "Debt         0\n",
       "Amount       0\n",
       "Price        0\n",
       "dtype: int64"
      ]
     },
     "execution_count": 5,
     "metadata": {},
     "output_type": "execute_result"
    }
   ],
   "source": [
    "df.isna().sum()"
   ]
  },
  {
   "cell_type": "code",
   "execution_count": 6,
   "id": "ba9407e9-fc28-444e-af18-fdacaceecdc7",
   "metadata": {},
   "outputs": [
    {
     "data": {
      "text/plain": [
       "Status       int64\n",
       "Seniority    int64\n",
       "Home         int64\n",
       "Time         int64\n",
       "Age          int64\n",
       "Marital      int64\n",
       "Records      int64\n",
       "Job          int64\n",
       "Expenses     int64\n",
       "Income       int64\n",
       "Assets       int64\n",
       "Debt         int64\n",
       "Amount       int64\n",
       "Price        int64\n",
       "dtype: object"
      ]
     },
     "execution_count": 6,
     "metadata": {},
     "output_type": "execute_result"
    }
   ],
   "source": [
    "df.dtypes"
   ]
  },
  {
   "cell_type": "code",
   "execution_count": 7,
   "id": "87f952bb-855a-42be-a0bd-675ca698c8d4",
   "metadata": {},
   "outputs": [
    {
     "data": {
      "text/plain": [
       "Status          3\n",
       "Seniority      47\n",
       "Home            7\n",
       "Time           11\n",
       "Age            50\n",
       "Marital         6\n",
       "Records         2\n",
       "Job             5\n",
       "Expenses       94\n",
       "Income        353\n",
       "Assets        160\n",
       "Debt          183\n",
       "Amount        285\n",
       "Price        1419\n",
       "dtype: int64"
      ]
     },
     "execution_count": 7,
     "metadata": {},
     "output_type": "execute_result"
    }
   ],
   "source": [
    "df.nunique()"
   ]
  },
  {
   "cell_type": "code",
   "execution_count": 8,
   "id": "8ac35c5e-fecc-42e4-b259-3d9baa696948",
   "metadata": {},
   "outputs": [
    {
     "data": {
      "text/plain": [
       "(4455, 14)"
      ]
     },
     "execution_count": 8,
     "metadata": {},
     "output_type": "execute_result"
    }
   ],
   "source": [
    "df.shape"
   ]
  },
  {
   "cell_type": "code",
   "execution_count": 9,
   "id": "145e131b-b3e0-4530-99a8-849f64445d6a",
   "metadata": {},
   "outputs": [
    {
     "data": {
      "text/html": [
       "<div>\n",
       "<style scoped>\n",
       "    .dataframe tbody tr th:only-of-type {\n",
       "        vertical-align: middle;\n",
       "    }\n",
       "\n",
       "    .dataframe tbody tr th {\n",
       "        vertical-align: top;\n",
       "    }\n",
       "\n",
       "    .dataframe thead th {\n",
       "        text-align: right;\n",
       "    }\n",
       "</style>\n",
       "<table border=\"1\" class=\"dataframe\">\n",
       "  <thead>\n",
       "    <tr style=\"text-align: right;\">\n",
       "      <th></th>\n",
       "      <th>Status</th>\n",
       "      <th>Seniority</th>\n",
       "      <th>Home</th>\n",
       "      <th>Time</th>\n",
       "      <th>Age</th>\n",
       "      <th>Marital</th>\n",
       "      <th>Records</th>\n",
       "      <th>Job</th>\n",
       "      <th>Expenses</th>\n",
       "      <th>Income</th>\n",
       "      <th>Assets</th>\n",
       "      <th>Debt</th>\n",
       "      <th>Amount</th>\n",
       "      <th>Price</th>\n",
       "    </tr>\n",
       "  </thead>\n",
       "  <tbody>\n",
       "    <tr>\n",
       "      <th>Status</th>\n",
       "      <td>1.000000</td>\n",
       "      <td>-0.260312</td>\n",
       "      <td>0.051025</td>\n",
       "      <td>0.099935</td>\n",
       "      <td>-0.094498</td>\n",
       "      <td>0.010535</td>\n",
       "      <td>0.278638</td>\n",
       "      <td>0.152722</td>\n",
       "      <td>0.029499</td>\n",
       "      <td>0.059807</td>\n",
       "      <td>0.032989</td>\n",
       "      <td>0.062401</td>\n",
       "      <td>0.153771</td>\n",
       "      <td>0.010297</td>\n",
       "    </tr>\n",
       "    <tr>\n",
       "      <th>Seniority</th>\n",
       "      <td>-0.260312</td>\n",
       "      <td>1.000000</td>\n",
       "      <td>-0.145878</td>\n",
       "      <td>-0.021320</td>\n",
       "      <td>0.505787</td>\n",
       "      <td>0.163433</td>\n",
       "      <td>-0.015674</td>\n",
       "      <td>-0.109339</td>\n",
       "      <td>0.125798</td>\n",
       "      <td>-0.034262</td>\n",
       "      <td>0.026380</td>\n",
       "      <td>0.005725</td>\n",
       "      <td>-0.007859</td>\n",
       "      <td>0.040922</td>\n",
       "    </tr>\n",
       "    <tr>\n",
       "      <th>Home</th>\n",
       "      <td>0.051025</td>\n",
       "      <td>-0.145878</td>\n",
       "      <td>1.000000</td>\n",
       "      <td>-0.020880</td>\n",
       "      <td>-0.270784</td>\n",
       "      <td>-0.260712</td>\n",
       "      <td>-0.013205</td>\n",
       "      <td>-0.032042</td>\n",
       "      <td>-0.334092</td>\n",
       "      <td>-0.022968</td>\n",
       "      <td>-0.020389</td>\n",
       "      <td>-0.043584</td>\n",
       "      <td>-0.019560</td>\n",
       "      <td>-0.026542</td>\n",
       "    </tr>\n",
       "    <tr>\n",
       "      <th>Time</th>\n",
       "      <td>0.099935</td>\n",
       "      <td>-0.021320</td>\n",
       "      <td>-0.020880</td>\n",
       "      <td>1.000000</td>\n",
       "      <td>-0.051966</td>\n",
       "      <td>0.049978</td>\n",
       "      <td>0.028094</td>\n",
       "      <td>-0.138454</td>\n",
       "      <td>-0.001059</td>\n",
       "      <td>-0.020246</td>\n",
       "      <td>-0.039491</td>\n",
       "      <td>-0.051170</td>\n",
       "      <td>0.431050</td>\n",
       "      <td>0.129796</td>\n",
       "    </tr>\n",
       "    <tr>\n",
       "      <th>Age</th>\n",
       "      <td>-0.094498</td>\n",
       "      <td>0.505787</td>\n",
       "      <td>-0.270784</td>\n",
       "      <td>-0.051966</td>\n",
       "      <td>1.000000</td>\n",
       "      <td>0.325652</td>\n",
       "      <td>0.060171</td>\n",
       "      <td>0.179447</td>\n",
       "      <td>0.248254</td>\n",
       "      <td>0.010653</td>\n",
       "      <td>0.053084</td>\n",
       "      <td>0.015971</td>\n",
       "      <td>0.028907</td>\n",
       "      <td>0.048739</td>\n",
       "    </tr>\n",
       "    <tr>\n",
       "      <th>Marital</th>\n",
       "      <td>0.010535</td>\n",
       "      <td>0.163433</td>\n",
       "      <td>-0.260712</td>\n",
       "      <td>0.049978</td>\n",
       "      <td>0.325652</td>\n",
       "      <td>1.000000</td>\n",
       "      <td>0.082440</td>\n",
       "      <td>0.034105</td>\n",
       "      <td>0.210315</td>\n",
       "      <td>0.004463</td>\n",
       "      <td>-0.007824</td>\n",
       "      <td>0.000985</td>\n",
       "      <td>0.054130</td>\n",
       "      <td>0.062537</td>\n",
       "    </tr>\n",
       "    <tr>\n",
       "      <th>Records</th>\n",
       "      <td>0.278638</td>\n",
       "      <td>-0.015674</td>\n",
       "      <td>-0.013205</td>\n",
       "      <td>0.028094</td>\n",
       "      <td>0.060171</td>\n",
       "      <td>0.082440</td>\n",
       "      <td>1.000000</td>\n",
       "      <td>0.033898</td>\n",
       "      <td>0.057329</td>\n",
       "      <td>0.034741</td>\n",
       "      <td>0.004926</td>\n",
       "      <td>0.008197</td>\n",
       "      <td>0.110349</td>\n",
       "      <td>0.085143</td>\n",
       "    </tr>\n",
       "    <tr>\n",
       "      <th>Job</th>\n",
       "      <td>0.152722</td>\n",
       "      <td>-0.109339</td>\n",
       "      <td>-0.032042</td>\n",
       "      <td>-0.138454</td>\n",
       "      <td>0.179447</td>\n",
       "      <td>0.034105</td>\n",
       "      <td>0.033898</td>\n",
       "      <td>1.000000</td>\n",
       "      <td>0.024170</td>\n",
       "      <td>0.102801</td>\n",
       "      <td>0.049138</td>\n",
       "      <td>0.029067</td>\n",
       "      <td>0.055833</td>\n",
       "      <td>0.056497</td>\n",
       "    </tr>\n",
       "    <tr>\n",
       "      <th>Expenses</th>\n",
       "      <td>0.029499</td>\n",
       "      <td>0.125798</td>\n",
       "      <td>-0.334092</td>\n",
       "      <td>-0.001059</td>\n",
       "      <td>0.248254</td>\n",
       "      <td>0.210315</td>\n",
       "      <td>0.057329</td>\n",
       "      <td>0.024170</td>\n",
       "      <td>1.000000</td>\n",
       "      <td>0.010664</td>\n",
       "      <td>-0.023255</td>\n",
       "      <td>-0.018899</td>\n",
       "      <td>0.048958</td>\n",
       "      <td>0.040162</td>\n",
       "    </tr>\n",
       "    <tr>\n",
       "      <th>Income</th>\n",
       "      <td>0.059807</td>\n",
       "      <td>-0.034262</td>\n",
       "      <td>-0.022968</td>\n",
       "      <td>-0.020246</td>\n",
       "      <td>0.010653</td>\n",
       "      <td>0.004463</td>\n",
       "      <td>0.034741</td>\n",
       "      <td>0.102801</td>\n",
       "      <td>0.010664</td>\n",
       "      <td>1.000000</td>\n",
       "      <td>0.092042</td>\n",
       "      <td>0.116399</td>\n",
       "      <td>0.019659</td>\n",
       "      <td>0.023088</td>\n",
       "    </tr>\n",
       "    <tr>\n",
       "      <th>Assets</th>\n",
       "      <td>0.032989</td>\n",
       "      <td>0.026380</td>\n",
       "      <td>-0.020389</td>\n",
       "      <td>-0.039491</td>\n",
       "      <td>0.053084</td>\n",
       "      <td>-0.007824</td>\n",
       "      <td>0.004926</td>\n",
       "      <td>0.049138</td>\n",
       "      <td>-0.023255</td>\n",
       "      <td>0.092042</td>\n",
       "      <td>1.000000</td>\n",
       "      <td>0.616823</td>\n",
       "      <td>0.014568</td>\n",
       "      <td>0.029690</td>\n",
       "    </tr>\n",
       "    <tr>\n",
       "      <th>Debt</th>\n",
       "      <td>0.062401</td>\n",
       "      <td>0.005725</td>\n",
       "      <td>-0.043584</td>\n",
       "      <td>-0.051170</td>\n",
       "      <td>0.015971</td>\n",
       "      <td>0.000985</td>\n",
       "      <td>0.008197</td>\n",
       "      <td>0.029067</td>\n",
       "      <td>-0.018899</td>\n",
       "      <td>0.116399</td>\n",
       "      <td>0.616823</td>\n",
       "      <td>1.000000</td>\n",
       "      <td>0.056259</td>\n",
       "      <td>0.066406</td>\n",
       "    </tr>\n",
       "    <tr>\n",
       "      <th>Amount</th>\n",
       "      <td>0.153771</td>\n",
       "      <td>-0.007859</td>\n",
       "      <td>-0.019560</td>\n",
       "      <td>0.431050</td>\n",
       "      <td>0.028907</td>\n",
       "      <td>0.054130</td>\n",
       "      <td>0.110349</td>\n",
       "      <td>0.055833</td>\n",
       "      <td>0.048958</td>\n",
       "      <td>0.019659</td>\n",
       "      <td>0.014568</td>\n",
       "      <td>0.056259</td>\n",
       "      <td>1.000000</td>\n",
       "      <td>0.725040</td>\n",
       "    </tr>\n",
       "    <tr>\n",
       "      <th>Price</th>\n",
       "      <td>0.010297</td>\n",
       "      <td>0.040922</td>\n",
       "      <td>-0.026542</td>\n",
       "      <td>0.129796</td>\n",
       "      <td>0.048739</td>\n",
       "      <td>0.062537</td>\n",
       "      <td>0.085143</td>\n",
       "      <td>0.056497</td>\n",
       "      <td>0.040162</td>\n",
       "      <td>0.023088</td>\n",
       "      <td>0.029690</td>\n",
       "      <td>0.066406</td>\n",
       "      <td>0.725040</td>\n",
       "      <td>1.000000</td>\n",
       "    </tr>\n",
       "  </tbody>\n",
       "</table>\n",
       "</div>"
      ],
      "text/plain": [
       "             Status  Seniority      Home      Time       Age   Marital  \\\n",
       "Status     1.000000  -0.260312  0.051025  0.099935 -0.094498  0.010535   \n",
       "Seniority -0.260312   1.000000 -0.145878 -0.021320  0.505787  0.163433   \n",
       "Home       0.051025  -0.145878  1.000000 -0.020880 -0.270784 -0.260712   \n",
       "Time       0.099935  -0.021320 -0.020880  1.000000 -0.051966  0.049978   \n",
       "Age       -0.094498   0.505787 -0.270784 -0.051966  1.000000  0.325652   \n",
       "Marital    0.010535   0.163433 -0.260712  0.049978  0.325652  1.000000   \n",
       "Records    0.278638  -0.015674 -0.013205  0.028094  0.060171  0.082440   \n",
       "Job        0.152722  -0.109339 -0.032042 -0.138454  0.179447  0.034105   \n",
       "Expenses   0.029499   0.125798 -0.334092 -0.001059  0.248254  0.210315   \n",
       "Income     0.059807  -0.034262 -0.022968 -0.020246  0.010653  0.004463   \n",
       "Assets     0.032989   0.026380 -0.020389 -0.039491  0.053084 -0.007824   \n",
       "Debt       0.062401   0.005725 -0.043584 -0.051170  0.015971  0.000985   \n",
       "Amount     0.153771  -0.007859 -0.019560  0.431050  0.028907  0.054130   \n",
       "Price      0.010297   0.040922 -0.026542  0.129796  0.048739  0.062537   \n",
       "\n",
       "            Records       Job  Expenses    Income    Assets      Debt  \\\n",
       "Status     0.278638  0.152722  0.029499  0.059807  0.032989  0.062401   \n",
       "Seniority -0.015674 -0.109339  0.125798 -0.034262  0.026380  0.005725   \n",
       "Home      -0.013205 -0.032042 -0.334092 -0.022968 -0.020389 -0.043584   \n",
       "Time       0.028094 -0.138454 -0.001059 -0.020246 -0.039491 -0.051170   \n",
       "Age        0.060171  0.179447  0.248254  0.010653  0.053084  0.015971   \n",
       "Marital    0.082440  0.034105  0.210315  0.004463 -0.007824  0.000985   \n",
       "Records    1.000000  0.033898  0.057329  0.034741  0.004926  0.008197   \n",
       "Job        0.033898  1.000000  0.024170  0.102801  0.049138  0.029067   \n",
       "Expenses   0.057329  0.024170  1.000000  0.010664 -0.023255 -0.018899   \n",
       "Income     0.034741  0.102801  0.010664  1.000000  0.092042  0.116399   \n",
       "Assets     0.004926  0.049138 -0.023255  0.092042  1.000000  0.616823   \n",
       "Debt       0.008197  0.029067 -0.018899  0.116399  0.616823  1.000000   \n",
       "Amount     0.110349  0.055833  0.048958  0.019659  0.014568  0.056259   \n",
       "Price      0.085143  0.056497  0.040162  0.023088  0.029690  0.066406   \n",
       "\n",
       "             Amount     Price  \n",
       "Status     0.153771  0.010297  \n",
       "Seniority -0.007859  0.040922  \n",
       "Home      -0.019560 -0.026542  \n",
       "Time       0.431050  0.129796  \n",
       "Age        0.028907  0.048739  \n",
       "Marital    0.054130  0.062537  \n",
       "Records    0.110349  0.085143  \n",
       "Job        0.055833  0.056497  \n",
       "Expenses   0.048958  0.040162  \n",
       "Income     0.019659  0.023088  \n",
       "Assets     0.014568  0.029690  \n",
       "Debt       0.056259  0.066406  \n",
       "Amount     1.000000  0.725040  \n",
       "Price      0.725040  1.000000  "
      ]
     },
     "execution_count": 9,
     "metadata": {},
     "output_type": "execute_result"
    }
   ],
   "source": [
    "df.corr()"
   ]
  },
  {
   "cell_type": "code",
   "execution_count": 10,
   "id": "f7db76c9-05c1-4a5e-9274-cd3d638e5427",
   "metadata": {},
   "outputs": [
    {
     "data": {
      "text/plain": [
       "Index(['Status', 'Seniority', 'Home', 'Time', 'Age', 'Marital', 'Records',\n",
       "       'Job', 'Expenses', 'Income', 'Assets', 'Debt', 'Amount', 'Price'],\n",
       "      dtype='object')"
      ]
     },
     "execution_count": 10,
     "metadata": {},
     "output_type": "execute_result"
    }
   ],
   "source": [
    "df.columns"
   ]
  },
  {
   "cell_type": "code",
   "execution_count": 11,
   "id": "eae74475-ba44-4709-8cb4-0d879db1f866",
   "metadata": {},
   "outputs": [],
   "source": [
    "categorical = ['Home', 'Marital', 'Records', 'Job']"
   ]
  },
  {
   "cell_type": "code",
   "execution_count": 12,
   "id": "d888bc80-4964-47e9-8481-6a899e4f2474",
   "metadata": {},
   "outputs": [],
   "source": [
    "import seaborn as sns"
   ]
  },
  {
   "cell_type": "code",
   "execution_count": 16,
   "id": "436407ee-d17b-43f7-af61-e462ef3dbd7d",
   "metadata": {},
   "outputs": [
    {
     "data": {
      "text/plain": [
       "<seaborn.axisgrid.FacetGrid at 0x7fc5202ebe20>"
      ]
     },
     "execution_count": 16,
     "metadata": {},
     "output_type": "execute_result"
    },
    {
     "data": {
      "image/png": "[encoded data removed]",
      "text/plain": [
       "<Figure size 360x360 with 1 Axes>"
      ]
     },
     "metadata": {
      "needs_background": "light"
     },
     "output_type": "display_data"
    }
   ],
   "source": [
    "sns.displot(df['Home'])"
   ]
  },
  {
   "cell_type": "code",
   "execution_count": 23,
   "id": "0f3c0210-ac51-44b9-b495-27967075904c",
   "metadata": {},
   "outputs": [
    {
     "data": {
      "text/plain": [
       "1    3200\n",
       "2    1254\n",
       "0       1\n",
       "Name: Status, dtype: int64"
      ]
     },
     "execution_count": 23,
     "metadata": {},
     "output_type": "execute_result"
    }
   ],
   "source": [
    "df['Status'].value_counts()"
   ]
  },
  {
   "cell_type": "code",
   "execution_count": 29,
   "id": "e1b6c34e-4f5f-4506-b0a6-813f2443e548",
   "metadata": {},
   "outputs": [],
   "source": [
    "df = df.drop(df[df.Status == 0].index)"
   ]
  },
  {
   "cell_type": "code",
   "execution_count": 30,
   "id": "67a633ac-2d44-4c89-86d4-9b45105aff1c",
   "metadata": {},
   "outputs": [
    {
     "data": {
      "text/plain": [
       "1    3200\n",
       "2    1254\n",
       "Name: Status, dtype: int64"
      ]
     },
     "execution_count": 30,
     "metadata": {},
     "output_type": "execute_result"
    }
   ],
   "source": [
    "df['Status'].value_counts()"
   ]
  },
  {
   "cell_type": "code",
   "execution_count": 36,
   "id": "3879349b-2878-45a8-9283-2b00311f912b",
   "metadata": {},
   "outputs": [
    {
     "ename": "SyntaxError",
     "evalue": "invalid syntax (1964231763.py, line 1)",
     "output_type": "error",
     "traceback": [
      "\u001b[0;36m  File \u001b[0;32m\"/var/folders/hn/3wwh9yy571jbqjltnqglztg80000gn/T/ipykernel_8459/1964231763.py\"\u001b[0;36m, line \u001b[0;32m1\u001b[0m\n\u001b[0;31m    df[['Income']== 99999999 || df['Income'] == 99999999]\u001b[0m\n\u001b[0m                              ^\u001b[0m\n\u001b[0;31mSyntaxError\u001b[0m\u001b[0;31m:\u001b[0m invalid syntax\n"
     ]
    }
   ],
   "source": [
    "df[['Income']== 99999999 | df['Income'] == 99999999]"
   ]
  },
  {
   "cell_type": "code",
   "execution_count": null,
   "id": "1fbd2cd5-6229-46c3-86e3-f617ac56b05d",
   "metadata": {},
   "outputs": [],
   "source": []
  }
 ],
 "metadata": {
  "kernelspec": {
   "display_name": "Python 3 (ipykernel)",
   "language": "python",
   "name": "python3"
  },
  "language_info": {
   "codemirror_mode": {
    "name": "ipython",
    "version": 3
   },
   "file_extension": ".py",
   "mimetype": "text/x-python",
   "name": "python",
   "nbconvert_exporter": "python",
   "pygments_lexer": "ipython3",
   "version": "3.9.7"
  }
 },
 "nbformat": 4,
 "nbformat_minor": 5
}
