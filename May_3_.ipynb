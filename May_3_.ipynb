{
 "cells": [
  {
   "cell_type": "code",
   "execution_count": 1,
   "id": "93419ea7-df98-48cb-b6d9-9f8e53c1c830",
   "metadata": {},
   "outputs": [],
   "source": [
    "#@title Importing modules\n",
    "import pandas as pd\n",
    "from sklearn.cluster import KMeans\n",
    "import altair as alt\n",
    "import numpy as np"
   ]
  },
  {
   "cell_type": "code",
   "execution_count": 2,
   "id": "efe04811-2f0b-4715-bfdb-ad908335b739",
   "metadata": {},
   "outputs": [],
   "source": [
    "#@title link to dataset\n",
    "file_url = 'https://raw.githubusercontent.com/fenago/DSBook/main/Chapter%205/Mall_Customers.csv'"
   ]
  },
  {
   "cell_type": "code",
   "execution_count": 3,
   "id": "e224d160-f54c-4e59-9b1c-ce89540425c9",
   "metadata": {},
   "outputs": [],
   "source": [
    "#@title LOading dataset\n",
    "data = pd.read_csv(file_url, \\\n",
    "                 usecols=['Age', \\\n",
    "                          'Annual Income (k$)', \\\n",
    "'Spending Score (1-100)'])"
   ]
  },
  {
   "cell_type": "code",
   "execution_count": 4,
   "id": "bdeb4bf3-3e5d-4e5e-a770-43f5f235520b",
   "metadata": {},
   "outputs": [],
   "source": [
    "#@title Assigning the columns to a new variable\n",
    "X = data[['Age', \\\n",
    "        'Annual Income (k$)']]"
   ]
  },
  {
   "cell_type": "code",
   "execution_count": 5,
   "id": "44c46aca-382c-43bc-9c96-f186e4002a6d",
   "metadata": {},
   "outputs": [
    {
     "data": {
      "text/plain": [
       "KMeans(init='random', n_clusters=4, n_init=1, random_state=1)"
      ]
     },
     "execution_count": 5,
     "metadata": {},
     "output_type": "execute_result"
    }
   ],
   "source": [
    "#@title Fit a k-means model with n_init equal to 1 and a random init\n",
    "kmeans = KMeans(random_state=1, n_clusters=4, \\\n",
    "                init='random', n_init=1)\n",
    "kmeans.fit(X)"
   ]
  },
  {
   "cell_type": "code",
   "execution_count": 6,
   "id": "03efb483-f13e-4d30-839f-51ae206e42e3",
   "metadata": {},
   "outputs": [
    {
     "ename": "ValueError",
     "evalue": "cluster3 encoding field is specified without a type; the type cannot be inferred because it does not match any column in the data.",
     "output_type": "error",
     "traceback": [
      "\u001b[0;31m---------------------------------------------------------------------------\u001b[0m",
      "\u001b[0;31mValueError\u001b[0m                                Traceback (most recent call last)",
      "\u001b[0;32m/opt/anaconda3/lib/python3.9/site-packages/altair/vegalite/v4/api.py\u001b[0m in \u001b[0;36mto_dict\u001b[0;34m(self, *args, **kwargs)\u001b[0m\n\u001b[1;32m   2018\u001b[0m             \u001b[0mcopy\u001b[0m\u001b[0;34m.\u001b[0m\u001b[0mdata\u001b[0m \u001b[0;34m=\u001b[0m \u001b[0mcore\u001b[0m\u001b[0;34m.\u001b[0m\u001b[0mInlineData\u001b[0m\u001b[0;34m(\u001b[0m\u001b[0mvalues\u001b[0m\u001b[0;34m=\u001b[0m\u001b[0;34m[\u001b[0m\u001b[0;34m{\u001b[0m\u001b[0;34m}\u001b[0m\u001b[0;34m]\u001b[0m\u001b[0;34m)\u001b[0m\u001b[0;34m\u001b[0m\u001b[0;34m\u001b[0m\u001b[0m\n\u001b[1;32m   2019\u001b[0m             \u001b[0;32mreturn\u001b[0m \u001b[0msuper\u001b[0m\u001b[0;34m(\u001b[0m\u001b[0mChart\u001b[0m\u001b[0;34m,\u001b[0m \u001b[0mcopy\u001b[0m\u001b[0;34m)\u001b[0m\u001b[0;34m.\u001b[0m\u001b[0mto_dict\u001b[0m\u001b[0;34m(\u001b[0m\u001b[0;34m*\u001b[0m\u001b[0margs\u001b[0m\u001b[0;34m,\u001b[0m \u001b[0;34m**\u001b[0m\u001b[0mkwargs\u001b[0m\u001b[0;34m)\u001b[0m\u001b[0;34m\u001b[0m\u001b[0;34m\u001b[0m\u001b[0m\n\u001b[0;32m-> 2020\u001b[0;31m         \u001b[0;32mreturn\u001b[0m \u001b[0msuper\u001b[0m\u001b[0;34m(\u001b[0m\u001b[0;34m)\u001b[0m\u001b[0;34m.\u001b[0m\u001b[0mto_dict\u001b[0m\u001b[0;34m(\u001b[0m\u001b[0;34m*\u001b[0m\u001b[0margs\u001b[0m\u001b[0;34m,\u001b[0m \u001b[0;34m**\u001b[0m\u001b[0mkwargs\u001b[0m\u001b[0;34m)\u001b[0m\u001b[0;34m\u001b[0m\u001b[0;34m\u001b[0m\u001b[0m\n\u001b[0m\u001b[1;32m   2021\u001b[0m \u001b[0;34m\u001b[0m\u001b[0m\n\u001b[1;32m   2022\u001b[0m     \u001b[0;32mdef\u001b[0m \u001b[0madd_selection\u001b[0m\u001b[0;34m(\u001b[0m\u001b[0mself\u001b[0m\u001b[0;34m,\u001b[0m \u001b[0;34m*\u001b[0m\u001b[0mselections\u001b[0m\u001b[0;34m)\u001b[0m\u001b[0;34m:\u001b[0m\u001b[0;34m\u001b[0m\u001b[0;34m\u001b[0m\u001b[0m\n",
      "\u001b[0;32m/opt/anaconda3/lib/python3.9/site-packages/altair/vegalite/v4/api.py\u001b[0m in \u001b[0;36mto_dict\u001b[0;34m(self, *args, **kwargs)\u001b[0m\n\u001b[1;32m    382\u001b[0m \u001b[0;34m\u001b[0m\u001b[0m\n\u001b[1;32m    383\u001b[0m         \u001b[0;32mtry\u001b[0m\u001b[0;34m:\u001b[0m\u001b[0;34m\u001b[0m\u001b[0;34m\u001b[0m\u001b[0m\n\u001b[0;32m--> 384\u001b[0;31m             \u001b[0mdct\u001b[0m \u001b[0;34m=\u001b[0m \u001b[0msuper\u001b[0m\u001b[0;34m(\u001b[0m\u001b[0mTopLevelMixin\u001b[0m\u001b[0;34m,\u001b[0m \u001b[0mcopy\u001b[0m\u001b[0;34m)\u001b[0m\u001b[0;34m.\u001b[0m\u001b[0mto_dict\u001b[0m\u001b[0;34m(\u001b[0m\u001b[0;34m*\u001b[0m\u001b[0margs\u001b[0m\u001b[0;34m,\u001b[0m \u001b[0;34m**\u001b[0m\u001b[0mkwargs\u001b[0m\u001b[0;34m)\u001b[0m\u001b[0;34m\u001b[0m\u001b[0;34m\u001b[0m\u001b[0m\n\u001b[0m\u001b[1;32m    385\u001b[0m         \u001b[0;32mexcept\u001b[0m \u001b[0mjsonschema\u001b[0m\u001b[0;34m.\u001b[0m\u001b[0mValidationError\u001b[0m\u001b[0;34m:\u001b[0m\u001b[0;34m\u001b[0m\u001b[0;34m\u001b[0m\u001b[0m\n\u001b[1;32m    386\u001b[0m             \u001b[0mdct\u001b[0m \u001b[0;34m=\u001b[0m \u001b[0;32mNone\u001b[0m\u001b[0;34m\u001b[0m\u001b[0;34m\u001b[0m\u001b[0m\n",
      "\u001b[0;32m/opt/anaconda3/lib/python3.9/site-packages/altair/utils/schemapi.py\u001b[0m in \u001b[0;36mto_dict\u001b[0;34m(self, validate, ignore, context)\u001b[0m\n\u001b[1;32m    324\u001b[0m             \u001b[0mresult\u001b[0m \u001b[0;34m=\u001b[0m \u001b[0m_todict\u001b[0m\u001b[0;34m(\u001b[0m\u001b[0mself\u001b[0m\u001b[0;34m.\u001b[0m\u001b[0m_args\u001b[0m\u001b[0;34m[\u001b[0m\u001b[0;36m0\u001b[0m\u001b[0;34m]\u001b[0m\u001b[0;34m,\u001b[0m \u001b[0mvalidate\u001b[0m\u001b[0;34m=\u001b[0m\u001b[0msub_validate\u001b[0m\u001b[0;34m,\u001b[0m \u001b[0mcontext\u001b[0m\u001b[0;34m=\u001b[0m\u001b[0mcontext\u001b[0m\u001b[0;34m)\u001b[0m\u001b[0;34m\u001b[0m\u001b[0;34m\u001b[0m\u001b[0m\n\u001b[1;32m    325\u001b[0m         \u001b[0;32melif\u001b[0m \u001b[0;32mnot\u001b[0m \u001b[0mself\u001b[0m\u001b[0;34m.\u001b[0m\u001b[0m_args\u001b[0m\u001b[0;34m:\u001b[0m\u001b[0;34m\u001b[0m\u001b[0;34m\u001b[0m\u001b[0m\n\u001b[0;32m--> 326\u001b[0;31m             result = _todict(\n\u001b[0m\u001b[1;32m    327\u001b[0m                 \u001b[0;34m{\u001b[0m\u001b[0mk\u001b[0m\u001b[0;34m:\u001b[0m \u001b[0mv\u001b[0m \u001b[0;32mfor\u001b[0m \u001b[0mk\u001b[0m\u001b[0;34m,\u001b[0m \u001b[0mv\u001b[0m \u001b[0;32min\u001b[0m \u001b[0mself\u001b[0m\u001b[0;34m.\u001b[0m\u001b[0m_kwds\u001b[0m\u001b[0;34m.\u001b[0m\u001b[0mitems\u001b[0m\u001b[0;34m(\u001b[0m\u001b[0;34m)\u001b[0m \u001b[0;32mif\u001b[0m \u001b[0mk\u001b[0m \u001b[0;32mnot\u001b[0m \u001b[0;32min\u001b[0m \u001b[0mignore\u001b[0m\u001b[0;34m}\u001b[0m\u001b[0;34m,\u001b[0m\u001b[0;34m\u001b[0m\u001b[0;34m\u001b[0m\u001b[0m\n\u001b[1;32m    328\u001b[0m                 \u001b[0mvalidate\u001b[0m\u001b[0;34m=\u001b[0m\u001b[0msub_validate\u001b[0m\u001b[0;34m,\u001b[0m\u001b[0;34m\u001b[0m\u001b[0;34m\u001b[0m\u001b[0m\n",
      "\u001b[0;32m/opt/anaconda3/lib/python3.9/site-packages/altair/utils/schemapi.py\u001b[0m in \u001b[0;36m_todict\u001b[0;34m(obj, validate, context)\u001b[0m\n\u001b[1;32m     58\u001b[0m         \u001b[0;32mreturn\u001b[0m \u001b[0;34m[\u001b[0m\u001b[0m_todict\u001b[0m\u001b[0;34m(\u001b[0m\u001b[0mv\u001b[0m\u001b[0;34m,\u001b[0m \u001b[0mvalidate\u001b[0m\u001b[0;34m,\u001b[0m \u001b[0mcontext\u001b[0m\u001b[0;34m)\u001b[0m \u001b[0;32mfor\u001b[0m \u001b[0mv\u001b[0m \u001b[0;32min\u001b[0m \u001b[0mobj\u001b[0m\u001b[0;34m]\u001b[0m\u001b[0;34m\u001b[0m\u001b[0;34m\u001b[0m\u001b[0m\n\u001b[1;32m     59\u001b[0m     \u001b[0;32melif\u001b[0m \u001b[0misinstance\u001b[0m\u001b[0;34m(\u001b[0m\u001b[0mobj\u001b[0m\u001b[0;34m,\u001b[0m \u001b[0mdict\u001b[0m\u001b[0;34m)\u001b[0m\u001b[0;34m:\u001b[0m\u001b[0;34m\u001b[0m\u001b[0;34m\u001b[0m\u001b[0m\n\u001b[0;32m---> 60\u001b[0;31m         return {\n\u001b[0m\u001b[1;32m     61\u001b[0m             \u001b[0mk\u001b[0m\u001b[0;34m:\u001b[0m \u001b[0m_todict\u001b[0m\u001b[0;34m(\u001b[0m\u001b[0mv\u001b[0m\u001b[0;34m,\u001b[0m \u001b[0mvalidate\u001b[0m\u001b[0;34m,\u001b[0m \u001b[0mcontext\u001b[0m\u001b[0;34m)\u001b[0m\u001b[0;34m\u001b[0m\u001b[0;34m\u001b[0m\u001b[0m\n\u001b[1;32m     62\u001b[0m             \u001b[0;32mfor\u001b[0m \u001b[0mk\u001b[0m\u001b[0;34m,\u001b[0m \u001b[0mv\u001b[0m \u001b[0;32min\u001b[0m \u001b[0mobj\u001b[0m\u001b[0;34m.\u001b[0m\u001b[0mitems\u001b[0m\u001b[0;34m(\u001b[0m\u001b[0;34m)\u001b[0m\u001b[0;34m\u001b[0m\u001b[0;34m\u001b[0m\u001b[0m\n",
      "\u001b[0;32m/opt/anaconda3/lib/python3.9/site-packages/altair/utils/schemapi.py\u001b[0m in \u001b[0;36m<dictcomp>\u001b[0;34m(.0)\u001b[0m\n\u001b[1;32m     59\u001b[0m     \u001b[0;32melif\u001b[0m \u001b[0misinstance\u001b[0m\u001b[0;34m(\u001b[0m\u001b[0mobj\u001b[0m\u001b[0;34m,\u001b[0m \u001b[0mdict\u001b[0m\u001b[0;34m)\u001b[0m\u001b[0;34m:\u001b[0m\u001b[0;34m\u001b[0m\u001b[0;34m\u001b[0m\u001b[0m\n\u001b[1;32m     60\u001b[0m         return {\n\u001b[0;32m---> 61\u001b[0;31m             \u001b[0mk\u001b[0m\u001b[0;34m:\u001b[0m \u001b[0m_todict\u001b[0m\u001b[0;34m(\u001b[0m\u001b[0mv\u001b[0m\u001b[0;34m,\u001b[0m \u001b[0mvalidate\u001b[0m\u001b[0;34m,\u001b[0m \u001b[0mcontext\u001b[0m\u001b[0;34m)\u001b[0m\u001b[0;34m\u001b[0m\u001b[0;34m\u001b[0m\u001b[0m\n\u001b[0m\u001b[1;32m     62\u001b[0m             \u001b[0;32mfor\u001b[0m \u001b[0mk\u001b[0m\u001b[0;34m,\u001b[0m \u001b[0mv\u001b[0m \u001b[0;32min\u001b[0m \u001b[0mobj\u001b[0m\u001b[0;34m.\u001b[0m\u001b[0mitems\u001b[0m\u001b[0;34m(\u001b[0m\u001b[0;34m)\u001b[0m\u001b[0;34m\u001b[0m\u001b[0;34m\u001b[0m\u001b[0m\n\u001b[1;32m     63\u001b[0m             \u001b[0;32mif\u001b[0m \u001b[0mv\u001b[0m \u001b[0;32mis\u001b[0m \u001b[0;32mnot\u001b[0m \u001b[0mUndefined\u001b[0m\u001b[0;34m\u001b[0m\u001b[0;34m\u001b[0m\u001b[0m\n",
      "\u001b[0;32m/opt/anaconda3/lib/python3.9/site-packages/altair/utils/schemapi.py\u001b[0m in \u001b[0;36m_todict\u001b[0;34m(obj, validate, context)\u001b[0m\n\u001b[1;32m     54\u001b[0m     \u001b[0;34m\"\"\"Convert an object to a dict representation.\"\"\"\u001b[0m\u001b[0;34m\u001b[0m\u001b[0;34m\u001b[0m\u001b[0m\n\u001b[1;32m     55\u001b[0m     \u001b[0;32mif\u001b[0m \u001b[0misinstance\u001b[0m\u001b[0;34m(\u001b[0m\u001b[0mobj\u001b[0m\u001b[0;34m,\u001b[0m \u001b[0mSchemaBase\u001b[0m\u001b[0;34m)\u001b[0m\u001b[0;34m:\u001b[0m\u001b[0;34m\u001b[0m\u001b[0;34m\u001b[0m\u001b[0m\n\u001b[0;32m---> 56\u001b[0;31m         \u001b[0;32mreturn\u001b[0m \u001b[0mobj\u001b[0m\u001b[0;34m.\u001b[0m\u001b[0mto_dict\u001b[0m\u001b[0;34m(\u001b[0m\u001b[0mvalidate\u001b[0m\u001b[0;34m=\u001b[0m\u001b[0mvalidate\u001b[0m\u001b[0;34m,\u001b[0m \u001b[0mcontext\u001b[0m\u001b[0;34m=\u001b[0m\u001b[0mcontext\u001b[0m\u001b[0;34m)\u001b[0m\u001b[0;34m\u001b[0m\u001b[0;34m\u001b[0m\u001b[0m\n\u001b[0m\u001b[1;32m     57\u001b[0m     \u001b[0;32melif\u001b[0m \u001b[0misinstance\u001b[0m\u001b[0;34m(\u001b[0m\u001b[0mobj\u001b[0m\u001b[0;34m,\u001b[0m \u001b[0;34m(\u001b[0m\u001b[0mlist\u001b[0m\u001b[0;34m,\u001b[0m \u001b[0mtuple\u001b[0m\u001b[0;34m,\u001b[0m \u001b[0mnp\u001b[0m\u001b[0;34m.\u001b[0m\u001b[0mndarray\u001b[0m\u001b[0;34m)\u001b[0m\u001b[0;34m)\u001b[0m\u001b[0;34m:\u001b[0m\u001b[0;34m\u001b[0m\u001b[0;34m\u001b[0m\u001b[0m\n\u001b[1;32m     58\u001b[0m         \u001b[0;32mreturn\u001b[0m \u001b[0;34m[\u001b[0m\u001b[0m_todict\u001b[0m\u001b[0;34m(\u001b[0m\u001b[0mv\u001b[0m\u001b[0;34m,\u001b[0m \u001b[0mvalidate\u001b[0m\u001b[0;34m,\u001b[0m \u001b[0mcontext\u001b[0m\u001b[0;34m)\u001b[0m \u001b[0;32mfor\u001b[0m \u001b[0mv\u001b[0m \u001b[0;32min\u001b[0m \u001b[0mobj\u001b[0m\u001b[0;34m]\u001b[0m\u001b[0;34m\u001b[0m\u001b[0;34m\u001b[0m\u001b[0m\n",
      "\u001b[0;32m/opt/anaconda3/lib/python3.9/site-packages/altair/utils/schemapi.py\u001b[0m in \u001b[0;36mto_dict\u001b[0;34m(self, validate, ignore, context)\u001b[0m\n\u001b[1;32m    324\u001b[0m             \u001b[0mresult\u001b[0m \u001b[0;34m=\u001b[0m \u001b[0m_todict\u001b[0m\u001b[0;34m(\u001b[0m\u001b[0mself\u001b[0m\u001b[0;34m.\u001b[0m\u001b[0m_args\u001b[0m\u001b[0;34m[\u001b[0m\u001b[0;36m0\u001b[0m\u001b[0;34m]\u001b[0m\u001b[0;34m,\u001b[0m \u001b[0mvalidate\u001b[0m\u001b[0;34m=\u001b[0m\u001b[0msub_validate\u001b[0m\u001b[0;34m,\u001b[0m \u001b[0mcontext\u001b[0m\u001b[0;34m=\u001b[0m\u001b[0mcontext\u001b[0m\u001b[0;34m)\u001b[0m\u001b[0;34m\u001b[0m\u001b[0;34m\u001b[0m\u001b[0m\n\u001b[1;32m    325\u001b[0m         \u001b[0;32melif\u001b[0m \u001b[0;32mnot\u001b[0m \u001b[0mself\u001b[0m\u001b[0;34m.\u001b[0m\u001b[0m_args\u001b[0m\u001b[0;34m:\u001b[0m\u001b[0;34m\u001b[0m\u001b[0;34m\u001b[0m\u001b[0m\n\u001b[0;32m--> 326\u001b[0;31m             result = _todict(\n\u001b[0m\u001b[1;32m    327\u001b[0m                 \u001b[0;34m{\u001b[0m\u001b[0mk\u001b[0m\u001b[0;34m:\u001b[0m \u001b[0mv\u001b[0m \u001b[0;32mfor\u001b[0m \u001b[0mk\u001b[0m\u001b[0;34m,\u001b[0m \u001b[0mv\u001b[0m \u001b[0;32min\u001b[0m \u001b[0mself\u001b[0m\u001b[0;34m.\u001b[0m\u001b[0m_kwds\u001b[0m\u001b[0;34m.\u001b[0m\u001b[0mitems\u001b[0m\u001b[0;34m(\u001b[0m\u001b[0;34m)\u001b[0m \u001b[0;32mif\u001b[0m \u001b[0mk\u001b[0m \u001b[0;32mnot\u001b[0m \u001b[0;32min\u001b[0m \u001b[0mignore\u001b[0m\u001b[0;34m}\u001b[0m\u001b[0;34m,\u001b[0m\u001b[0;34m\u001b[0m\u001b[0;34m\u001b[0m\u001b[0m\n\u001b[1;32m    328\u001b[0m                 \u001b[0mvalidate\u001b[0m\u001b[0;34m=\u001b[0m\u001b[0msub_validate\u001b[0m\u001b[0;34m,\u001b[0m\u001b[0;34m\u001b[0m\u001b[0;34m\u001b[0m\u001b[0m\n",
      "\u001b[0;32m/opt/anaconda3/lib/python3.9/site-packages/altair/utils/schemapi.py\u001b[0m in \u001b[0;36m_todict\u001b[0;34m(obj, validate, context)\u001b[0m\n\u001b[1;32m     58\u001b[0m         \u001b[0;32mreturn\u001b[0m \u001b[0;34m[\u001b[0m\u001b[0m_todict\u001b[0m\u001b[0;34m(\u001b[0m\u001b[0mv\u001b[0m\u001b[0;34m,\u001b[0m \u001b[0mvalidate\u001b[0m\u001b[0;34m,\u001b[0m \u001b[0mcontext\u001b[0m\u001b[0;34m)\u001b[0m \u001b[0;32mfor\u001b[0m \u001b[0mv\u001b[0m \u001b[0;32min\u001b[0m \u001b[0mobj\u001b[0m\u001b[0;34m]\u001b[0m\u001b[0;34m\u001b[0m\u001b[0;34m\u001b[0m\u001b[0m\n\u001b[1;32m     59\u001b[0m     \u001b[0;32melif\u001b[0m \u001b[0misinstance\u001b[0m\u001b[0;34m(\u001b[0m\u001b[0mobj\u001b[0m\u001b[0;34m,\u001b[0m \u001b[0mdict\u001b[0m\u001b[0;34m)\u001b[0m\u001b[0;34m:\u001b[0m\u001b[0;34m\u001b[0m\u001b[0;34m\u001b[0m\u001b[0m\n\u001b[0;32m---> 60\u001b[0;31m         return {\n\u001b[0m\u001b[1;32m     61\u001b[0m             \u001b[0mk\u001b[0m\u001b[0;34m:\u001b[0m \u001b[0m_todict\u001b[0m\u001b[0;34m(\u001b[0m\u001b[0mv\u001b[0m\u001b[0;34m,\u001b[0m \u001b[0mvalidate\u001b[0m\u001b[0;34m,\u001b[0m \u001b[0mcontext\u001b[0m\u001b[0;34m)\u001b[0m\u001b[0;34m\u001b[0m\u001b[0;34m\u001b[0m\u001b[0m\n\u001b[1;32m     62\u001b[0m             \u001b[0;32mfor\u001b[0m \u001b[0mk\u001b[0m\u001b[0;34m,\u001b[0m \u001b[0mv\u001b[0m \u001b[0;32min\u001b[0m \u001b[0mobj\u001b[0m\u001b[0;34m.\u001b[0m\u001b[0mitems\u001b[0m\u001b[0;34m(\u001b[0m\u001b[0;34m)\u001b[0m\u001b[0;34m\u001b[0m\u001b[0;34m\u001b[0m\u001b[0m\n",
      "\u001b[0;32m/opt/anaconda3/lib/python3.9/site-packages/altair/utils/schemapi.py\u001b[0m in \u001b[0;36m<dictcomp>\u001b[0;34m(.0)\u001b[0m\n\u001b[1;32m     59\u001b[0m     \u001b[0;32melif\u001b[0m \u001b[0misinstance\u001b[0m\u001b[0;34m(\u001b[0m\u001b[0mobj\u001b[0m\u001b[0;34m,\u001b[0m \u001b[0mdict\u001b[0m\u001b[0;34m)\u001b[0m\u001b[0;34m:\u001b[0m\u001b[0;34m\u001b[0m\u001b[0;34m\u001b[0m\u001b[0m\n\u001b[1;32m     60\u001b[0m         return {\n\u001b[0;32m---> 61\u001b[0;31m             \u001b[0mk\u001b[0m\u001b[0;34m:\u001b[0m \u001b[0m_todict\u001b[0m\u001b[0;34m(\u001b[0m\u001b[0mv\u001b[0m\u001b[0;34m,\u001b[0m \u001b[0mvalidate\u001b[0m\u001b[0;34m,\u001b[0m \u001b[0mcontext\u001b[0m\u001b[0;34m)\u001b[0m\u001b[0;34m\u001b[0m\u001b[0;34m\u001b[0m\u001b[0m\n\u001b[0m\u001b[1;32m     62\u001b[0m             \u001b[0;32mfor\u001b[0m \u001b[0mk\u001b[0m\u001b[0;34m,\u001b[0m \u001b[0mv\u001b[0m \u001b[0;32min\u001b[0m \u001b[0mobj\u001b[0m\u001b[0;34m.\u001b[0m\u001b[0mitems\u001b[0m\u001b[0;34m(\u001b[0m\u001b[0;34m)\u001b[0m\u001b[0;34m\u001b[0m\u001b[0;34m\u001b[0m\u001b[0m\n\u001b[1;32m     63\u001b[0m             \u001b[0;32mif\u001b[0m \u001b[0mv\u001b[0m \u001b[0;32mis\u001b[0m \u001b[0;32mnot\u001b[0m \u001b[0mUndefined\u001b[0m\u001b[0;34m\u001b[0m\u001b[0;34m\u001b[0m\u001b[0m\n",
      "\u001b[0;32m/opt/anaconda3/lib/python3.9/site-packages/altair/utils/schemapi.py\u001b[0m in \u001b[0;36m_todict\u001b[0;34m(obj, validate, context)\u001b[0m\n\u001b[1;32m     56\u001b[0m         \u001b[0;32mreturn\u001b[0m \u001b[0mobj\u001b[0m\u001b[0;34m.\u001b[0m\u001b[0mto_dict\u001b[0m\u001b[0;34m(\u001b[0m\u001b[0mvalidate\u001b[0m\u001b[0;34m=\u001b[0m\u001b[0mvalidate\u001b[0m\u001b[0;34m,\u001b[0m \u001b[0mcontext\u001b[0m\u001b[0;34m=\u001b[0m\u001b[0mcontext\u001b[0m\u001b[0;34m)\u001b[0m\u001b[0;34m\u001b[0m\u001b[0;34m\u001b[0m\u001b[0m\n\u001b[1;32m     57\u001b[0m     \u001b[0;32melif\u001b[0m \u001b[0misinstance\u001b[0m\u001b[0;34m(\u001b[0m\u001b[0mobj\u001b[0m\u001b[0;34m,\u001b[0m \u001b[0;34m(\u001b[0m\u001b[0mlist\u001b[0m\u001b[0;34m,\u001b[0m \u001b[0mtuple\u001b[0m\u001b[0;34m,\u001b[0m \u001b[0mnp\u001b[0m\u001b[0;34m.\u001b[0m\u001b[0mndarray\u001b[0m\u001b[0;34m)\u001b[0m\u001b[0;34m)\u001b[0m\u001b[0;34m:\u001b[0m\u001b[0;34m\u001b[0m\u001b[0;34m\u001b[0m\u001b[0m\n\u001b[0;32m---> 58\u001b[0;31m         \u001b[0;32mreturn\u001b[0m \u001b[0;34m[\u001b[0m\u001b[0m_todict\u001b[0m\u001b[0;34m(\u001b[0m\u001b[0mv\u001b[0m\u001b[0;34m,\u001b[0m \u001b[0mvalidate\u001b[0m\u001b[0;34m,\u001b[0m \u001b[0mcontext\u001b[0m\u001b[0;34m)\u001b[0m \u001b[0;32mfor\u001b[0m \u001b[0mv\u001b[0m \u001b[0;32min\u001b[0m \u001b[0mobj\u001b[0m\u001b[0;34m]\u001b[0m\u001b[0;34m\u001b[0m\u001b[0;34m\u001b[0m\u001b[0m\n\u001b[0m\u001b[1;32m     59\u001b[0m     \u001b[0;32melif\u001b[0m \u001b[0misinstance\u001b[0m\u001b[0;34m(\u001b[0m\u001b[0mobj\u001b[0m\u001b[0;34m,\u001b[0m \u001b[0mdict\u001b[0m\u001b[0;34m)\u001b[0m\u001b[0;34m:\u001b[0m\u001b[0;34m\u001b[0m\u001b[0;34m\u001b[0m\u001b[0m\n\u001b[1;32m     60\u001b[0m         return {\n",
      "\u001b[0;32m/opt/anaconda3/lib/python3.9/site-packages/altair/utils/schemapi.py\u001b[0m in \u001b[0;36m<listcomp>\u001b[0;34m(.0)\u001b[0m\n\u001b[1;32m     56\u001b[0m         \u001b[0;32mreturn\u001b[0m \u001b[0mobj\u001b[0m\u001b[0;34m.\u001b[0m\u001b[0mto_dict\u001b[0m\u001b[0;34m(\u001b[0m\u001b[0mvalidate\u001b[0m\u001b[0;34m=\u001b[0m\u001b[0mvalidate\u001b[0m\u001b[0;34m,\u001b[0m \u001b[0mcontext\u001b[0m\u001b[0;34m=\u001b[0m\u001b[0mcontext\u001b[0m\u001b[0;34m)\u001b[0m\u001b[0;34m\u001b[0m\u001b[0;34m\u001b[0m\u001b[0m\n\u001b[1;32m     57\u001b[0m     \u001b[0;32melif\u001b[0m \u001b[0misinstance\u001b[0m\u001b[0;34m(\u001b[0m\u001b[0mobj\u001b[0m\u001b[0;34m,\u001b[0m \u001b[0;34m(\u001b[0m\u001b[0mlist\u001b[0m\u001b[0;34m,\u001b[0m \u001b[0mtuple\u001b[0m\u001b[0;34m,\u001b[0m \u001b[0mnp\u001b[0m\u001b[0;34m.\u001b[0m\u001b[0mndarray\u001b[0m\u001b[0;34m)\u001b[0m\u001b[0;34m)\u001b[0m\u001b[0;34m:\u001b[0m\u001b[0;34m\u001b[0m\u001b[0;34m\u001b[0m\u001b[0m\n\u001b[0;32m---> 58\u001b[0;31m         \u001b[0;32mreturn\u001b[0m \u001b[0;34m[\u001b[0m\u001b[0m_todict\u001b[0m\u001b[0;34m(\u001b[0m\u001b[0mv\u001b[0m\u001b[0;34m,\u001b[0m \u001b[0mvalidate\u001b[0m\u001b[0;34m,\u001b[0m \u001b[0mcontext\u001b[0m\u001b[0;34m)\u001b[0m \u001b[0;32mfor\u001b[0m \u001b[0mv\u001b[0m \u001b[0;32min\u001b[0m \u001b[0mobj\u001b[0m\u001b[0;34m]\u001b[0m\u001b[0;34m\u001b[0m\u001b[0;34m\u001b[0m\u001b[0m\n\u001b[0m\u001b[1;32m     59\u001b[0m     \u001b[0;32melif\u001b[0m \u001b[0misinstance\u001b[0m\u001b[0;34m(\u001b[0m\u001b[0mobj\u001b[0m\u001b[0;34m,\u001b[0m \u001b[0mdict\u001b[0m\u001b[0;34m)\u001b[0m\u001b[0;34m:\u001b[0m\u001b[0;34m\u001b[0m\u001b[0;34m\u001b[0m\u001b[0m\n\u001b[1;32m     60\u001b[0m         return {\n",
      "\u001b[0;32m/opt/anaconda3/lib/python3.9/site-packages/altair/utils/schemapi.py\u001b[0m in \u001b[0;36m_todict\u001b[0;34m(obj, validate, context)\u001b[0m\n\u001b[1;32m     54\u001b[0m     \u001b[0;34m\"\"\"Convert an object to a dict representation.\"\"\"\u001b[0m\u001b[0;34m\u001b[0m\u001b[0;34m\u001b[0m\u001b[0m\n\u001b[1;32m     55\u001b[0m     \u001b[0;32mif\u001b[0m \u001b[0misinstance\u001b[0m\u001b[0;34m(\u001b[0m\u001b[0mobj\u001b[0m\u001b[0;34m,\u001b[0m \u001b[0mSchemaBase\u001b[0m\u001b[0;34m)\u001b[0m\u001b[0;34m:\u001b[0m\u001b[0;34m\u001b[0m\u001b[0;34m\u001b[0m\u001b[0m\n\u001b[0;32m---> 56\u001b[0;31m         \u001b[0;32mreturn\u001b[0m \u001b[0mobj\u001b[0m\u001b[0;34m.\u001b[0m\u001b[0mto_dict\u001b[0m\u001b[0;34m(\u001b[0m\u001b[0mvalidate\u001b[0m\u001b[0;34m=\u001b[0m\u001b[0mvalidate\u001b[0m\u001b[0;34m,\u001b[0m \u001b[0mcontext\u001b[0m\u001b[0;34m=\u001b[0m\u001b[0mcontext\u001b[0m\u001b[0;34m)\u001b[0m\u001b[0;34m\u001b[0m\u001b[0;34m\u001b[0m\u001b[0m\n\u001b[0m\u001b[1;32m     57\u001b[0m     \u001b[0;32melif\u001b[0m \u001b[0misinstance\u001b[0m\u001b[0;34m(\u001b[0m\u001b[0mobj\u001b[0m\u001b[0;34m,\u001b[0m \u001b[0;34m(\u001b[0m\u001b[0mlist\u001b[0m\u001b[0;34m,\u001b[0m \u001b[0mtuple\u001b[0m\u001b[0;34m,\u001b[0m \u001b[0mnp\u001b[0m\u001b[0;34m.\u001b[0m\u001b[0mndarray\u001b[0m\u001b[0;34m)\u001b[0m\u001b[0;34m)\u001b[0m\u001b[0;34m:\u001b[0m\u001b[0;34m\u001b[0m\u001b[0;34m\u001b[0m\u001b[0m\n\u001b[1;32m     58\u001b[0m         \u001b[0;32mreturn\u001b[0m \u001b[0;34m[\u001b[0m\u001b[0m_todict\u001b[0m\u001b[0;34m(\u001b[0m\u001b[0mv\u001b[0m\u001b[0;34m,\u001b[0m \u001b[0mvalidate\u001b[0m\u001b[0;34m,\u001b[0m \u001b[0mcontext\u001b[0m\u001b[0;34m)\u001b[0m \u001b[0;32mfor\u001b[0m \u001b[0mv\u001b[0m \u001b[0;32min\u001b[0m \u001b[0mobj\u001b[0m\u001b[0;34m]\u001b[0m\u001b[0;34m\u001b[0m\u001b[0;34m\u001b[0m\u001b[0m\n",
      "\u001b[0;32m/opt/anaconda3/lib/python3.9/site-packages/altair/vegalite/v4/schema/channels.py\u001b[0m in \u001b[0;36mto_dict\u001b[0;34m(self, validate, ignore, context)\u001b[0m\n\u001b[1;32m     38\u001b[0m             \u001b[0;32melif\u001b[0m \u001b[0;32mnot\u001b[0m \u001b[0;34m(\u001b[0m\u001b[0mtype_in_shorthand\u001b[0m \u001b[0;32mor\u001b[0m \u001b[0mtype_defined_explicitly\u001b[0m\u001b[0;34m)\u001b[0m\u001b[0;34m:\u001b[0m\u001b[0;34m\u001b[0m\u001b[0;34m\u001b[0m\u001b[0m\n\u001b[1;32m     39\u001b[0m                 \u001b[0;32mif\u001b[0m \u001b[0misinstance\u001b[0m\u001b[0;34m(\u001b[0m\u001b[0mcontext\u001b[0m\u001b[0;34m.\u001b[0m\u001b[0mget\u001b[0m\u001b[0;34m(\u001b[0m\u001b[0;34m'data'\u001b[0m\u001b[0;34m,\u001b[0m \u001b[0;32mNone\u001b[0m\u001b[0;34m)\u001b[0m\u001b[0;34m,\u001b[0m \u001b[0mpd\u001b[0m\u001b[0;34m.\u001b[0m\u001b[0mDataFrame\u001b[0m\u001b[0;34m)\u001b[0m\u001b[0;34m:\u001b[0m\u001b[0;34m\u001b[0m\u001b[0;34m\u001b[0m\u001b[0m\n\u001b[0;32m---> 40\u001b[0;31m                     raise ValueError(\"{} encoding field is specified without a type; \"\n\u001b[0m\u001b[1;32m     41\u001b[0m                                      \u001b[0;34m\"the type cannot be inferred because it does not \"\u001b[0m\u001b[0;34m\u001b[0m\u001b[0;34m\u001b[0m\u001b[0m\n\u001b[1;32m     42\u001b[0m                                      \"match any column in the data.\".format(shorthand))\n",
      "\u001b[0;31mValueError\u001b[0m: cluster3 encoding field is specified without a type; the type cannot be inferred because it does not match any column in the data."
     ]
    },
    {
     "data": {
      "text/plain": [
       "alt.Chart(...)"
      ]
     },
     "execution_count": 6,
     "metadata": {},
     "output_type": "execute_result"
    }
   ],
   "source": [
    "#@title Use the encode and interactive methods from altair to specify the display of the scatter plot and its interactivity options\n",
    "#@title  plotting the clusters using an interactive scatter plot\n",
    "import altair as alt\n",
    "scatter_plot = alt.Chart(data).mark_circle()\n",
    "\n",
    "scatter_plot.encode(x='Age', \\\n",
    "                    y='Annual Income (k$)', \\\n",
    "                    color='cluster3:N', \\\n",
    "                    tooltip=['Spending Score (1-100)', 'cluster3', \\\n",
    "                             'Age', \\\n",
    "'Annual Income (k$)'])\\\n",
    "                   .interactive()\n"
   ]
  },
  {
   "cell_type": "code",
   "execution_count": 7,
   "id": "d3762e36-516f-46b8-bced-406446150353",
   "metadata": {},
   "outputs": [
    {
     "data": {
      "text/html": [
       "\n",
       "<div id=\"altair-viz-686e0ca9dd334e0d8db89b958a0cdbc3\"></div>\n",
       "<script type=\"text/javascript\">\n",
       "  var VEGA_DEBUG = (typeof VEGA_DEBUG == \"undefined\") ? {} : VEGA_DEBUG;\n",
       "  (function(spec, embedOpt){\n",
       "    let outputDiv = document.currentScript.previousElementSibling;\n",
       "    if (outputDiv.id !== \"altair-viz-686e0ca9dd334e0d8db89b958a0cdbc3\") {\n",
       "      outputDiv = document.getElementById(\"altair-viz-686e0ca9dd334e0d8db89b958a0cdbc3\");\n",
       "    }\n",
       "    const paths = {\n",
       "      \"vega\": \"https://cdn.jsdelivr.net/npm//vega@5?noext\",\n",
       "      \"vega-lib\": \"https://cdn.jsdelivr.net/npm//vega-lib?noext\",\n",
       "      \"vega-lite\": \"https://cdn.jsdelivr.net/npm//vega-lite@4.17.0?noext\",\n",
       "      \"vega-embed\": \"https://cdn.jsdelivr.net/npm//vega-embed@6?noext\",\n",
       "    };\n",
       "\n",
       "    function maybeLoadScript(lib, version) {\n",
       "      var key = `${lib.replace(\"-\", \"\")}_version`;\n",
       "      return (VEGA_DEBUG[key] == version) ?\n",
       "        Promise.resolve(paths[lib]) :\n",
       "        new Promise(function(resolve, reject) {\n",
       "          var s = document.createElement('script');\n",
       "          document.getElementsByTagName(\"head\")[0].appendChild(s);\n",
       "          s.async = true;\n",
       "          s.onload = () => {\n",
       "            VEGA_DEBUG[key] = version;\n",
       "            return resolve(paths[lib]);\n",
       "          };\n",
       "          s.onerror = () => reject(`Error loading script: ${paths[lib]}`);\n",
       "          s.src = paths[lib];\n",
       "        });\n",
       "    }\n",
       "\n",
       "    function showError(err) {\n",
       "      outputDiv.innerHTML = `<div class=\"error\" style=\"color:red;\">${err}</div>`;\n",
       "      throw err;\n",
       "    }\n",
       "\n",
       "    function displayChart(vegaEmbed) {\n",
       "      vegaEmbed(outputDiv, spec, embedOpt)\n",
       "        .catch(err => showError(`Javascript Error: ${err.message}<br>This usually means there's a typo in your chart specification. See the javascript console for the full traceback.`));\n",
       "    }\n",
       "\n",
       "    if(typeof define === \"function\" && define.amd) {\n",
       "      requirejs.config({paths});\n",
       "      require([\"vega-embed\"], displayChart, err => showError(`Error loading script: ${err.message}`));\n",
       "    } else {\n",
       "      maybeLoadScript(\"vega\", \"5\")\n",
       "        .then(() => maybeLoadScript(\"vega-lite\", \"4.17.0\"))\n",
       "        .then(() => maybeLoadScript(\"vega-embed\", \"6\"))\n",
       "        .catch(showError)\n",
       "        .then(() => displayChart(vegaEmbed));\n",
       "    }\n",
       "  })({\"config\": {\"view\": {\"continuousWidth\": 400, \"continuousHeight\": 300}}, \"data\": {\"name\": \"data-5bf304f57ff4e12bf42344a97d077fbc\"}, \"mark\": \"circle\", \"encoding\": {\"color\": {\"field\": \"cluster5\", \"type\": \"nominal\"}, \"tooltip\": [{\"field\": \"Spending Score (1-100)\", \"type\": \"quantitative\"}, {\"field\": \"cluster5\", \"type\": \"quantitative\"}, {\"field\": \"Age\", \"type\": \"quantitative\"}, {\"field\": \"Annual Income (k$)\", \"type\": \"quantitative\"}], \"x\": {\"field\": \"Age\", \"type\": \"quantitative\"}, \"y\": {\"field\": \"Annual Income (k$)\", \"type\": \"quantitative\"}}, \"selection\": {\"selector002\": {\"type\": \"interval\", \"bind\": \"scales\", \"encodings\": [\"x\", \"y\"]}}, \"$schema\": \"https://vega.github.io/schema/vega-lite/v4.17.0.json\", \"datasets\": {\"data-5bf304f57ff4e12bf42344a97d077fbc\": [{\"Age\": 19, \"Annual Income (k$)\": 15, \"Spending Score (1-100)\": 39, \"cluster5\": 2}, {\"Age\": 21, \"Annual Income (k$)\": 15, \"Spending Score (1-100)\": 81, \"cluster5\": 2}, {\"Age\": 20, \"Annual Income (k$)\": 16, \"Spending Score (1-100)\": 6, \"cluster5\": 2}, {\"Age\": 23, \"Annual Income (k$)\": 16, \"Spending Score (1-100)\": 77, \"cluster5\": 2}, {\"Age\": 31, \"Annual Income (k$)\": 17, \"Spending Score (1-100)\": 40, \"cluster5\": 2}, {\"Age\": 22, \"Annual Income (k$)\": 17, \"Spending Score (1-100)\": 76, \"cluster5\": 2}, {\"Age\": 35, \"Annual Income (k$)\": 18, \"Spending Score (1-100)\": 6, \"cluster5\": 2}, {\"Age\": 23, \"Annual Income (k$)\": 18, \"Spending Score (1-100)\": 94, \"cluster5\": 2}, {\"Age\": 64, \"Annual Income (k$)\": 19, \"Spending Score (1-100)\": 3, \"cluster5\": 1}, {\"Age\": 30, \"Annual Income (k$)\": 19, \"Spending Score (1-100)\": 72, \"cluster5\": 2}, {\"Age\": 67, \"Annual Income (k$)\": 19, \"Spending Score (1-100)\": 14, \"cluster5\": 1}, {\"Age\": 35, \"Annual Income (k$)\": 19, \"Spending Score (1-100)\": 99, \"cluster5\": 2}, {\"Age\": 58, \"Annual Income (k$)\": 20, \"Spending Score (1-100)\": 15, \"cluster5\": 2}, {\"Age\": 24, \"Annual Income (k$)\": 20, \"Spending Score (1-100)\": 77, \"cluster5\": 2}, {\"Age\": 37, \"Annual Income (k$)\": 20, \"Spending Score (1-100)\": 13, \"cluster5\": 2}, {\"Age\": 22, \"Annual Income (k$)\": 20, \"Spending Score (1-100)\": 79, \"cluster5\": 2}, {\"Age\": 35, \"Annual Income (k$)\": 21, \"Spending Score (1-100)\": 35, \"cluster5\": 2}, {\"Age\": 20, \"Annual Income (k$)\": 21, \"Spending Score (1-100)\": 66, \"cluster5\": 2}, {\"Age\": 52, \"Annual Income (k$)\": 23, \"Spending Score (1-100)\": 29, \"cluster5\": 2}, {\"Age\": 35, \"Annual Income (k$)\": 23, \"Spending Score (1-100)\": 98, \"cluster5\": 2}, {\"Age\": 35, \"Annual Income (k$)\": 24, \"Spending Score (1-100)\": 35, \"cluster5\": 2}, {\"Age\": 25, \"Annual Income (k$)\": 24, \"Spending Score (1-100)\": 73, \"cluster5\": 2}, {\"Age\": 46, \"Annual Income (k$)\": 25, \"Spending Score (1-100)\": 5, \"cluster5\": 2}, {\"Age\": 31, \"Annual Income (k$)\": 25, \"Spending Score (1-100)\": 73, \"cluster5\": 2}, {\"Age\": 54, \"Annual Income (k$)\": 28, \"Spending Score (1-100)\": 14, \"cluster5\": 2}, {\"Age\": 29, \"Annual Income (k$)\": 28, \"Spending Score (1-100)\": 82, \"cluster5\": 2}, {\"Age\": 45, \"Annual Income (k$)\": 28, \"Spending Score (1-100)\": 32, \"cluster5\": 2}, {\"Age\": 35, \"Annual Income (k$)\": 28, \"Spending Score (1-100)\": 61, \"cluster5\": 2}, {\"Age\": 40, \"Annual Income (k$)\": 29, \"Spending Score (1-100)\": 31, \"cluster5\": 2}, {\"Age\": 23, \"Annual Income (k$)\": 29, \"Spending Score (1-100)\": 87, \"cluster5\": 2}, {\"Age\": 60, \"Annual Income (k$)\": 30, \"Spending Score (1-100)\": 4, \"cluster5\": 1}, {\"Age\": 21, \"Annual Income (k$)\": 30, \"Spending Score (1-100)\": 73, \"cluster5\": 2}, {\"Age\": 53, \"Annual Income (k$)\": 33, \"Spending Score (1-100)\": 4, \"cluster5\": 1}, {\"Age\": 18, \"Annual Income (k$)\": 33, \"Spending Score (1-100)\": 92, \"cluster5\": 2}, {\"Age\": 49, \"Annual Income (k$)\": 33, \"Spending Score (1-100)\": 14, \"cluster5\": 2}, {\"Age\": 21, \"Annual Income (k$)\": 33, \"Spending Score (1-100)\": 81, \"cluster5\": 2}, {\"Age\": 42, \"Annual Income (k$)\": 34, \"Spending Score (1-100)\": 17, \"cluster5\": 2}, {\"Age\": 30, \"Annual Income (k$)\": 34, \"Spending Score (1-100)\": 73, \"cluster5\": 2}, {\"Age\": 36, \"Annual Income (k$)\": 37, \"Spending Score (1-100)\": 26, \"cluster5\": 2}, {\"Age\": 20, \"Annual Income (k$)\": 37, \"Spending Score (1-100)\": 75, \"cluster5\": 2}, {\"Age\": 65, \"Annual Income (k$)\": 38, \"Spending Score (1-100)\": 35, \"cluster5\": 1}, {\"Age\": 24, \"Annual Income (k$)\": 38, \"Spending Score (1-100)\": 92, \"cluster5\": 2}, {\"Age\": 48, \"Annual Income (k$)\": 39, \"Spending Score (1-100)\": 36, \"cluster5\": 1}, {\"Age\": 31, \"Annual Income (k$)\": 39, \"Spending Score (1-100)\": 61, \"cluster5\": 2}, {\"Age\": 49, \"Annual Income (k$)\": 39, \"Spending Score (1-100)\": 28, \"cluster5\": 1}, {\"Age\": 24, \"Annual Income (k$)\": 39, \"Spending Score (1-100)\": 65, \"cluster5\": 2}, {\"Age\": 50, \"Annual Income (k$)\": 40, \"Spending Score (1-100)\": 55, \"cluster5\": 1}, {\"Age\": 27, \"Annual Income (k$)\": 40, \"Spending Score (1-100)\": 47, \"cluster5\": 2}, {\"Age\": 29, \"Annual Income (k$)\": 40, \"Spending Score (1-100)\": 42, \"cluster5\": 2}, {\"Age\": 31, \"Annual Income (k$)\": 40, \"Spending Score (1-100)\": 42, \"cluster5\": 2}, {\"Age\": 49, \"Annual Income (k$)\": 42, \"Spending Score (1-100)\": 52, \"cluster5\": 1}, {\"Age\": 33, \"Annual Income (k$)\": 42, \"Spending Score (1-100)\": 60, \"cluster5\": 2}, {\"Age\": 31, \"Annual Income (k$)\": 43, \"Spending Score (1-100)\": 54, \"cluster5\": 2}, {\"Age\": 59, \"Annual Income (k$)\": 43, \"Spending Score (1-100)\": 60, \"cluster5\": 1}, {\"Age\": 50, \"Annual Income (k$)\": 43, \"Spending Score (1-100)\": 45, \"cluster5\": 1}, {\"Age\": 47, \"Annual Income (k$)\": 43, \"Spending Score (1-100)\": 41, \"cluster5\": 1}, {\"Age\": 51, \"Annual Income (k$)\": 44, \"Spending Score (1-100)\": 50, \"cluster5\": 1}, {\"Age\": 69, \"Annual Income (k$)\": 44, \"Spending Score (1-100)\": 46, \"cluster5\": 1}, {\"Age\": 27, \"Annual Income (k$)\": 46, \"Spending Score (1-100)\": 51, \"cluster5\": 2}, {\"Age\": 53, \"Annual Income (k$)\": 46, \"Spending Score (1-100)\": 46, \"cluster5\": 1}, {\"Age\": 70, \"Annual Income (k$)\": 46, \"Spending Score (1-100)\": 56, \"cluster5\": 1}, {\"Age\": 19, \"Annual Income (k$)\": 46, \"Spending Score (1-100)\": 55, \"cluster5\": 2}, {\"Age\": 67, \"Annual Income (k$)\": 47, \"Spending Score (1-100)\": 52, \"cluster5\": 1}, {\"Age\": 54, \"Annual Income (k$)\": 47, \"Spending Score (1-100)\": 59, \"cluster5\": 1}, {\"Age\": 63, \"Annual Income (k$)\": 48, \"Spending Score (1-100)\": 51, \"cluster5\": 1}, {\"Age\": 18, \"Annual Income (k$)\": 48, \"Spending Score (1-100)\": 59, \"cluster5\": 2}, {\"Age\": 43, \"Annual Income (k$)\": 48, \"Spending Score (1-100)\": 50, \"cluster5\": 1}, {\"Age\": 68, \"Annual Income (k$)\": 48, \"Spending Score (1-100)\": 48, \"cluster5\": 1}, {\"Age\": 19, \"Annual Income (k$)\": 48, \"Spending Score (1-100)\": 59, \"cluster5\": 2}, {\"Age\": 32, \"Annual Income (k$)\": 48, \"Spending Score (1-100)\": 47, \"cluster5\": 2}, {\"Age\": 70, \"Annual Income (k$)\": 49, \"Spending Score (1-100)\": 55, \"cluster5\": 1}, {\"Age\": 47, \"Annual Income (k$)\": 49, \"Spending Score (1-100)\": 42, \"cluster5\": 1}, {\"Age\": 60, \"Annual Income (k$)\": 50, \"Spending Score (1-100)\": 49, \"cluster5\": 1}, {\"Age\": 60, \"Annual Income (k$)\": 50, \"Spending Score (1-100)\": 56, \"cluster5\": 1}, {\"Age\": 59, \"Annual Income (k$)\": 54, \"Spending Score (1-100)\": 47, \"cluster5\": 1}, {\"Age\": 26, \"Annual Income (k$)\": 54, \"Spending Score (1-100)\": 54, \"cluster5\": 3}, {\"Age\": 45, \"Annual Income (k$)\": 54, \"Spending Score (1-100)\": 53, \"cluster5\": 1}, {\"Age\": 40, \"Annual Income (k$)\": 54, \"Spending Score (1-100)\": 48, \"cluster5\": 1}, {\"Age\": 23, \"Annual Income (k$)\": 54, \"Spending Score (1-100)\": 52, \"cluster5\": 3}, {\"Age\": 49, \"Annual Income (k$)\": 54, \"Spending Score (1-100)\": 42, \"cluster5\": 1}, {\"Age\": 57, \"Annual Income (k$)\": 54, \"Spending Score (1-100)\": 51, \"cluster5\": 1}, {\"Age\": 38, \"Annual Income (k$)\": 54, \"Spending Score (1-100)\": 55, \"cluster5\": 1}, {\"Age\": 67, \"Annual Income (k$)\": 54, \"Spending Score (1-100)\": 41, \"cluster5\": 1}, {\"Age\": 46, \"Annual Income (k$)\": 54, \"Spending Score (1-100)\": 44, \"cluster5\": 1}, {\"Age\": 21, \"Annual Income (k$)\": 54, \"Spending Score (1-100)\": 57, \"cluster5\": 3}, {\"Age\": 48, \"Annual Income (k$)\": 54, \"Spending Score (1-100)\": 46, \"cluster5\": 1}, {\"Age\": 55, \"Annual Income (k$)\": 57, \"Spending Score (1-100)\": 58, \"cluster5\": 1}, {\"Age\": 22, \"Annual Income (k$)\": 57, \"Spending Score (1-100)\": 55, \"cluster5\": 3}, {\"Age\": 34, \"Annual Income (k$)\": 58, \"Spending Score (1-100)\": 60, \"cluster5\": 3}, {\"Age\": 50, \"Annual Income (k$)\": 58, \"Spending Score (1-100)\": 46, \"cluster5\": 1}, {\"Age\": 68, \"Annual Income (k$)\": 59, \"Spending Score (1-100)\": 55, \"cluster5\": 1}, {\"Age\": 18, \"Annual Income (k$)\": 59, \"Spending Score (1-100)\": 41, \"cluster5\": 3}, {\"Age\": 48, \"Annual Income (k$)\": 60, \"Spending Score (1-100)\": 49, \"cluster5\": 1}, {\"Age\": 40, \"Annual Income (k$)\": 60, \"Spending Score (1-100)\": 40, \"cluster5\": 3}, {\"Age\": 32, \"Annual Income (k$)\": 60, \"Spending Score (1-100)\": 42, \"cluster5\": 3}, {\"Age\": 24, \"Annual Income (k$)\": 60, \"Spending Score (1-100)\": 52, \"cluster5\": 3}, {\"Age\": 47, \"Annual Income (k$)\": 60, \"Spending Score (1-100)\": 47, \"cluster5\": 1}, {\"Age\": 27, \"Annual Income (k$)\": 60, \"Spending Score (1-100)\": 50, \"cluster5\": 3}, {\"Age\": 48, \"Annual Income (k$)\": 61, \"Spending Score (1-100)\": 42, \"cluster5\": 1}, {\"Age\": 20, \"Annual Income (k$)\": 61, \"Spending Score (1-100)\": 49, \"cluster5\": 3}, {\"Age\": 23, \"Annual Income (k$)\": 62, \"Spending Score (1-100)\": 41, \"cluster5\": 3}, {\"Age\": 49, \"Annual Income (k$)\": 62, \"Spending Score (1-100)\": 48, \"cluster5\": 1}, {\"Age\": 67, \"Annual Income (k$)\": 62, \"Spending Score (1-100)\": 59, \"cluster5\": 1}, {\"Age\": 26, \"Annual Income (k$)\": 62, \"Spending Score (1-100)\": 55, \"cluster5\": 3}, {\"Age\": 49, \"Annual Income (k$)\": 62, \"Spending Score (1-100)\": 56, \"cluster5\": 1}, {\"Age\": 21, \"Annual Income (k$)\": 62, \"Spending Score (1-100)\": 42, \"cluster5\": 3}, {\"Age\": 66, \"Annual Income (k$)\": 63, \"Spending Score (1-100)\": 50, \"cluster5\": 1}, {\"Age\": 54, \"Annual Income (k$)\": 63, \"Spending Score (1-100)\": 46, \"cluster5\": 1}, {\"Age\": 68, \"Annual Income (k$)\": 63, \"Spending Score (1-100)\": 43, \"cluster5\": 1}, {\"Age\": 66, \"Annual Income (k$)\": 63, \"Spending Score (1-100)\": 48, \"cluster5\": 1}, {\"Age\": 65, \"Annual Income (k$)\": 63, \"Spending Score (1-100)\": 52, \"cluster5\": 1}, {\"Age\": 19, \"Annual Income (k$)\": 63, \"Spending Score (1-100)\": 54, \"cluster5\": 3}, {\"Age\": 38, \"Annual Income (k$)\": 64, \"Spending Score (1-100)\": 42, \"cluster5\": 3}, {\"Age\": 19, \"Annual Income (k$)\": 64, \"Spending Score (1-100)\": 46, \"cluster5\": 3}, {\"Age\": 18, \"Annual Income (k$)\": 65, \"Spending Score (1-100)\": 48, \"cluster5\": 3}, {\"Age\": 19, \"Annual Income (k$)\": 65, \"Spending Score (1-100)\": 50, \"cluster5\": 3}, {\"Age\": 63, \"Annual Income (k$)\": 65, \"Spending Score (1-100)\": 43, \"cluster5\": 1}, {\"Age\": 49, \"Annual Income (k$)\": 65, \"Spending Score (1-100)\": 59, \"cluster5\": 1}, {\"Age\": 51, \"Annual Income (k$)\": 67, \"Spending Score (1-100)\": 43, \"cluster5\": 1}, {\"Age\": 50, \"Annual Income (k$)\": 67, \"Spending Score (1-100)\": 57, \"cluster5\": 1}, {\"Age\": 27, \"Annual Income (k$)\": 67, \"Spending Score (1-100)\": 56, \"cluster5\": 3}, {\"Age\": 38, \"Annual Income (k$)\": 67, \"Spending Score (1-100)\": 40, \"cluster5\": 3}, {\"Age\": 40, \"Annual Income (k$)\": 69, \"Spending Score (1-100)\": 58, \"cluster5\": 3}, {\"Age\": 39, \"Annual Income (k$)\": 69, \"Spending Score (1-100)\": 91, \"cluster5\": 3}, {\"Age\": 23, \"Annual Income (k$)\": 70, \"Spending Score (1-100)\": 29, \"cluster5\": 3}, {\"Age\": 31, \"Annual Income (k$)\": 70, \"Spending Score (1-100)\": 77, \"cluster5\": 3}, {\"Age\": 43, \"Annual Income (k$)\": 71, \"Spending Score (1-100)\": 35, \"cluster5\": 3}, {\"Age\": 40, \"Annual Income (k$)\": 71, \"Spending Score (1-100)\": 95, \"cluster5\": 3}, {\"Age\": 59, \"Annual Income (k$)\": 71, \"Spending Score (1-100)\": 11, \"cluster5\": 1}, {\"Age\": 38, \"Annual Income (k$)\": 71, \"Spending Score (1-100)\": 75, \"cluster5\": 3}, {\"Age\": 47, \"Annual Income (k$)\": 71, \"Spending Score (1-100)\": 9, \"cluster5\": 3}, {\"Age\": 39, \"Annual Income (k$)\": 71, \"Spending Score (1-100)\": 75, \"cluster5\": 3}, {\"Age\": 25, \"Annual Income (k$)\": 72, \"Spending Score (1-100)\": 34, \"cluster5\": 3}, {\"Age\": 31, \"Annual Income (k$)\": 72, \"Spending Score (1-100)\": 71, \"cluster5\": 3}, {\"Age\": 20, \"Annual Income (k$)\": 73, \"Spending Score (1-100)\": 5, \"cluster5\": 3}, {\"Age\": 29, \"Annual Income (k$)\": 73, \"Spending Score (1-100)\": 88, \"cluster5\": 3}, {\"Age\": 44, \"Annual Income (k$)\": 73, \"Spending Score (1-100)\": 7, \"cluster5\": 3}, {\"Age\": 32, \"Annual Income (k$)\": 73, \"Spending Score (1-100)\": 73, \"cluster5\": 3}, {\"Age\": 19, \"Annual Income (k$)\": 74, \"Spending Score (1-100)\": 10, \"cluster5\": 3}, {\"Age\": 35, \"Annual Income (k$)\": 74, \"Spending Score (1-100)\": 72, \"cluster5\": 3}, {\"Age\": 57, \"Annual Income (k$)\": 75, \"Spending Score (1-100)\": 5, \"cluster5\": 1}, {\"Age\": 32, \"Annual Income (k$)\": 75, \"Spending Score (1-100)\": 93, \"cluster5\": 3}, {\"Age\": 28, \"Annual Income (k$)\": 76, \"Spending Score (1-100)\": 40, \"cluster5\": 3}, {\"Age\": 32, \"Annual Income (k$)\": 76, \"Spending Score (1-100)\": 87, \"cluster5\": 3}, {\"Age\": 25, \"Annual Income (k$)\": 77, \"Spending Score (1-100)\": 12, \"cluster5\": 3}, {\"Age\": 28, \"Annual Income (k$)\": 77, \"Spending Score (1-100)\": 97, \"cluster5\": 3}, {\"Age\": 48, \"Annual Income (k$)\": 77, \"Spending Score (1-100)\": 36, \"cluster5\": 3}, {\"Age\": 32, \"Annual Income (k$)\": 77, \"Spending Score (1-100)\": 74, \"cluster5\": 3}, {\"Age\": 34, \"Annual Income (k$)\": 78, \"Spending Score (1-100)\": 22, \"cluster5\": 3}, {\"Age\": 34, \"Annual Income (k$)\": 78, \"Spending Score (1-100)\": 90, \"cluster5\": 3}, {\"Age\": 43, \"Annual Income (k$)\": 78, \"Spending Score (1-100)\": 17, \"cluster5\": 3}, {\"Age\": 39, \"Annual Income (k$)\": 78, \"Spending Score (1-100)\": 88, \"cluster5\": 3}, {\"Age\": 44, \"Annual Income (k$)\": 78, \"Spending Score (1-100)\": 20, \"cluster5\": 3}, {\"Age\": 38, \"Annual Income (k$)\": 78, \"Spending Score (1-100)\": 76, \"cluster5\": 3}, {\"Age\": 47, \"Annual Income (k$)\": 78, \"Spending Score (1-100)\": 16, \"cluster5\": 3}, {\"Age\": 27, \"Annual Income (k$)\": 78, \"Spending Score (1-100)\": 89, \"cluster5\": 3}, {\"Age\": 37, \"Annual Income (k$)\": 78, \"Spending Score (1-100)\": 1, \"cluster5\": 3}, {\"Age\": 30, \"Annual Income (k$)\": 78, \"Spending Score (1-100)\": 78, \"cluster5\": 3}, {\"Age\": 34, \"Annual Income (k$)\": 78, \"Spending Score (1-100)\": 1, \"cluster5\": 3}, {\"Age\": 30, \"Annual Income (k$)\": 78, \"Spending Score (1-100)\": 73, \"cluster5\": 3}, {\"Age\": 56, \"Annual Income (k$)\": 79, \"Spending Score (1-100)\": 35, \"cluster5\": 3}, {\"Age\": 29, \"Annual Income (k$)\": 79, \"Spending Score (1-100)\": 83, \"cluster5\": 3}, {\"Age\": 19, \"Annual Income (k$)\": 81, \"Spending Score (1-100)\": 5, \"cluster5\": 3}, {\"Age\": 31, \"Annual Income (k$)\": 81, \"Spending Score (1-100)\": 93, \"cluster5\": 3}, {\"Age\": 50, \"Annual Income (k$)\": 85, \"Spending Score (1-100)\": 26, \"cluster5\": 3}, {\"Age\": 36, \"Annual Income (k$)\": 85, \"Spending Score (1-100)\": 75, \"cluster5\": 3}, {\"Age\": 42, \"Annual Income (k$)\": 86, \"Spending Score (1-100)\": 20, \"cluster5\": 3}, {\"Age\": 33, \"Annual Income (k$)\": 86, \"Spending Score (1-100)\": 95, \"cluster5\": 3}, {\"Age\": 36, \"Annual Income (k$)\": 87, \"Spending Score (1-100)\": 27, \"cluster5\": 3}, {\"Age\": 32, \"Annual Income (k$)\": 87, \"Spending Score (1-100)\": 63, \"cluster5\": 3}, {\"Age\": 40, \"Annual Income (k$)\": 87, \"Spending Score (1-100)\": 13, \"cluster5\": 3}, {\"Age\": 28, \"Annual Income (k$)\": 87, \"Spending Score (1-100)\": 75, \"cluster5\": 3}, {\"Age\": 36, \"Annual Income (k$)\": 87, \"Spending Score (1-100)\": 10, \"cluster5\": 3}, {\"Age\": 36, \"Annual Income (k$)\": 87, \"Spending Score (1-100)\": 92, \"cluster5\": 3}, {\"Age\": 52, \"Annual Income (k$)\": 88, \"Spending Score (1-100)\": 13, \"cluster5\": 0}, {\"Age\": 30, \"Annual Income (k$)\": 88, \"Spending Score (1-100)\": 86, \"cluster5\": 3}, {\"Age\": 58, \"Annual Income (k$)\": 88, \"Spending Score (1-100)\": 15, \"cluster5\": 0}, {\"Age\": 27, \"Annual Income (k$)\": 88, \"Spending Score (1-100)\": 69, \"cluster5\": 3}, {\"Age\": 59, \"Annual Income (k$)\": 93, \"Spending Score (1-100)\": 14, \"cluster5\": 0}, {\"Age\": 35, \"Annual Income (k$)\": 93, \"Spending Score (1-100)\": 90, \"cluster5\": 0}, {\"Age\": 37, \"Annual Income (k$)\": 97, \"Spending Score (1-100)\": 32, \"cluster5\": 0}, {\"Age\": 32, \"Annual Income (k$)\": 97, \"Spending Score (1-100)\": 86, \"cluster5\": 0}, {\"Age\": 46, \"Annual Income (k$)\": 98, \"Spending Score (1-100)\": 15, \"cluster5\": 0}, {\"Age\": 29, \"Annual Income (k$)\": 98, \"Spending Score (1-100)\": 88, \"cluster5\": 0}, {\"Age\": 41, \"Annual Income (k$)\": 99, \"Spending Score (1-100)\": 39, \"cluster5\": 0}, {\"Age\": 30, \"Annual Income (k$)\": 99, \"Spending Score (1-100)\": 97, \"cluster5\": 0}, {\"Age\": 54, \"Annual Income (k$)\": 101, \"Spending Score (1-100)\": 24, \"cluster5\": 0}, {\"Age\": 28, \"Annual Income (k$)\": 101, \"Spending Score (1-100)\": 68, \"cluster5\": 0}, {\"Age\": 41, \"Annual Income (k$)\": 103, \"Spending Score (1-100)\": 17, \"cluster5\": 0}, {\"Age\": 36, \"Annual Income (k$)\": 103, \"Spending Score (1-100)\": 85, \"cluster5\": 0}, {\"Age\": 34, \"Annual Income (k$)\": 103, \"Spending Score (1-100)\": 23, \"cluster5\": 0}, {\"Age\": 32, \"Annual Income (k$)\": 103, \"Spending Score (1-100)\": 69, \"cluster5\": 0}, {\"Age\": 33, \"Annual Income (k$)\": 113, \"Spending Score (1-100)\": 8, \"cluster5\": 0}, {\"Age\": 38, \"Annual Income (k$)\": 113, \"Spending Score (1-100)\": 91, \"cluster5\": 0}, {\"Age\": 47, \"Annual Income (k$)\": 120, \"Spending Score (1-100)\": 16, \"cluster5\": 0}, {\"Age\": 35, \"Annual Income (k$)\": 120, \"Spending Score (1-100)\": 79, \"cluster5\": 0}, {\"Age\": 45, \"Annual Income (k$)\": 126, \"Spending Score (1-100)\": 28, \"cluster5\": 0}, {\"Age\": 32, \"Annual Income (k$)\": 126, \"Spending Score (1-100)\": 74, \"cluster5\": 0}, {\"Age\": 32, \"Annual Income (k$)\": 137, \"Spending Score (1-100)\": 18, \"cluster5\": 0}, {\"Age\": 30, \"Annual Income (k$)\": 137, \"Spending Score (1-100)\": 83, \"cluster5\": 0}]}}, {\"mode\": \"vega-lite\"});\n",
       "</script>"
      ],
      "text/plain": [
       "alt.Chart(...)"
      ]
     },
     "execution_count": 7,
     "metadata": {},
     "output_type": "execute_result"
    }
   ],
   "source": [
    "#@title Again, repeat Steps 5 to 8 but with different k-means hyperparameters – n_init=100 and random init\n",
    "kmeans = KMeans(random_state=1, n_clusters=4, \\\n",
    "                init='random', n_init=100)\n",
    "kmeans.fit(X)\n",
    "data['cluster5'] = kmeans.predict(X)\n",
    "scatter_plot = alt.Chart(data).mark_circle()\n",
    "scatter_plot.encode(x='Age', \\\n",
    "                    y='Annual Income (k$)', \\\n",
    "                    color='cluster5:N', \\\n",
    "                    tooltip=['Spending Score (1-100)', 'cluster5', \\\n",
    "                    'Age', \\\n",
    "                    'Annual Income (k$)'])\\\n",
    "            .interactive()\n"
   ]
  },
  {
   "cell_type": "code",
   "execution_count": 8,
   "id": "c4b09811-d514-4456-8e39-1d6384b8d922",
   "metadata": {},
   "outputs": [],
   "source": [
    "#@title Now, calculate the minimum and maximum using the min() and max() values\n",
    "age_min = data['Age'].min()\n",
    "age_max = data['Age'].max()\n",
    "annual_inc_min = data['Annual Income (k$)'].min()\n",
    "annual_inc_max = data['Annual Income (k$)']\\\n",
    "                        .max()"
   ]
  },
  {
   "cell_type": "code",
   "execution_count": 9,
   "id": "f46ed8c7-68b9-44e2-8217-1edae8dd4b4d",
   "metadata": {},
   "outputs": [
    {
     "name": "stdout",
     "output_type": "stream",
     "text": [
      "18\n",
      "70\n",
      "15\n",
      "137\n"
     ]
    }
   ],
   "source": [
    "#@title Print the values of these four variables\n",
    "print(age_min)\n",
    "print(age_max)\n",
    "print(annual_inc_min)\n",
    "print(annual_inc_max)"
   ]
  },
  {
   "cell_type": "code",
   "execution_count": 10,
   "id": "596bd9a9-8267-47cc-a38a-351472f3a59e",
   "metadata": {},
   "outputs": [],
   "source": [
    "#@title Now import the random package and use the seed() method to set a seed of \n",
    "42\n",
    "import random\n",
    "random.seed(42)"
   ]
  },
  {
   "cell_type": "code",
   "execution_count": null,
   "id": "bbcf74ab-c907-437d-b380-ca8916e20568",
   "metadata": {},
   "outputs": [],
   "source": []
  }
 ],
 "metadata": {
  "kernelspec": {
   "display_name": "Python 3 (ipykernel)",
   "language": "python",
   "name": "python3"
  },
  "language_info": {
   "codemirror_mode": {
    "name": "ipython",
    "version": 3
   },
   "file_extension": ".py",
   "mimetype": "text/x-python",
   "name": "python",
   "nbconvert_exporter": "python",
   "pygments_lexer": "ipython3",
   "version": "3.9.7"
  }
 },
 "nbformat": 4,
 "nbformat_minor": 5
}
