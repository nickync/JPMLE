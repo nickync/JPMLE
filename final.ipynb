{
 "cells": [
  {
   "cell_type": "markdown",
   "id": "04933c1e-97c9-4c28-ae2a-79168872ae78",
   "metadata": {},
   "source": [
    "# Final Project: Home Credit Default Risk Competition"
   ]
  },
  {
   "cell_type": "markdown",
   "id": "22d96812-a711-4566-aa27-dcdeb79afc4d",
   "metadata": {},
   "source": [
    "## *In this final project, we will build the best model (as judged by the ROC_AUC score) using the Home Credit default dataset. The objective of this data science project is to use historical loan application data to predict whether or not an applicant will be able to repay a loan. This is a standard supervised classification task:*\n",
    "- Supervised: The labels are included in the training data and the goal is to train a model to learn to predict the labels from th饿features\n",
    "- Classification: The label is a binary variable, 0 (will repay loan on time), 1 (will have difficulty repaying loan)"
   ]
  },
  {
   "cell_type": "code",
   "execution_count": 1,
   "id": "3b8502b9-9328-41e8-b325-4a50eabfeac2",
   "metadata": {},
   "outputs": [],
   "source": [
    "# import necessary libraries\n",
    "import pandas as pd\n",
    "import numpy as np\n",
    "import matplotlib.pyplot as plt\n",
    "import tensorflow as tf"
   ]
  },
  {
   "cell_type": "code",
   "execution_count": null,
   "id": "1651faae-8ec8-4228-942b-5bfcbe328766",
   "metadata": {},
   "outputs": [],
   "source": [
    "# load dataset\n",
    "df = pd.read_csv('https://media.githubusercontent.com/media/nickync/JPMLE/main/datasets/application_train.csv')"
   ]
  },
  {
   "cell_type": "markdown",
   "id": "ec332fe6-268b-4df8-ba9b-e4e221b49f32",
   "metadata": {},
   "source": [
    "### EDA analysis"
   ]
  },
  {
   "cell_type": "code",
   "execution_count": null,
   "id": "72e24991-2a52-43b1-ab89-eb7fc287da84",
   "metadata": {},
   "outputs": [],
   "source": [
    "df.head()"
   ]
  },
  {
   "cell_type": "code",
   "execution_count": null,
   "id": "3dc4cfd3-257e-402f-af0f-058f0dec2a3b",
   "metadata": {},
   "outputs": [],
   "source": [
    "# get describtion of columns\n",
    "des = pd.read_csv('./datasets/HomeCredit_columns_description.csv', encoding = \"ISO-8859-1\", sep=',')"
   ]
  },
  {
   "cell_type": "code",
   "execution_count": null,
   "id": "37ca9509-7de6-4acc-843e-709e71f45e56",
   "metadata": {},
   "outputs": [],
   "source": [
    "des.head()"
   ]
  },
  {
   "cell_type": "code",
   "execution_count": null,
   "id": "dbcc4204-0be0-450c-8122-ec76f3205368",
   "metadata": {},
   "outputs": [],
   "source": [
    "des.drop(['Unnamed: 0','Table'], axis=1, inplace=True)"
   ]
  },
  {
   "cell_type": "code",
   "execution_count": null,
   "id": "b2952818-12df-4e3c-87b0-ed4bae6fd6c5",
   "metadata": {},
   "outputs": [],
   "source": [
    "#!pip install tabulate\n",
    "\n",
    "print(des.to_markdown())"
   ]
  },
  {
   "cell_type": "code",
   "execution_count": null,
   "id": "79b5f001-10cd-462a-998e-d35a85707c16",
   "metadata": {},
   "outputs": [],
   "source": []
  }
 ],
 "metadata": {
  "kernelspec": {
   "display_name": "Python 3 (ipykernel)",
   "language": "python",
   "name": "python3"
  },
  "language_info": {
   "codemirror_mode": {
    "name": "ipython",
    "version": 3
   },
   "file_extension": ".py",
   "mimetype": "text/x-python",
   "name": "python",
   "nbconvert_exporter": "python",
   "pygments_lexer": "ipython3",
   "version": "3.8.13"
  }
 },
 "nbformat": 4,
 "nbformat_minor": 5
}
