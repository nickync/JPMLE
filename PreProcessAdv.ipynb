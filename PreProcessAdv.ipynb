{
 "cells": [
  {
   "cell_type": "code",
   "execution_count": null,
   "id": "3b142806-ffd3-420a-a98d-a827877727bf",
   "metadata": {},
   "outputs": [],
   "source": [
    "## Load Data"
   ]
  },
  {
   "cell_type": "code",
   "execution_count": null,
   "id": "4b2a9755-0e2c-4c07-944a-b14c2ceb71a8",
   "metadata": {},
   "outputs": [],
   "source": [
    "import pandas as pd\n",
    "\n",
    "adult_census = pd.read_csv(\"https://github.com/fenago/MLEssentials2/blob/main/datasets/adult-census.csv?raw=true\")\n",
    "# drop the duplicated column `\"education-num\"` as stated in the first notebook\n",
    "adult_census = adult_census.drop(columns=\"education-num\")\n",
    "\n",
    "target_name = \"class\"\n",
    "target = adult_census[target_name]\n",
    "\n",
    "data = adult_census.drop(columns=[target_name])"
   ]
  },
  {
   "cell_type": "markdown",
   "id": "73ac475a-e381-4697-ae03-d3b169af8fa0",
   "metadata": {},
   "source": [
    "## Selection based on data types\n",
    "We will separate categorical and numerical variables using their data types to identify them, as we saw previously that object corresponds to categorical columns (strings). We make use of make_column_selector helper to select the corresponding columns."
   ]
  },
  {
   "cell_type": "code",
   "execution_count": null,
   "id": "83b5e44d-6d23-4679-aae1-ef7881576815",
   "metadata": {},
   "outputs": [],
   "source": [
    "from sklearn.compose import make_column_selector as selector\n",
    "\n",
    "numerical_columns_selector = selector(dtype_exclude=object)\n",
    "categorical_columns_selector = selector(dtype_include=object)\n",
    "\n",
    "numerical_columns = numerical_columns_selector(data)\n",
    "categorical_columns = categorical_columns_selector(data)"
   ]
  },
  {
   "cell_type": "markdown",
   "id": "da552210-aa14-48a1-a002-9fa4a1314e63",
   "metadata": {},
   "source": [
    "Above, we know that object data type is used to represent strings and thus categorical features. Be aware that this is not always the case. Sometimes object data type could contain other types of information, such as dates that were not properly formatted (strings) and yet relate to a quantity of elapsed time.\n",
    "\n",
    "In a more general scenario you should manually introspect the content of your dataframe not to wrongly use make_column_selector."
   ]
  },
  {
   "cell_type": "markdown",
   "id": "52f3b2e3-ae93-45f1-878f-696ce54d7498",
   "metadata": {},
   "source": [
    "## Dispatch columns to a specific processor\n",
    "We need to treat data differently depending on their nature (i.e. numerical or categorical).\n",
    "\n",
    "Scikit-learn provides a ColumnTransformer class which will send specific columns to a specific transformer, making it easy to fit a single predictive model on a dataset that combines both kinds of variables together (heterogeneously typed tabular data).\n",
    "\n",
    "We first define the columns depending on their data type:\n",
    "\n",
    "one-hot encoding will be applied to categorical columns. Besides, we use handle_unknown=\"ignore\" to solve the potential issues due to rare categories.\n",
    "\n",
    "numerical scaling numerical features which will be standardized.\n",
    "\n",
    "Now, we create our ColumnTransfomer by specifying three values: the preprocessor name, the transformer, and the columns. First, let’s create the preprocessors for the numerical and categorical parts."
   ]
  },
  {
   "cell_type": "code",
   "execution_count": null,
   "id": "cb18854d-3314-4b90-b690-1eebb89c32bf",
   "metadata": {},
   "outputs": [],
   "source": [
    "from sklearn.preprocessing import OneHotEncoder, StandardScaler\n",
    "\n",
    "categorical_preprocessor = OneHotEncoder(handle_unknown=\"ignore\")\n",
    "numerical_preprocessor = StandardScaler()"
   ]
  },
  {
   "cell_type": "markdown",
   "id": "48b2c885-9ad3-4a32-87b8-83fa3360fcec",
   "metadata": {},
   "source": [
    "Now, we create the transformer and associate each of these preprocessors with their respective columns."
   ]
  },
  {
   "cell_type": "code",
   "execution_count": null,
   "id": "24b20d7e-b730-49c4-bd1f-0fe750dc0a4c",
   "metadata": {},
   "outputs": [],
   "source": [
    "from sklearn.compose import ColumnTransformer\n",
    "\n",
    "preprocessor = ColumnTransformer([\n",
    "    ('one-hot-encoder', categorical_preprocessor, categorical_columns),\n",
    "    ('standard_scaler', numerical_preprocessor, numerical_columns)])"
   ]
  },
  {
   "cell_type": "markdown",
   "id": "2ef84fe3-11b2-48dd-829b-a341a3b0b013",
   "metadata": {},
   "source": [
    "![alt text](https://inria.github.io/scikit-learn-mooc/_images/api_diagram-columntransformer.svg \"Column Transformers\")"
   ]
  },
  {
   "cell_type": "markdown",
   "id": "ad64e173-6c5f-4d4c-bb44-38c6eca5cb8f",
   "metadata": {},
   "source": [
    "A ColumnTransformer does the following:\n",
    "\n",
    "It splits the columns of the original dataset based on the column names or indices provided. We will obtain as many subsets as the number of transformers passed into the ColumnTransformer.\n",
    "\n",
    "It transforms each subsets. A specific transformer is applied to each subset: it will internally call fit_transform or transform. The output of this step is a set of transformed datasets.\n",
    "\n",
    "It then concatenates the transformed datasets into a single dataset.\n",
    "\n",
    "The important thing is that ColumnTransformer is like any other scikit-learn transformer. In particular it can be combined with a classifier in a Pipeline:"
   ]
  },
  {
   "cell_type": "code",
   "execution_count": null,
   "id": "d5a6a377-652d-425a-a243-c1d3454f728e",
   "metadata": {},
   "outputs": [],
   "source": [
    "from sklearn.linear_model import LogisticRegression\n",
    "from sklearn.pipeline import make_pipeline\n",
    "\n",
    "model = make_pipeline(preprocessor, LogisticRegression(max_iter=500))"
   ]
  },
  {
   "cell_type": "code",
   "execution_count": null,
   "id": "4848002c-a3c0-4a0b-914d-5964c5a4f2cc",
   "metadata": {},
   "outputs": [],
   "source": [
    "from sklearn import set_config\n",
    "set_config(display='diagram')\n",
    "model"
   ]
  },
  {
   "cell_type": "markdown",
   "id": "7a925686-a3f3-4c37-a153-22533c0b059a",
   "metadata": {},
   "source": [
    "the fit method is called to preprocess the data and then train the classifier of the preprocessed data;\n",
    "\n",
    "the predict method makes predictions on new data;\n",
    "\n",
    "the score method is used to predict on the test data and compare the predictions to the expected test labels to compute the accuracy.\n",
    "\n",
    "Let’s start by splitting our data into train and test sets."
   ]
  },
  {
   "cell_type": "code",
   "execution_count": null,
   "id": "c66f3733-01ad-45c4-8da0-bb59355b55a6",
   "metadata": {},
   "outputs": [],
   "source": [
    "from sklearn.model_selection import train_test_split\n",
    "\n",
    "data_train, data_test, target_train, target_test = train_test_split(\n",
    "    data, target, random_state=42)"
   ]
  },
  {
   "cell_type": "code",
   "execution_count": null,
   "id": "9b0b2eef-46e4-4ac7-b839-d55c97cc07cd",
   "metadata": {},
   "outputs": [],
   "source": [
    "_ = model.fit(data_train, target_train)"
   ]
  },
  {
   "cell_type": "code",
   "execution_count": null,
   "id": "9a12b6df-348e-485c-ad00-38123f3ec057",
   "metadata": {},
   "outputs": [],
   "source": [
    "data_test.head()"
   ]
  },
  {
   "cell_type": "code",
   "execution_count": null,
   "id": "8d2aac68-d51b-4dc6-b702-f8c42c4384cf",
   "metadata": {},
   "outputs": [],
   "source": [
    "model.predict(data_test)[:5]"
   ]
  },
  {
   "cell_type": "code",
   "execution_count": null,
   "id": "9267a90e-b7d0-4332-a5be-e8cd59a81cab",
   "metadata": {},
   "outputs": [],
   "source": [
    "target_test[:5]"
   ]
  },
  {
   "cell_type": "code",
   "execution_count": null,
   "id": "aeebdeba-dd89-4ec6-a365-64d946645647",
   "metadata": {},
   "outputs": [],
   "source": [
    "model.score(data_test, target_test)"
   ]
  },
  {
   "cell_type": "markdown",
   "id": "7f9df431-6090-468f-8c37-138e40701c5a",
   "metadata": {},
   "source": [
    "## Evaluation of the model with cross-validation\n",
    "As previously stated, a predictive model should be evaluated by cross-validation. Our model is usable with the cross-validation tools of scikit-learn as any other predictors:"
   ]
  },
  {
   "cell_type": "code",
   "execution_count": null,
   "id": "15df255d-928b-4f24-8f32-36b3c8021b45",
   "metadata": {},
   "outputs": [],
   "source": [
    "from sklearn.model_selection import cross_validate\n",
    "\n",
    "cv_results = cross_validate(model, data, target, cv=5)\n",
    "cv_results"
   ]
  },
  {
   "cell_type": "code",
   "execution_count": null,
   "id": "26e8096d-1986-4b18-a636-31634218d03b",
   "metadata": {},
   "outputs": [],
   "source": [
    "scores = cv_results[\"test_score\"]\n",
    "print(\"The mean cross-validation accuracy is: \"\n",
    "      f\"{scores.mean():.3f} +/- {scores.std():.3f}\")"
   ]
  },
  {
   "cell_type": "markdown",
   "id": "14af1c65-3fa5-455d-86c3-a75d53d8b6fd",
   "metadata": {},
   "source": [
    "## Fitting a more powerful model\n",
    "Linear models are nice because they are usually cheap to train, small to deploy, fast to predict and give a good baseline.\n",
    "\n",
    "However, it is often useful to check whether more complex models such as an ensemble of decision trees can lead to higher predictive performance. In this section we will use such a model called gradient-boosting trees and evaluate its generalization performance. More precisely, the scikit-learn model we will use is called HistGradientBoostingClassifier. Note that boosting models will be covered in more detail in a future module.\n",
    "\n",
    "For tree-based models, the handling of numerical and categorical variables is simpler than for linear models:\n",
    "\n",
    "we do not need to scale the numerical features\n",
    "\n",
    "using an ordinal encoding for the categorical variables is fine even if the encoding results in an arbitrary ordering\n",
    "\n",
    "Therefore, for HistGradientBoostingClassifier, the preprocessing pipeline is slightly simpler than the one we saw earlier for the LogisticRegression:"
   ]
  },
  {
   "cell_type": "code",
   "execution_count": null,
   "id": "861ebf32-8138-4c69-9578-a00337f30d30",
   "metadata": {},
   "outputs": [],
   "source": [
    "from sklearn.ensemble import HistGradientBoostingClassifier\n",
    "from sklearn.preprocessing import OrdinalEncoder # Can be used for tree based\n",
    "\n",
    "categorical_preprocessor = OrdinalEncoder(handle_unknown=\"use_encoded_value\",\n",
    "                                          unknown_value=-1)\n",
    "\n",
    "preprocessor = ColumnTransformer([\n",
    "    ('categorical', categorical_preprocessor, categorical_columns)],\n",
    "    remainder=\"passthrough\")\n",
    "\n",
    "model = make_pipeline(preprocessor, HistGradientBoostingClassifier())"
   ]
  },
  {
   "cell_type": "code",
   "execution_count": null,
   "id": "09cf298b-f309-4efe-86f9-37870ead3e37",
   "metadata": {},
   "outputs": [],
   "source": [
    "%%time\n",
    "_ = model.fit(data_train, target_train)"
   ]
  },
  {
   "cell_type": "code",
   "execution_count": null,
   "id": "9be7af8d-1105-433a-801c-2e3be430d0a4",
   "metadata": {},
   "outputs": [],
   "source": [
    "model.score(data_test, target_test)"
   ]
  },
  {
   "cell_type": "markdown",
   "id": "96226a55-a19f-4159-b1bd-8ff1c15addf8",
   "metadata": {},
   "source": [
    "We can observe that we get significantly higher accuracies with the Gradient Boosting model. This is often what we observe whenever the dataset has a large number of samples and limited number of informative features (e.g. less than 1000) with a mix of numerical and categorical variables.\n",
    "\n",
    "This explains why Gradient Boosted Machines are very popular among datascience practitioners who work with tabular data.\n",
    "\n",
    "In this notebook we:\n",
    "\n",
    "used a ColumnTransformer to apply different preprocessing for categorical and numerical variables;\n",
    "\n",
    "used a pipeline to chain the ColumnTransformer preprocessing and logistic regression fitting;\n",
    "\n",
    "saw that gradient boosting methods can outperform linear models."
   ]
  },
  {
   "cell_type": "code",
   "execution_count": null,
   "id": "edd2c81a-46b5-40cd-b73e-962426eae160",
   "metadata": {},
   "outputs": [],
   "source": []
  }
 ],
 "metadata": {
  "kernelspec": {
   "display_name": "Python 3 (ipykernel)",
   "language": "python",
   "name": "python3"
  },
  "language_info": {
   "codemirror_mode": {
    "name": "ipython",
    "version": 3
   },
   "file_extension": ".py",
   "mimetype": "text/x-python",
   "name": "python",
   "nbconvert_exporter": "python",
   "pygments_lexer": "ipython3",
   "version": "3.9.7"
  }
 },
 "nbformat": 4,
 "nbformat_minor": 5
}
