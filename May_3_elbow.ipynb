{
 "cells": [
  {
   "cell_type": "code",
   "execution_count": 1,
   "id": "343d87d7-94cc-4409-9435-853b4046cfbe",
   "metadata": {},
   "outputs": [],
   "source": [
    "#@title Importing modules\n",
    "import pandas as pd\n",
    "import numpy as np\n",
    "from sklearn.cluster import KMeans\n",
    "import altair as alt"
   ]
  },
  {
   "cell_type": "code",
   "execution_count": 3,
   "id": "1bfbf7c5-d5e9-42ca-bcb1-188c761d55a4",
   "metadata": {},
   "outputs": [],
   "source": [
    "file_url = 'https://raw.githubusercontent.com/fenago/DSBook/main/Chapter%205/Mall_Customers.csv'"
   ]
  },
  {
   "cell_type": "code",
   "execution_count": 4,
   "id": "668f52f5-dcd1-47b3-aa57-1780b25d1fa2",
   "metadata": {},
   "outputs": [],
   "source": [
    "#@title Loading dataset\n",
    "data = pd.read_csv(file_url, \\\n",
    "                 usecols=['Age', \\\n",
    "                          'Annual Income (k$)', \\\n",
    "'Spending Score (1-100)'])"
   ]
  },
  {
   "cell_type": "code",
   "execution_count": 5,
   "id": "8c54c99e-7ae9-4453-9322-052ddaef3d87",
   "metadata": {},
   "outputs": [
    {
     "data": {
      "text/html": [
       "<div>\n",
       "<style scoped>\n",
       "    .dataframe tbody tr th:only-of-type {\n",
       "        vertical-align: middle;\n",
       "    }\n",
       "\n",
       "    .dataframe tbody tr th {\n",
       "        vertical-align: top;\n",
       "    }\n",
       "\n",
       "    .dataframe thead th {\n",
       "        text-align: right;\n",
       "    }\n",
       "</style>\n",
       "<table border=\"1\" class=\"dataframe\">\n",
       "  <thead>\n",
       "    <tr style=\"text-align: right;\">\n",
       "      <th></th>\n",
       "      <th>Age</th>\n",
       "      <th>Annual Income (k$)</th>\n",
       "      <th>Spending Score (1-100)</th>\n",
       "    </tr>\n",
       "  </thead>\n",
       "  <tbody>\n",
       "    <tr>\n",
       "      <th>0</th>\n",
       "      <td>19</td>\n",
       "      <td>15</td>\n",
       "      <td>39</td>\n",
       "    </tr>\n",
       "    <tr>\n",
       "      <th>1</th>\n",
       "      <td>21</td>\n",
       "      <td>15</td>\n",
       "      <td>81</td>\n",
       "    </tr>\n",
       "    <tr>\n",
       "      <th>2</th>\n",
       "      <td>20</td>\n",
       "      <td>16</td>\n",
       "      <td>6</td>\n",
       "    </tr>\n",
       "    <tr>\n",
       "      <th>3</th>\n",
       "      <td>23</td>\n",
       "      <td>16</td>\n",
       "      <td>77</td>\n",
       "    </tr>\n",
       "    <tr>\n",
       "      <th>4</th>\n",
       "      <td>31</td>\n",
       "      <td>17</td>\n",
       "      <td>40</td>\n",
       "    </tr>\n",
       "  </tbody>\n",
       "</table>\n",
       "</div>"
      ],
      "text/plain": [
       "   Age  Annual Income (k$)  Spending Score (1-100)\n",
       "0   19                  15                      39\n",
       "1   21                  15                      81\n",
       "2   20                  16                       6\n",
       "3   23                  16                      77\n",
       "4   31                  17                      40"
      ]
     },
     "execution_count": 5,
     "metadata": {},
     "output_type": "execute_result"
    }
   ],
   "source": [
    "data.head()"
   ]
  },
  {
   "cell_type": "code",
   "execution_count": 6,
   "id": "bd786c8b-f2e5-4942-aad2-a371c2db622a",
   "metadata": {},
   "outputs": [],
   "source": [
    "#@title Assigning extracted columns to variable X\n",
    "X = data[['Age', \\\n",
    "        'Annual Income (k$)']]"
   ]
  },
  {
   "cell_type": "code",
   "execution_count": 7,
   "id": "63cf555b-7acb-49ea-8c63-9a6269ac23c6",
   "metadata": {},
   "outputs": [],
   "source": [
    "#@title Create an empty pandas DataFrame called clusters and an empty list called inertia\n",
    "clusters = pd.DataFrame()\n",
    "inertia = []"
   ]
  },
  {
   "cell_type": "code",
   "execution_count": 8,
   "id": "3a80ff88-b2a3-4d92-aa3b-e9e62c7256a3",
   "metadata": {},
   "outputs": [],
   "source": [
    "#@title using the range function to generate a list containing the range of cluster numbers, from 1 to 15\n",
    "clusters['cluster_range'] = range(1, 15)"
   ]
  },
  {
   "cell_type": "code",
   "execution_count": 9,
   "id": "ea582033-65e1-43d7-a7e6-b192a6e81f6f",
   "metadata": {},
   "outputs": [],
   "source": [
    "#@title Create a for loop to go through each cluster number and fit a k-means model accordingly, \n",
    "for k in clusters['cluster_range']:\n",
    "    kmeans = KMeans(n_clusters=k).fit(X)\n",
    "    inertia.append(kmeans.inertia_)"
   ]
  },
  {
   "cell_type": "code",
   "execution_count": 10,
   "id": "fbe9c5a5-8d93-4b4b-acde-66fb9beafa47",
   "metadata": {},
   "outputs": [
    {
     "data": {
      "text/html": [
       "<div>\n",
       "<style scoped>\n",
       "    .dataframe tbody tr th:only-of-type {\n",
       "        vertical-align: middle;\n",
       "    }\n",
       "\n",
       "    .dataframe tbody tr th {\n",
       "        vertical-align: top;\n",
       "    }\n",
       "\n",
       "    .dataframe thead th {\n",
       "        text-align: right;\n",
       "    }\n",
       "</style>\n",
       "<table border=\"1\" class=\"dataframe\">\n",
       "  <thead>\n",
       "    <tr style=\"text-align: right;\">\n",
       "      <th></th>\n",
       "      <th>cluster_range</th>\n",
       "      <th>inertia</th>\n",
       "    </tr>\n",
       "  </thead>\n",
       "  <tbody>\n",
       "    <tr>\n",
       "      <th>0</th>\n",
       "      <td>1</td>\n",
       "      <td>176108.780000</td>\n",
       "    </tr>\n",
       "    <tr>\n",
       "      <th>1</th>\n",
       "      <td>2</td>\n",
       "      <td>87121.565915</td>\n",
       "    </tr>\n",
       "    <tr>\n",
       "      <th>2</th>\n",
       "      <td>3</td>\n",
       "      <td>59492.737995</td>\n",
       "    </tr>\n",
       "    <tr>\n",
       "      <th>3</th>\n",
       "      <td>4</td>\n",
       "      <td>39529.887967</td>\n",
       "    </tr>\n",
       "    <tr>\n",
       "      <th>4</th>\n",
       "      <td>5</td>\n",
       "      <td>31651.380885</td>\n",
       "    </tr>\n",
       "    <tr>\n",
       "      <th>5</th>\n",
       "      <td>6</td>\n",
       "      <td>25416.402459</td>\n",
       "    </tr>\n",
       "    <tr>\n",
       "      <th>6</th>\n",
       "      <td>7</td>\n",
       "      <td>21950.600212</td>\n",
       "    </tr>\n",
       "    <tr>\n",
       "      <th>7</th>\n",
       "      <td>8</td>\n",
       "      <td>18873.469208</td>\n",
       "    </tr>\n",
       "    <tr>\n",
       "      <th>8</th>\n",
       "      <td>9</td>\n",
       "      <td>16084.361250</td>\n",
       "    </tr>\n",
       "    <tr>\n",
       "      <th>9</th>\n",
       "      <td>10</td>\n",
       "      <td>13681.995123</td>\n",
       "    </tr>\n",
       "    <tr>\n",
       "      <th>10</th>\n",
       "      <td>11</td>\n",
       "      <td>12552.411241</td>\n",
       "    </tr>\n",
       "    <tr>\n",
       "      <th>11</th>\n",
       "      <td>12</td>\n",
       "      <td>11126.346728</td>\n",
       "    </tr>\n",
       "    <tr>\n",
       "      <th>12</th>\n",
       "      <td>13</td>\n",
       "      <td>10328.035189</td>\n",
       "    </tr>\n",
       "    <tr>\n",
       "      <th>13</th>\n",
       "      <td>14</td>\n",
       "      <td>9554.583604</td>\n",
       "    </tr>\n",
       "  </tbody>\n",
       "</table>\n",
       "</div>"
      ],
      "text/plain": [
       "    cluster_range        inertia\n",
       "0               1  176108.780000\n",
       "1               2   87121.565915\n",
       "2               3   59492.737995\n",
       "3               4   39529.887967\n",
       "4               5   31651.380885\n",
       "5               6   25416.402459\n",
       "6               7   21950.600212\n",
       "7               8   18873.469208\n",
       "8               9   16084.361250\n",
       "9              10   13681.995123\n",
       "10             11   12552.411241\n",
       "11             12   11126.346728\n",
       "12             13   10328.035189\n",
       "13             14    9554.583604"
      ]
     },
     "execution_count": 10,
     "metadata": {},
     "output_type": "execute_result"
    }
   ],
   "source": [
    "#@title Assign the inertia list to a new column called 'inertia'\n",
    "clusters['inertia'] = inertia\n",
    "clusters"
   ]
  },
  {
   "cell_type": "code",
   "execution_count": 11,
   "id": "8d59500e-5c4d-4eda-8a6f-2f383ec50238",
   "metadata": {},
   "outputs": [
    {
     "data": {
      "text/html": [
       "\n",
       "<div id=\"altair-viz-51b85aaadd014cbbbaf3378fa4288e1d\"></div>\n",
       "<script type=\"text/javascript\">\n",
       "  var VEGA_DEBUG = (typeof VEGA_DEBUG == \"undefined\") ? {} : VEGA_DEBUG;\n",
       "  (function(spec, embedOpt){\n",
       "    let outputDiv = document.currentScript.previousElementSibling;\n",
       "    if (outputDiv.id !== \"altair-viz-51b85aaadd014cbbbaf3378fa4288e1d\") {\n",
       "      outputDiv = document.getElementById(\"altair-viz-51b85aaadd014cbbbaf3378fa4288e1d\");\n",
       "    }\n",
       "    const paths = {\n",
       "      \"vega\": \"https://cdn.jsdelivr.net/npm//vega@5?noext\",\n",
       "      \"vega-lib\": \"https://cdn.jsdelivr.net/npm//vega-lib?noext\",\n",
       "      \"vega-lite\": \"https://cdn.jsdelivr.net/npm//vega-lite@4.17.0?noext\",\n",
       "      \"vega-embed\": \"https://cdn.jsdelivr.net/npm//vega-embed@6?noext\",\n",
       "    };\n",
       "\n",
       "    function maybeLoadScript(lib, version) {\n",
       "      var key = `${lib.replace(\"-\", \"\")}_version`;\n",
       "      return (VEGA_DEBUG[key] == version) ?\n",
       "        Promise.resolve(paths[lib]) :\n",
       "        new Promise(function(resolve, reject) {\n",
       "          var s = document.createElement('script');\n",
       "          document.getElementsByTagName(\"head\")[0].appendChild(s);\n",
       "          s.async = true;\n",
       "          s.onload = () => {\n",
       "            VEGA_DEBUG[key] = version;\n",
       "            return resolve(paths[lib]);\n",
       "          };\n",
       "          s.onerror = () => reject(`Error loading script: ${paths[lib]}`);\n",
       "          s.src = paths[lib];\n",
       "        });\n",
       "    }\n",
       "\n",
       "    function showError(err) {\n",
       "      outputDiv.innerHTML = `<div class=\"error\" style=\"color:red;\">${err}</div>`;\n",
       "      throw err;\n",
       "    }\n",
       "\n",
       "    function displayChart(vegaEmbed) {\n",
       "      vegaEmbed(outputDiv, spec, embedOpt)\n",
       "        .catch(err => showError(`Javascript Error: ${err.message}<br>This usually means there's a typo in your chart specification. See the javascript console for the full traceback.`));\n",
       "    }\n",
       "\n",
       "    if(typeof define === \"function\" && define.amd) {\n",
       "      requirejs.config({paths});\n",
       "      require([\"vega-embed\"], displayChart, err => showError(`Error loading script: ${err.message}`));\n",
       "    } else {\n",
       "      maybeLoadScript(\"vega\", \"5\")\n",
       "        .then(() => maybeLoadScript(\"vega-lite\", \"4.17.0\"))\n",
       "        .then(() => maybeLoadScript(\"vega-embed\", \"6\"))\n",
       "        .catch(showError)\n",
       "        .then(() => displayChart(vegaEmbed));\n",
       "    }\n",
       "  })({\"config\": {\"view\": {\"continuousWidth\": 400, \"continuousHeight\": 300}}, \"data\": {\"name\": \"data-caeb5c16e490a35743b52d92dc075290\"}, \"mark\": \"line\", \"encoding\": {\"x\": {\"field\": \"cluster_range\", \"type\": \"quantitative\"}, \"y\": {\"field\": \"inertia\", \"type\": \"quantitative\"}}, \"$schema\": \"https://vega.github.io/schema/vega-lite/v4.17.0.json\", \"datasets\": {\"data-caeb5c16e490a35743b52d92dc075290\": [{\"cluster_range\": 1, \"inertia\": 176108.77999999997}, {\"cluster_range\": 2, \"inertia\": 87121.56591478697}, {\"cluster_range\": 3, \"inertia\": 59492.73799493272}, {\"cluster_range\": 4, \"inertia\": 39529.8879673635}, {\"cluster_range\": 5, \"inertia\": 31651.38088524379}, {\"cluster_range\": 6, \"inertia\": 25416.40245864744}, {\"cluster_range\": 7, \"inertia\": 21950.600211640212}, {\"cluster_range\": 8, \"inertia\": 18873.469208042145}, {\"cluster_range\": 9, \"inertia\": 16084.361250458163}, {\"cluster_range\": 10, \"inertia\": 13681.995122950364}, {\"cluster_range\": 11, \"inertia\": 12552.411241332975}, {\"cluster_range\": 12, \"inertia\": 11126.34672783357}, {\"cluster_range\": 13, \"inertia\": 10328.035188933874}, {\"cluster_range\": 14, \"inertia\": 9554.583604261237}]}}, {\"mode\": \"vega-lite\"});\n",
       "</script>"
      ],
      "text/plain": [
       "alt.Chart(...)"
      ]
     },
     "execution_count": 11,
     "metadata": {},
     "output_type": "execute_result"
    }
   ],
   "source": [
    "#@title use mark_line() and encode() from the altair package to plot the Elbow graph with 'cluster_range'\n",
    "alt.Chart(clusters).mark_line()\\\n",
    "   .encode(alt.X('cluster_range'), alt.Y('inertia'))"
   ]
  },
  {
   "cell_type": "code",
   "execution_count": 12,
   "id": "6cd88a2a-c945-482e-b98b-2da348fcde10",
   "metadata": {},
   "outputs": [],
   "source": [
    "#@title identify the optimal number of clusters, and assign this value to a variable called optim_cluster:\n",
    "optim_cluster = 4"
   ]
  },
  {
   "cell_type": "code",
   "execution_count": 13,
   "id": "c6b01637-9ce0-4c0d-bf02-a44676b91f98",
   "metadata": {},
   "outputs": [
    {
     "data": {
      "text/plain": [
       "KMeans(n_clusters=4, random_state=42)"
      ]
     },
     "execution_count": 13,
     "metadata": {},
     "output_type": "execute_result"
    }
   ],
   "source": [
    "#@title Train a k-means model with this number of clusters and a random_state value of 42 using the fit method from sklearn\n",
    "kmeans = KMeans(random_state=42, n_clusters=optim_cluster)\n",
    "kmeans.fit(X)"
   ]
  },
  {
   "cell_type": "code",
   "execution_count": 14,
   "id": "223ae139-6895-4955-9dd1-e78a5133691e",
   "metadata": {},
   "outputs": [],
   "source": [
    "#@title using the predict method from sklearn, get the predicted assigned cluster for each data point \n",
    "data['cluster2'] = kmeans.predict(X)"
   ]
  },
  {
   "cell_type": "code",
   "execution_count": 15,
   "id": "145b8638-82d4-4839-9877-6eee11fae80a",
   "metadata": {},
   "outputs": [
    {
     "data": {
      "text/html": [
       "\n",
       "<div id=\"altair-viz-ac11d3c9d84e4d1cb9c6115f37f6106c\"></div>\n",
       "<script type=\"text/javascript\">\n",
       "  var VEGA_DEBUG = (typeof VEGA_DEBUG == \"undefined\") ? {} : VEGA_DEBUG;\n",
       "  (function(spec, embedOpt){\n",
       "    let outputDiv = document.currentScript.previousElementSibling;\n",
       "    if (outputDiv.id !== \"altair-viz-ac11d3c9d84e4d1cb9c6115f37f6106c\") {\n",
       "      outputDiv = document.getElementById(\"altair-viz-ac11d3c9d84e4d1cb9c6115f37f6106c\");\n",
       "    }\n",
       "    const paths = {\n",
       "      \"vega\": \"https://cdn.jsdelivr.net/npm//vega@5?noext\",\n",
       "      \"vega-lib\": \"https://cdn.jsdelivr.net/npm//vega-lib?noext\",\n",
       "      \"vega-lite\": \"https://cdn.jsdelivr.net/npm//vega-lite@4.17.0?noext\",\n",
       "      \"vega-embed\": \"https://cdn.jsdelivr.net/npm//vega-embed@6?noext\",\n",
       "    };\n",
       "\n",
       "    function maybeLoadScript(lib, version) {\n",
       "      var key = `${lib.replace(\"-\", \"\")}_version`;\n",
       "      return (VEGA_DEBUG[key] == version) ?\n",
       "        Promise.resolve(paths[lib]) :\n",
       "        new Promise(function(resolve, reject) {\n",
       "          var s = document.createElement('script');\n",
       "          document.getElementsByTagName(\"head\")[0].appendChild(s);\n",
       "          s.async = true;\n",
       "          s.onload = () => {\n",
       "            VEGA_DEBUG[key] = version;\n",
       "            return resolve(paths[lib]);\n",
       "          };\n",
       "          s.onerror = () => reject(`Error loading script: ${paths[lib]}`);\n",
       "          s.src = paths[lib];\n",
       "        });\n",
       "    }\n",
       "\n",
       "    function showError(err) {\n",
       "      outputDiv.innerHTML = `<div class=\"error\" style=\"color:red;\">${err}</div>`;\n",
       "      throw err;\n",
       "    }\n",
       "\n",
       "    function displayChart(vegaEmbed) {\n",
       "      vegaEmbed(outputDiv, spec, embedOpt)\n",
       "        .catch(err => showError(`Javascript Error: ${err.message}<br>This usually means there's a typo in your chart specification. See the javascript console for the full traceback.`));\n",
       "    }\n",
       "\n",
       "    if(typeof define === \"function\" && define.amd) {\n",
       "      requirejs.config({paths});\n",
       "      require([\"vega-embed\"], displayChart, err => showError(`Error loading script: ${err.message}`));\n",
       "    } else {\n",
       "      maybeLoadScript(\"vega\", \"5\")\n",
       "        .then(() => maybeLoadScript(\"vega-lite\", \"4.17.0\"))\n",
       "        .then(() => maybeLoadScript(\"vega-embed\", \"6\"))\n",
       "        .catch(showError)\n",
       "        .then(() => displayChart(vegaEmbed));\n",
       "    }\n",
       "  })({\"config\": {\"view\": {\"continuousWidth\": 400, \"continuousHeight\": 300}}, \"data\": {\"name\": \"data-cc3cabaec9606f438f4b158138e09422\"}, \"mark\": \"circle\", \"encoding\": {\"color\": {\"field\": \"cluster2\", \"type\": \"nominal\"}, \"tooltip\": [{\"field\": \"Spending Score (1-100)\", \"type\": \"quantitative\"}, {\"field\": \"cluster2\", \"type\": \"quantitative\"}, {\"field\": \"Age\", \"type\": \"quantitative\"}, {\"field\": \"Annual Income (k$)\", \"type\": \"quantitative\"}], \"x\": {\"field\": \"Age\", \"type\": \"quantitative\"}, \"y\": {\"field\": \"Annual Income (k$)\", \"type\": \"quantitative\"}}, \"selection\": {\"selector001\": {\"type\": \"interval\", \"bind\": \"scales\", \"encodings\": [\"x\", \"y\"]}}, \"$schema\": \"https://vega.github.io/schema/vega-lite/v4.17.0.json\", \"datasets\": {\"data-cc3cabaec9606f438f4b158138e09422\": [{\"Age\": 19, \"Annual Income (k$)\": 15, \"Spending Score (1-100)\": 39, \"cluster2\": 3}, {\"Age\": 21, \"Annual Income (k$)\": 15, \"Spending Score (1-100)\": 81, \"cluster2\": 3}, {\"Age\": 20, \"Annual Income (k$)\": 16, \"Spending Score (1-100)\": 6, \"cluster2\": 3}, {\"Age\": 23, \"Annual Income (k$)\": 16, \"Spending Score (1-100)\": 77, \"cluster2\": 3}, {\"Age\": 31, \"Annual Income (k$)\": 17, \"Spending Score (1-100)\": 40, \"cluster2\": 3}, {\"Age\": 22, \"Annual Income (k$)\": 17, \"Spending Score (1-100)\": 76, \"cluster2\": 3}, {\"Age\": 35, \"Annual Income (k$)\": 18, \"Spending Score (1-100)\": 6, \"cluster2\": 3}, {\"Age\": 23, \"Annual Income (k$)\": 18, \"Spending Score (1-100)\": 94, \"cluster2\": 3}, {\"Age\": 64, \"Annual Income (k$)\": 19, \"Spending Score (1-100)\": 3, \"cluster2\": 1}, {\"Age\": 30, \"Annual Income (k$)\": 19, \"Spending Score (1-100)\": 72, \"cluster2\": 3}, {\"Age\": 67, \"Annual Income (k$)\": 19, \"Spending Score (1-100)\": 14, \"cluster2\": 1}, {\"Age\": 35, \"Annual Income (k$)\": 19, \"Spending Score (1-100)\": 99, \"cluster2\": 3}, {\"Age\": 58, \"Annual Income (k$)\": 20, \"Spending Score (1-100)\": 15, \"cluster2\": 3}, {\"Age\": 24, \"Annual Income (k$)\": 20, \"Spending Score (1-100)\": 77, \"cluster2\": 3}, {\"Age\": 37, \"Annual Income (k$)\": 20, \"Spending Score (1-100)\": 13, \"cluster2\": 3}, {\"Age\": 22, \"Annual Income (k$)\": 20, \"Spending Score (1-100)\": 79, \"cluster2\": 3}, {\"Age\": 35, \"Annual Income (k$)\": 21, \"Spending Score (1-100)\": 35, \"cluster2\": 3}, {\"Age\": 20, \"Annual Income (k$)\": 21, \"Spending Score (1-100)\": 66, \"cluster2\": 3}, {\"Age\": 52, \"Annual Income (k$)\": 23, \"Spending Score (1-100)\": 29, \"cluster2\": 3}, {\"Age\": 35, \"Annual Income (k$)\": 23, \"Spending Score (1-100)\": 98, \"cluster2\": 3}, {\"Age\": 35, \"Annual Income (k$)\": 24, \"Spending Score (1-100)\": 35, \"cluster2\": 3}, {\"Age\": 25, \"Annual Income (k$)\": 24, \"Spending Score (1-100)\": 73, \"cluster2\": 3}, {\"Age\": 46, \"Annual Income (k$)\": 25, \"Spending Score (1-100)\": 5, \"cluster2\": 3}, {\"Age\": 31, \"Annual Income (k$)\": 25, \"Spending Score (1-100)\": 73, \"cluster2\": 3}, {\"Age\": 54, \"Annual Income (k$)\": 28, \"Spending Score (1-100)\": 14, \"cluster2\": 3}, {\"Age\": 29, \"Annual Income (k$)\": 28, \"Spending Score (1-100)\": 82, \"cluster2\": 3}, {\"Age\": 45, \"Annual Income (k$)\": 28, \"Spending Score (1-100)\": 32, \"cluster2\": 3}, {\"Age\": 35, \"Annual Income (k$)\": 28, \"Spending Score (1-100)\": 61, \"cluster2\": 3}, {\"Age\": 40, \"Annual Income (k$)\": 29, \"Spending Score (1-100)\": 31, \"cluster2\": 3}, {\"Age\": 23, \"Annual Income (k$)\": 29, \"Spending Score (1-100)\": 87, \"cluster2\": 3}, {\"Age\": 60, \"Annual Income (k$)\": 30, \"Spending Score (1-100)\": 4, \"cluster2\": 1}, {\"Age\": 21, \"Annual Income (k$)\": 30, \"Spending Score (1-100)\": 73, \"cluster2\": 3}, {\"Age\": 53, \"Annual Income (k$)\": 33, \"Spending Score (1-100)\": 4, \"cluster2\": 1}, {\"Age\": 18, \"Annual Income (k$)\": 33, \"Spending Score (1-100)\": 92, \"cluster2\": 3}, {\"Age\": 49, \"Annual Income (k$)\": 33, \"Spending Score (1-100)\": 14, \"cluster2\": 3}, {\"Age\": 21, \"Annual Income (k$)\": 33, \"Spending Score (1-100)\": 81, \"cluster2\": 3}, {\"Age\": 42, \"Annual Income (k$)\": 34, \"Spending Score (1-100)\": 17, \"cluster2\": 3}, {\"Age\": 30, \"Annual Income (k$)\": 34, \"Spending Score (1-100)\": 73, \"cluster2\": 3}, {\"Age\": 36, \"Annual Income (k$)\": 37, \"Spending Score (1-100)\": 26, \"cluster2\": 3}, {\"Age\": 20, \"Annual Income (k$)\": 37, \"Spending Score (1-100)\": 75, \"cluster2\": 3}, {\"Age\": 65, \"Annual Income (k$)\": 38, \"Spending Score (1-100)\": 35, \"cluster2\": 1}, {\"Age\": 24, \"Annual Income (k$)\": 38, \"Spending Score (1-100)\": 92, \"cluster2\": 3}, {\"Age\": 48, \"Annual Income (k$)\": 39, \"Spending Score (1-100)\": 36, \"cluster2\": 1}, {\"Age\": 31, \"Annual Income (k$)\": 39, \"Spending Score (1-100)\": 61, \"cluster2\": 3}, {\"Age\": 49, \"Annual Income (k$)\": 39, \"Spending Score (1-100)\": 28, \"cluster2\": 1}, {\"Age\": 24, \"Annual Income (k$)\": 39, \"Spending Score (1-100)\": 65, \"cluster2\": 3}, {\"Age\": 50, \"Annual Income (k$)\": 40, \"Spending Score (1-100)\": 55, \"cluster2\": 1}, {\"Age\": 27, \"Annual Income (k$)\": 40, \"Spending Score (1-100)\": 47, \"cluster2\": 3}, {\"Age\": 29, \"Annual Income (k$)\": 40, \"Spending Score (1-100)\": 42, \"cluster2\": 3}, {\"Age\": 31, \"Annual Income (k$)\": 40, \"Spending Score (1-100)\": 42, \"cluster2\": 3}, {\"Age\": 49, \"Annual Income (k$)\": 42, \"Spending Score (1-100)\": 52, \"cluster2\": 1}, {\"Age\": 33, \"Annual Income (k$)\": 42, \"Spending Score (1-100)\": 60, \"cluster2\": 3}, {\"Age\": 31, \"Annual Income (k$)\": 43, \"Spending Score (1-100)\": 54, \"cluster2\": 3}, {\"Age\": 59, \"Annual Income (k$)\": 43, \"Spending Score (1-100)\": 60, \"cluster2\": 1}, {\"Age\": 50, \"Annual Income (k$)\": 43, \"Spending Score (1-100)\": 45, \"cluster2\": 1}, {\"Age\": 47, \"Annual Income (k$)\": 43, \"Spending Score (1-100)\": 41, \"cluster2\": 1}, {\"Age\": 51, \"Annual Income (k$)\": 44, \"Spending Score (1-100)\": 50, \"cluster2\": 1}, {\"Age\": 69, \"Annual Income (k$)\": 44, \"Spending Score (1-100)\": 46, \"cluster2\": 1}, {\"Age\": 27, \"Annual Income (k$)\": 46, \"Spending Score (1-100)\": 51, \"cluster2\": 3}, {\"Age\": 53, \"Annual Income (k$)\": 46, \"Spending Score (1-100)\": 46, \"cluster2\": 1}, {\"Age\": 70, \"Annual Income (k$)\": 46, \"Spending Score (1-100)\": 56, \"cluster2\": 1}, {\"Age\": 19, \"Annual Income (k$)\": 46, \"Spending Score (1-100)\": 55, \"cluster2\": 3}, {\"Age\": 67, \"Annual Income (k$)\": 47, \"Spending Score (1-100)\": 52, \"cluster2\": 1}, {\"Age\": 54, \"Annual Income (k$)\": 47, \"Spending Score (1-100)\": 59, \"cluster2\": 1}, {\"Age\": 63, \"Annual Income (k$)\": 48, \"Spending Score (1-100)\": 51, \"cluster2\": 1}, {\"Age\": 18, \"Annual Income (k$)\": 48, \"Spending Score (1-100)\": 59, \"cluster2\": 3}, {\"Age\": 43, \"Annual Income (k$)\": 48, \"Spending Score (1-100)\": 50, \"cluster2\": 1}, {\"Age\": 68, \"Annual Income (k$)\": 48, \"Spending Score (1-100)\": 48, \"cluster2\": 1}, {\"Age\": 19, \"Annual Income (k$)\": 48, \"Spending Score (1-100)\": 59, \"cluster2\": 3}, {\"Age\": 32, \"Annual Income (k$)\": 48, \"Spending Score (1-100)\": 47, \"cluster2\": 3}, {\"Age\": 70, \"Annual Income (k$)\": 49, \"Spending Score (1-100)\": 55, \"cluster2\": 1}, {\"Age\": 47, \"Annual Income (k$)\": 49, \"Spending Score (1-100)\": 42, \"cluster2\": 1}, {\"Age\": 60, \"Annual Income (k$)\": 50, \"Spending Score (1-100)\": 49, \"cluster2\": 1}, {\"Age\": 60, \"Annual Income (k$)\": 50, \"Spending Score (1-100)\": 56, \"cluster2\": 1}, {\"Age\": 59, \"Annual Income (k$)\": 54, \"Spending Score (1-100)\": 47, \"cluster2\": 1}, {\"Age\": 26, \"Annual Income (k$)\": 54, \"Spending Score (1-100)\": 54, \"cluster2\": 0}, {\"Age\": 45, \"Annual Income (k$)\": 54, \"Spending Score (1-100)\": 53, \"cluster2\": 1}, {\"Age\": 40, \"Annual Income (k$)\": 54, \"Spending Score (1-100)\": 48, \"cluster2\": 1}, {\"Age\": 23, \"Annual Income (k$)\": 54, \"Spending Score (1-100)\": 52, \"cluster2\": 0}, {\"Age\": 49, \"Annual Income (k$)\": 54, \"Spending Score (1-100)\": 42, \"cluster2\": 1}, {\"Age\": 57, \"Annual Income (k$)\": 54, \"Spending Score (1-100)\": 51, \"cluster2\": 1}, {\"Age\": 38, \"Annual Income (k$)\": 54, \"Spending Score (1-100)\": 55, \"cluster2\": 1}, {\"Age\": 67, \"Annual Income (k$)\": 54, \"Spending Score (1-100)\": 41, \"cluster2\": 1}, {\"Age\": 46, \"Annual Income (k$)\": 54, \"Spending Score (1-100)\": 44, \"cluster2\": 1}, {\"Age\": 21, \"Annual Income (k$)\": 54, \"Spending Score (1-100)\": 57, \"cluster2\": 0}, {\"Age\": 48, \"Annual Income (k$)\": 54, \"Spending Score (1-100)\": 46, \"cluster2\": 1}, {\"Age\": 55, \"Annual Income (k$)\": 57, \"Spending Score (1-100)\": 58, \"cluster2\": 1}, {\"Age\": 22, \"Annual Income (k$)\": 57, \"Spending Score (1-100)\": 55, \"cluster2\": 0}, {\"Age\": 34, \"Annual Income (k$)\": 58, \"Spending Score (1-100)\": 60, \"cluster2\": 0}, {\"Age\": 50, \"Annual Income (k$)\": 58, \"Spending Score (1-100)\": 46, \"cluster2\": 1}, {\"Age\": 68, \"Annual Income (k$)\": 59, \"Spending Score (1-100)\": 55, \"cluster2\": 1}, {\"Age\": 18, \"Annual Income (k$)\": 59, \"Spending Score (1-100)\": 41, \"cluster2\": 0}, {\"Age\": 48, \"Annual Income (k$)\": 60, \"Spending Score (1-100)\": 49, \"cluster2\": 1}, {\"Age\": 40, \"Annual Income (k$)\": 60, \"Spending Score (1-100)\": 40, \"cluster2\": 0}, {\"Age\": 32, \"Annual Income (k$)\": 60, \"Spending Score (1-100)\": 42, \"cluster2\": 0}, {\"Age\": 24, \"Annual Income (k$)\": 60, \"Spending Score (1-100)\": 52, \"cluster2\": 0}, {\"Age\": 47, \"Annual Income (k$)\": 60, \"Spending Score (1-100)\": 47, \"cluster2\": 1}, {\"Age\": 27, \"Annual Income (k$)\": 60, \"Spending Score (1-100)\": 50, \"cluster2\": 0}, {\"Age\": 48, \"Annual Income (k$)\": 61, \"Spending Score (1-100)\": 42, \"cluster2\": 1}, {\"Age\": 20, \"Annual Income (k$)\": 61, \"Spending Score (1-100)\": 49, \"cluster2\": 0}, {\"Age\": 23, \"Annual Income (k$)\": 62, \"Spending Score (1-100)\": 41, \"cluster2\": 0}, {\"Age\": 49, \"Annual Income (k$)\": 62, \"Spending Score (1-100)\": 48, \"cluster2\": 1}, {\"Age\": 67, \"Annual Income (k$)\": 62, \"Spending Score (1-100)\": 59, \"cluster2\": 1}, {\"Age\": 26, \"Annual Income (k$)\": 62, \"Spending Score (1-100)\": 55, \"cluster2\": 0}, {\"Age\": 49, \"Annual Income (k$)\": 62, \"Spending Score (1-100)\": 56, \"cluster2\": 1}, {\"Age\": 21, \"Annual Income (k$)\": 62, \"Spending Score (1-100)\": 42, \"cluster2\": 0}, {\"Age\": 66, \"Annual Income (k$)\": 63, \"Spending Score (1-100)\": 50, \"cluster2\": 1}, {\"Age\": 54, \"Annual Income (k$)\": 63, \"Spending Score (1-100)\": 46, \"cluster2\": 1}, {\"Age\": 68, \"Annual Income (k$)\": 63, \"Spending Score (1-100)\": 43, \"cluster2\": 1}, {\"Age\": 66, \"Annual Income (k$)\": 63, \"Spending Score (1-100)\": 48, \"cluster2\": 1}, {\"Age\": 65, \"Annual Income (k$)\": 63, \"Spending Score (1-100)\": 52, \"cluster2\": 1}, {\"Age\": 19, \"Annual Income (k$)\": 63, \"Spending Score (1-100)\": 54, \"cluster2\": 0}, {\"Age\": 38, \"Annual Income (k$)\": 64, \"Spending Score (1-100)\": 42, \"cluster2\": 0}, {\"Age\": 19, \"Annual Income (k$)\": 64, \"Spending Score (1-100)\": 46, \"cluster2\": 0}, {\"Age\": 18, \"Annual Income (k$)\": 65, \"Spending Score (1-100)\": 48, \"cluster2\": 0}, {\"Age\": 19, \"Annual Income (k$)\": 65, \"Spending Score (1-100)\": 50, \"cluster2\": 0}, {\"Age\": 63, \"Annual Income (k$)\": 65, \"Spending Score (1-100)\": 43, \"cluster2\": 1}, {\"Age\": 49, \"Annual Income (k$)\": 65, \"Spending Score (1-100)\": 59, \"cluster2\": 1}, {\"Age\": 51, \"Annual Income (k$)\": 67, \"Spending Score (1-100)\": 43, \"cluster2\": 1}, {\"Age\": 50, \"Annual Income (k$)\": 67, \"Spending Score (1-100)\": 57, \"cluster2\": 1}, {\"Age\": 27, \"Annual Income (k$)\": 67, \"Spending Score (1-100)\": 56, \"cluster2\": 0}, {\"Age\": 38, \"Annual Income (k$)\": 67, \"Spending Score (1-100)\": 40, \"cluster2\": 0}, {\"Age\": 40, \"Annual Income (k$)\": 69, \"Spending Score (1-100)\": 58, \"cluster2\": 0}, {\"Age\": 39, \"Annual Income (k$)\": 69, \"Spending Score (1-100)\": 91, \"cluster2\": 0}, {\"Age\": 23, \"Annual Income (k$)\": 70, \"Spending Score (1-100)\": 29, \"cluster2\": 0}, {\"Age\": 31, \"Annual Income (k$)\": 70, \"Spending Score (1-100)\": 77, \"cluster2\": 0}, {\"Age\": 43, \"Annual Income (k$)\": 71, \"Spending Score (1-100)\": 35, \"cluster2\": 0}, {\"Age\": 40, \"Annual Income (k$)\": 71, \"Spending Score (1-100)\": 95, \"cluster2\": 0}, {\"Age\": 59, \"Annual Income (k$)\": 71, \"Spending Score (1-100)\": 11, \"cluster2\": 1}, {\"Age\": 38, \"Annual Income (k$)\": 71, \"Spending Score (1-100)\": 75, \"cluster2\": 0}, {\"Age\": 47, \"Annual Income (k$)\": 71, \"Spending Score (1-100)\": 9, \"cluster2\": 0}, {\"Age\": 39, \"Annual Income (k$)\": 71, \"Spending Score (1-100)\": 75, \"cluster2\": 0}, {\"Age\": 25, \"Annual Income (k$)\": 72, \"Spending Score (1-100)\": 34, \"cluster2\": 0}, {\"Age\": 31, \"Annual Income (k$)\": 72, \"Spending Score (1-100)\": 71, \"cluster2\": 0}, {\"Age\": 20, \"Annual Income (k$)\": 73, \"Spending Score (1-100)\": 5, \"cluster2\": 0}, {\"Age\": 29, \"Annual Income (k$)\": 73, \"Spending Score (1-100)\": 88, \"cluster2\": 0}, {\"Age\": 44, \"Annual Income (k$)\": 73, \"Spending Score (1-100)\": 7, \"cluster2\": 0}, {\"Age\": 32, \"Annual Income (k$)\": 73, \"Spending Score (1-100)\": 73, \"cluster2\": 0}, {\"Age\": 19, \"Annual Income (k$)\": 74, \"Spending Score (1-100)\": 10, \"cluster2\": 0}, {\"Age\": 35, \"Annual Income (k$)\": 74, \"Spending Score (1-100)\": 72, \"cluster2\": 0}, {\"Age\": 57, \"Annual Income (k$)\": 75, \"Spending Score (1-100)\": 5, \"cluster2\": 1}, {\"Age\": 32, \"Annual Income (k$)\": 75, \"Spending Score (1-100)\": 93, \"cluster2\": 0}, {\"Age\": 28, \"Annual Income (k$)\": 76, \"Spending Score (1-100)\": 40, \"cluster2\": 0}, {\"Age\": 32, \"Annual Income (k$)\": 76, \"Spending Score (1-100)\": 87, \"cluster2\": 0}, {\"Age\": 25, \"Annual Income (k$)\": 77, \"Spending Score (1-100)\": 12, \"cluster2\": 0}, {\"Age\": 28, \"Annual Income (k$)\": 77, \"Spending Score (1-100)\": 97, \"cluster2\": 0}, {\"Age\": 48, \"Annual Income (k$)\": 77, \"Spending Score (1-100)\": 36, \"cluster2\": 0}, {\"Age\": 32, \"Annual Income (k$)\": 77, \"Spending Score (1-100)\": 74, \"cluster2\": 0}, {\"Age\": 34, \"Annual Income (k$)\": 78, \"Spending Score (1-100)\": 22, \"cluster2\": 0}, {\"Age\": 34, \"Annual Income (k$)\": 78, \"Spending Score (1-100)\": 90, \"cluster2\": 0}, {\"Age\": 43, \"Annual Income (k$)\": 78, \"Spending Score (1-100)\": 17, \"cluster2\": 0}, {\"Age\": 39, \"Annual Income (k$)\": 78, \"Spending Score (1-100)\": 88, \"cluster2\": 0}, {\"Age\": 44, \"Annual Income (k$)\": 78, \"Spending Score (1-100)\": 20, \"cluster2\": 0}, {\"Age\": 38, \"Annual Income (k$)\": 78, \"Spending Score (1-100)\": 76, \"cluster2\": 0}, {\"Age\": 47, \"Annual Income (k$)\": 78, \"Spending Score (1-100)\": 16, \"cluster2\": 0}, {\"Age\": 27, \"Annual Income (k$)\": 78, \"Spending Score (1-100)\": 89, \"cluster2\": 0}, {\"Age\": 37, \"Annual Income (k$)\": 78, \"Spending Score (1-100)\": 1, \"cluster2\": 0}, {\"Age\": 30, \"Annual Income (k$)\": 78, \"Spending Score (1-100)\": 78, \"cluster2\": 0}, {\"Age\": 34, \"Annual Income (k$)\": 78, \"Spending Score (1-100)\": 1, \"cluster2\": 0}, {\"Age\": 30, \"Annual Income (k$)\": 78, \"Spending Score (1-100)\": 73, \"cluster2\": 0}, {\"Age\": 56, \"Annual Income (k$)\": 79, \"Spending Score (1-100)\": 35, \"cluster2\": 0}, {\"Age\": 29, \"Annual Income (k$)\": 79, \"Spending Score (1-100)\": 83, \"cluster2\": 0}, {\"Age\": 19, \"Annual Income (k$)\": 81, \"Spending Score (1-100)\": 5, \"cluster2\": 0}, {\"Age\": 31, \"Annual Income (k$)\": 81, \"Spending Score (1-100)\": 93, \"cluster2\": 0}, {\"Age\": 50, \"Annual Income (k$)\": 85, \"Spending Score (1-100)\": 26, \"cluster2\": 0}, {\"Age\": 36, \"Annual Income (k$)\": 85, \"Spending Score (1-100)\": 75, \"cluster2\": 0}, {\"Age\": 42, \"Annual Income (k$)\": 86, \"Spending Score (1-100)\": 20, \"cluster2\": 0}, {\"Age\": 33, \"Annual Income (k$)\": 86, \"Spending Score (1-100)\": 95, \"cluster2\": 0}, {\"Age\": 36, \"Annual Income (k$)\": 87, \"Spending Score (1-100)\": 27, \"cluster2\": 0}, {\"Age\": 32, \"Annual Income (k$)\": 87, \"Spending Score (1-100)\": 63, \"cluster2\": 0}, {\"Age\": 40, \"Annual Income (k$)\": 87, \"Spending Score (1-100)\": 13, \"cluster2\": 0}, {\"Age\": 28, \"Annual Income (k$)\": 87, \"Spending Score (1-100)\": 75, \"cluster2\": 0}, {\"Age\": 36, \"Annual Income (k$)\": 87, \"Spending Score (1-100)\": 10, \"cluster2\": 0}, {\"Age\": 36, \"Annual Income (k$)\": 87, \"Spending Score (1-100)\": 92, \"cluster2\": 0}, {\"Age\": 52, \"Annual Income (k$)\": 88, \"Spending Score (1-100)\": 13, \"cluster2\": 2}, {\"Age\": 30, \"Annual Income (k$)\": 88, \"Spending Score (1-100)\": 86, \"cluster2\": 0}, {\"Age\": 58, \"Annual Income (k$)\": 88, \"Spending Score (1-100)\": 15, \"cluster2\": 2}, {\"Age\": 27, \"Annual Income (k$)\": 88, \"Spending Score (1-100)\": 69, \"cluster2\": 0}, {\"Age\": 59, \"Annual Income (k$)\": 93, \"Spending Score (1-100)\": 14, \"cluster2\": 2}, {\"Age\": 35, \"Annual Income (k$)\": 93, \"Spending Score (1-100)\": 90, \"cluster2\": 2}, {\"Age\": 37, \"Annual Income (k$)\": 97, \"Spending Score (1-100)\": 32, \"cluster2\": 2}, {\"Age\": 32, \"Annual Income (k$)\": 97, \"Spending Score (1-100)\": 86, \"cluster2\": 2}, {\"Age\": 46, \"Annual Income (k$)\": 98, \"Spending Score (1-100)\": 15, \"cluster2\": 2}, {\"Age\": 29, \"Annual Income (k$)\": 98, \"Spending Score (1-100)\": 88, \"cluster2\": 2}, {\"Age\": 41, \"Annual Income (k$)\": 99, \"Spending Score (1-100)\": 39, \"cluster2\": 2}, {\"Age\": 30, \"Annual Income (k$)\": 99, \"Spending Score (1-100)\": 97, \"cluster2\": 2}, {\"Age\": 54, \"Annual Income (k$)\": 101, \"Spending Score (1-100)\": 24, \"cluster2\": 2}, {\"Age\": 28, \"Annual Income (k$)\": 101, \"Spending Score (1-100)\": 68, \"cluster2\": 2}, {\"Age\": 41, \"Annual Income (k$)\": 103, \"Spending Score (1-100)\": 17, \"cluster2\": 2}, {\"Age\": 36, \"Annual Income (k$)\": 103, \"Spending Score (1-100)\": 85, \"cluster2\": 2}, {\"Age\": 34, \"Annual Income (k$)\": 103, \"Spending Score (1-100)\": 23, \"cluster2\": 2}, {\"Age\": 32, \"Annual Income (k$)\": 103, \"Spending Score (1-100)\": 69, \"cluster2\": 2}, {\"Age\": 33, \"Annual Income (k$)\": 113, \"Spending Score (1-100)\": 8, \"cluster2\": 2}, {\"Age\": 38, \"Annual Income (k$)\": 113, \"Spending Score (1-100)\": 91, \"cluster2\": 2}, {\"Age\": 47, \"Annual Income (k$)\": 120, \"Spending Score (1-100)\": 16, \"cluster2\": 2}, {\"Age\": 35, \"Annual Income (k$)\": 120, \"Spending Score (1-100)\": 79, \"cluster2\": 2}, {\"Age\": 45, \"Annual Income (k$)\": 126, \"Spending Score (1-100)\": 28, \"cluster2\": 2}, {\"Age\": 32, \"Annual Income (k$)\": 126, \"Spending Score (1-100)\": 74, \"cluster2\": 2}, {\"Age\": 32, \"Annual Income (k$)\": 137, \"Spending Score (1-100)\": 18, \"cluster2\": 2}, {\"Age\": 30, \"Annual Income (k$)\": 137, \"Spending Score (1-100)\": 83, \"cluster2\": 2}]}}, {\"mode\": \"vega-lite\"});\n",
       "</script>"
      ],
      "text/plain": [
       "alt.Chart(...)"
      ]
     },
     "execution_count": 15,
     "metadata": {},
     "output_type": "execute_result"
    }
   ],
   "source": [
    "#@title Now plot the scatter plot using the mark_circle() and encode() methods from the altair package\n",
    "alt.Chart(data).mark_circle()\\\n",
    "             .encode\\\n",
    "              (x='Age', \\\n",
    "               y='Annual Income (k$)', \\\n",
    "               color='cluster2:N', \\\n",
    "               tooltip=['Spending Score (1-100)', 'cluster2', \\\n",
    "                        'Age',\\\n",
    "'Annual Income (k$)'])\\\n",
    "             .interactive()\n"
   ]
  },
  {
   "cell_type": "code",
   "execution_count": null,
   "id": "fe5ac3db-cd35-47c4-96d6-91942c77c6aa",
   "metadata": {},
   "outputs": [],
   "source": []
  }
 ],
 "metadata": {
  "kernelspec": {
   "display_name": "Python 3 (ipykernel)",
   "language": "python",
   "name": "python3"
  },
  "language_info": {
   "codemirror_mode": {
    "name": "ipython",
    "version": 3
   },
   "file_extension": ".py",
   "mimetype": "text/x-python",
   "name": "python",
   "nbconvert_exporter": "python",
   "pygments_lexer": "ipython3",
   "version": "3.9.7"
  }
 },
 "nbformat": 4,
 "nbformat_minor": 5
}
