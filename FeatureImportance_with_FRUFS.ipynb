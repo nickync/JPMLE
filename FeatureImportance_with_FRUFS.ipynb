{
 "cells": [
  {
   "cell_type": "code",
   "execution_count": null,
   "id": "d3e34458-7906-4b8c-bd2f-06a34c8dbdf8",
   "metadata": {},
   "outputs": [],
   "source": [
    "# Reference: \n",
    "# --- https://github.com/atif-hassan/FRUFS\n",
    "# --- https://github.com/Vevesta/VevestaX\n",
    "!pip install FRUFS vevestaX"
   ]
  },
  {
   "cell_type": "code",
   "execution_count": null,
   "id": "09026b8a-1c12-467a-89eb-be9450ddcd3d",
   "metadata": {},
   "outputs": [],
   "source": [
    "#Import libraries\n",
    "import math\n",
    "import numpy as np\n",
    "import pandas as pd\n",
    "from collections import Counter\n",
    "from sklearn.tree import DecisionTreeClassifier, DecisionTreeRegressor\n",
    "from sklearn.metrics import accuracy_score\n",
    "from sklearn.model_selection import KFold, StratifiedKFold\n",
    "import time\n",
    "from sklearn.cluster import KMeans\n",
    "from matplotlib.pyplot import figure\n",
    "from sklearn.metrics.cluster import normalized_mutual_info_score"
   ]
  },
  {
   "cell_type": "code",
   "execution_count": null,
   "id": "df21744f-dab6-4dd9-a74c-006db14c19f1",
   "metadata": {},
   "outputs": [],
   "source": [
    "#Import FRUFS and vevestaX and create vevestaX object\n",
    "from FRUFS import FRUFS\n",
    "from vevestaX import vevesta as v\n",
    "V=v.Experiment()"
   ]
  },
  {
   "cell_type": "code",
   "execution_count": null,
   "id": "007a6e30-244a-49fa-9cf0-f0a42250b056",
   "metadata": {},
   "outputs": [],
   "source": [
    "# Load the data into a dataframe (this is ML agnostic so you can use any dataset)\n",
    "# Replace with your dataset\n",
    "df = pd.read_csv(\"https://gist.githubusercontent.com/tijptjik/9408623/raw/b237fa5848349a14a14e5d4107dc7897c21951f5/wine.csv\")\n",
    "df.head()"
   ]
  },
  {
   "cell_type": "code",
   "execution_count": null,
   "id": "2c5feca6-08ea-4829-90c7-bd4ac9305280",
   "metadata": {},
   "outputs": [],
   "source": [
    "# Split the data into input features and target variable (replace 'Wine\" with your target)\n",
    "# Replace with your target variable\n",
    "data, Y = df.drop(['Wine'], axis=1), df['Wine'].values\n",
    "\n",
    "# Lets check out the shape of our data\n",
    "print(\"Data shape: \", data.shape, \"Target Variable shape: \", Y.shape)"
   ]
  },
  {
   "cell_type": "code",
   "execution_count": null,
   "id": "9f45cc1a-a789-4f32-b049-19b7f4af1700",
   "metadata": {},
   "outputs": [],
   "source": [
    "#extract the names of the features\n",
    "V.ds = data\n",
    "#print the names of the features\n",
    "V.ds"
   ]
  },
  {
   "cell_type": "code",
   "execution_count": null,
   "id": "2ecfe440-c1e3-4fc1-b3d0-606af1f9cfde",
   "metadata": {},
   "outputs": [],
   "source": [
    "#start the tracking scope of the variables\n",
    "V.start()\n",
    "num_classes = 2"
   ]
  },
  {
   "cell_type": "code",
   "execution_count": null,
   "id": "37c2208c-346c-4d43-b63c-48d819a6d520",
   "metadata": {},
   "outputs": [],
   "source": [
    "# We want to time our algorithm\n",
    "start = time.time()\n",
    "\n",
    "NoOfSplits = 10\n",
    "seed= 27\n",
    "shuffleFlag = True\n",
    "\n",
    "# Use KFold for understanding the performance\n",
    "kfold = KFold(n_splits=NoOfSplits, random_state=seed, shuffle=shuffleFlag)\n",
    "\n",
    "# This will hold all the accuracy scores\n",
    "scores = list()\n",
    "\n",
    "# Perform CV\n",
    "for train, test in kfold.split(data):\n",
    "    # Split data into train and test based on folds\n",
    "    x_train, x_test = data.iloc[train], data.iloc[test]\n",
    "    y_train, y_test = Y[train], Y[test]\n",
    "    \n",
    "    # Convert the data into numpy arrays\n",
    "    x_train, x_test = x_train.values, x_test.values\n",
    "    \n",
    "    noOfFeaturesSelected=6\n",
    "    \n",
    "    # Initialize the FRUFS object with your supervised algorithm of choice\n",
    "    model = FRUFS(model_r=DecisionTreeRegressor(random_state=seed), k=noOfFeaturesSelected, n_jobs=-1, verbose=0, random_state=seed)\n",
    " \n",
    "    # Train the FRUFS model and use it to downsize your data\n",
    "    x_train = model.fit_transform(x_train)\n",
    "    x_test = model.transform(x_test)\n",
    "    \n",
    "    # Finally, classify on selected features\n",
    "    model_dt = DecisionTreeClassifier(random_state=seed)\n",
    "    model_dt.fit(x_train, y_train)\n",
    "    preds = model_dt.predict(x_test)\n",
    "\n",
    "    # We are going to use the NMI metric to measure the quality/performance of the clustering \n",
    "    score = accuracy_score(y_test, preds)\n",
    "    print(\"Score:\", score)\n",
    "    scores.append(score)\n",
    "    \n",
    "# Compute average score\n",
    "averageAccuracy = sum(scores)/len(scores)\n",
    "print(\"\\n\\nAverage Accuracy: \", averageAccuracy)\n",
    "\n",
    "# Finally, check out the total time taken\n",
    "end = time.time()\n",
    "timeTaken = end-start\n",
    "print(\"\\n\\nTotal Time Required (in seconds): \", timeTaken)"
   ]
  },
  {
   "cell_type": "code",
   "execution_count": null,
   "id": "7f5ae31e-379c-4fc7-83fc-0490a1f8e7e6",
   "metadata": {},
   "outputs": [],
   "source": [
    "#end the tracking scope of variables\n",
    "V.end()"
   ]
  },
  {
   "cell_type": "code",
   "execution_count": null,
   "id": "a1bd0789-e12b-477b-b891-895dfdb1b81b",
   "metadata": {},
   "outputs": [],
   "source": [
    "figure(figsize=(8, 20), dpi=100)\n",
    "model.feature_importance()"
   ]
  },
  {
   "cell_type": "code",
   "execution_count": null,
   "id": "0f5db9e3-4ccb-48a4-86d4-7d8ab002c1da",
   "metadata": {},
   "outputs": [],
   "source": [
    "# Download the Excel Workbook (there are MULTIPLE tabs created)\n",
    "V.dump(techniqueUsed = \"Decision tree with FRUFS\",message= \"4 selected features were used\", version=1)"
   ]
  },
  {
   "cell_type": "code",
   "execution_count": null,
   "id": "52dc3a11-fa7f-4d92-9cc9-78bfd58a8700",
   "metadata": {},
   "outputs": [],
   "source": []
  }
 ],
 "metadata": {
  "kernelspec": {
   "display_name": "Python 3 (ipykernel)",
   "language": "python",
   "name": "python3"
  },
  "language_info": {
   "codemirror_mode": {
    "name": "ipython",
    "version": 3
   },
   "file_extension": ".py",
   "mimetype": "text/x-python",
   "name": "python",
   "nbconvert_exporter": "python",
   "pygments_lexer": "ipython3",
   "version": "3.8.13"
  }
 },
 "nbformat": 4,
 "nbformat_minor": 5
}
