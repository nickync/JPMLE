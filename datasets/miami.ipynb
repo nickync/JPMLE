{
 "cells": [
  {
   "cell_type": "code",
   "execution_count": 1,
   "id": "90abda55-f166-490b-a712-3745c2ce7b84",
   "metadata": {},
   "outputs": [],
   "source": [
    "import numpy as np\n",
    "import pandas as pd\n",
    "import seaborn as sns\n",
    "import matplotlib.pyplot as plt"
   ]
  },
  {
   "cell_type": "code",
   "execution_count": 2,
   "id": "132da3da-535e-494e-8d6a-05607d6a72ff",
   "metadata": {},
   "outputs": [],
   "source": [
    "df = pd.read_csv('https://raw.githubusercontent.com/fenago/DSBook/0d01201e1f99b3f141a00a003cb95e074fd85e6e/Chapter%202/Housing.csv')"
   ]
  },
  {
   "cell_type": "code",
   "execution_count": 3,
   "id": "9271f157-21d3-4e8d-adc3-37a72ec2e265",
   "metadata": {},
   "outputs": [
    {
     "data": {
      "text/html": [
       "<div>\n",
       "<style scoped>\n",
       "    .dataframe tbody tr th:only-of-type {\n",
       "        vertical-align: middle;\n",
       "    }\n",
       "\n",
       "    .dataframe tbody tr th {\n",
       "        vertical-align: top;\n",
       "    }\n",
       "\n",
       "    .dataframe thead th {\n",
       "        text-align: right;\n",
       "    }\n",
       "</style>\n",
       "<table border=\"1\" class=\"dataframe\">\n",
       "  <thead>\n",
       "    <tr style=\"text-align: right;\">\n",
       "      <th></th>\n",
       "      <th>price</th>\n",
       "      <th>area</th>\n",
       "      <th>bedrooms</th>\n",
       "      <th>bathrooms</th>\n",
       "      <th>stories</th>\n",
       "      <th>mainroad</th>\n",
       "      <th>guestroom</th>\n",
       "      <th>basement</th>\n",
       "      <th>hotwaterheating</th>\n",
       "      <th>airconditioning</th>\n",
       "      <th>parking</th>\n",
       "      <th>prefarea</th>\n",
       "      <th>furnishingstatus</th>\n",
       "    </tr>\n",
       "  </thead>\n",
       "  <tbody>\n",
       "    <tr>\n",
       "      <th>0</th>\n",
       "      <td>13300000</td>\n",
       "      <td>7420</td>\n",
       "      <td>4</td>\n",
       "      <td>2</td>\n",
       "      <td>3</td>\n",
       "      <td>yes</td>\n",
       "      <td>no</td>\n",
       "      <td>no</td>\n",
       "      <td>no</td>\n",
       "      <td>yes</td>\n",
       "      <td>2</td>\n",
       "      <td>yes</td>\n",
       "      <td>furnished</td>\n",
       "    </tr>\n",
       "    <tr>\n",
       "      <th>1</th>\n",
       "      <td>12250000</td>\n",
       "      <td>8960</td>\n",
       "      <td>4</td>\n",
       "      <td>4</td>\n",
       "      <td>4</td>\n",
       "      <td>yes</td>\n",
       "      <td>no</td>\n",
       "      <td>no</td>\n",
       "      <td>no</td>\n",
       "      <td>yes</td>\n",
       "      <td>3</td>\n",
       "      <td>no</td>\n",
       "      <td>furnished</td>\n",
       "    </tr>\n",
       "    <tr>\n",
       "      <th>2</th>\n",
       "      <td>12250000</td>\n",
       "      <td>9960</td>\n",
       "      <td>3</td>\n",
       "      <td>2</td>\n",
       "      <td>2</td>\n",
       "      <td>yes</td>\n",
       "      <td>no</td>\n",
       "      <td>yes</td>\n",
       "      <td>no</td>\n",
       "      <td>no</td>\n",
       "      <td>2</td>\n",
       "      <td>yes</td>\n",
       "      <td>semi-furnished</td>\n",
       "    </tr>\n",
       "    <tr>\n",
       "      <th>3</th>\n",
       "      <td>12215000</td>\n",
       "      <td>7500</td>\n",
       "      <td>4</td>\n",
       "      <td>2</td>\n",
       "      <td>2</td>\n",
       "      <td>yes</td>\n",
       "      <td>no</td>\n",
       "      <td>yes</td>\n",
       "      <td>no</td>\n",
       "      <td>yes</td>\n",
       "      <td>3</td>\n",
       "      <td>yes</td>\n",
       "      <td>furnished</td>\n",
       "    </tr>\n",
       "    <tr>\n",
       "      <th>4</th>\n",
       "      <td>11410000</td>\n",
       "      <td>7420</td>\n",
       "      <td>4</td>\n",
       "      <td>1</td>\n",
       "      <td>2</td>\n",
       "      <td>yes</td>\n",
       "      <td>yes</td>\n",
       "      <td>yes</td>\n",
       "      <td>no</td>\n",
       "      <td>yes</td>\n",
       "      <td>2</td>\n",
       "      <td>no</td>\n",
       "      <td>furnished</td>\n",
       "    </tr>\n",
       "  </tbody>\n",
       "</table>\n",
       "</div>"
      ],
      "text/plain": [
       "      price  area  bedrooms  bathrooms  stories mainroad guestroom basement  \\\n",
       "0  13300000  7420         4          2        3      yes        no       no   \n",
       "1  12250000  8960         4          4        4      yes        no       no   \n",
       "2  12250000  9960         3          2        2      yes        no      yes   \n",
       "3  12215000  7500         4          2        2      yes        no      yes   \n",
       "4  11410000  7420         4          1        2      yes       yes      yes   \n",
       "\n",
       "  hotwaterheating airconditioning  parking prefarea furnishingstatus  \n",
       "0              no             yes        2      yes        furnished  \n",
       "1              no             yes        3       no        furnished  \n",
       "2              no              no        2      yes   semi-furnished  \n",
       "3              no             yes        3      yes        furnished  \n",
       "4              no             yes        2       no        furnished  "
      ]
     },
     "execution_count": 3,
     "metadata": {},
     "output_type": "execute_result"
    }
   ],
   "source": [
    "df.head()"
   ]
  },
  {
   "cell_type": "code",
   "execution_count": 4,
   "id": "1c7da169-8788-4974-a47d-e8dfa640c591",
   "metadata": {},
   "outputs": [
    {
     "data": {
      "text/plain": [
       "(545, 13)"
      ]
     },
     "execution_count": 4,
     "metadata": {},
     "output_type": "execute_result"
    }
   ],
   "source": [
    "df.shape"
   ]
  },
  {
   "cell_type": "code",
   "execution_count": 5,
   "id": "f709bd60-64eb-4c57-aeb9-fe8fbd8fd087",
   "metadata": {},
   "outputs": [
    {
     "data": {
      "text/plain": [
       "price                int64\n",
       "area                 int64\n",
       "bedrooms             int64\n",
       "bathrooms            int64\n",
       "stories              int64\n",
       "mainroad            object\n",
       "guestroom           object\n",
       "basement            object\n",
       "hotwaterheating     object\n",
       "airconditioning     object\n",
       "parking              int64\n",
       "prefarea            object\n",
       "furnishingstatus    object\n",
       "dtype: object"
      ]
     },
     "execution_count": 5,
     "metadata": {},
     "output_type": "execute_result"
    }
   ],
   "source": [
    "df.dtypes"
   ]
  },
  {
   "cell_type": "code",
   "execution_count": 6,
   "id": "5b18d9c6-8fd7-44ac-bd84-7d6439789815",
   "metadata": {},
   "outputs": [],
   "source": [
    "cols = df.columns"
   ]
  },
  {
   "cell_type": "code",
   "execution_count": 7,
   "id": "fd3a4a5a-1a94-43c2-9ada-3d8a6e906ebc",
   "metadata": {},
   "outputs": [
    {
     "data": {
      "text/plain": [
       "Index(['price', 'area', 'bedrooms', 'bathrooms', 'stories', 'mainroad',\n",
       "       'guestroom', 'basement', 'hotwaterheating', 'airconditioning',\n",
       "       'parking', 'prefarea', 'furnishingstatus'],\n",
       "      dtype='object')"
      ]
     },
     "execution_count": 7,
     "metadata": {},
     "output_type": "execute_result"
    }
   ],
   "source": [
    "cols"
   ]
  },
  {
   "cell_type": "code",
   "execution_count": 8,
   "id": "177a63c7-12b1-47d6-8704-7eb395f7f578",
   "metadata": {},
   "outputs": [],
   "source": [
    "df = df[[col for col in cols if col != 'price'] + ['price']]"
   ]
  },
  {
   "cell_type": "code",
   "execution_count": 9,
   "id": "2bc19d73-e3e4-4777-be22-36abb7c99d6b",
   "metadata": {},
   "outputs": [
    {
     "data": {
      "text/html": [
       "<div>\n",
       "<style scoped>\n",
       "    .dataframe tbody tr th:only-of-type {\n",
       "        vertical-align: middle;\n",
       "    }\n",
       "\n",
       "    .dataframe tbody tr th {\n",
       "        vertical-align: top;\n",
       "    }\n",
       "\n",
       "    .dataframe thead th {\n",
       "        text-align: right;\n",
       "    }\n",
       "</style>\n",
       "<table border=\"1\" class=\"dataframe\">\n",
       "  <thead>\n",
       "    <tr style=\"text-align: right;\">\n",
       "      <th></th>\n",
       "      <th>area</th>\n",
       "      <th>bedrooms</th>\n",
       "      <th>bathrooms</th>\n",
       "      <th>stories</th>\n",
       "      <th>mainroad</th>\n",
       "      <th>guestroom</th>\n",
       "      <th>basement</th>\n",
       "      <th>hotwaterheating</th>\n",
       "      <th>airconditioning</th>\n",
       "      <th>parking</th>\n",
       "      <th>prefarea</th>\n",
       "      <th>furnishingstatus</th>\n",
       "      <th>price</th>\n",
       "    </tr>\n",
       "  </thead>\n",
       "  <tbody>\n",
       "    <tr>\n",
       "      <th>0</th>\n",
       "      <td>7420</td>\n",
       "      <td>4</td>\n",
       "      <td>2</td>\n",
       "      <td>3</td>\n",
       "      <td>yes</td>\n",
       "      <td>no</td>\n",
       "      <td>no</td>\n",
       "      <td>no</td>\n",
       "      <td>yes</td>\n",
       "      <td>2</td>\n",
       "      <td>yes</td>\n",
       "      <td>furnished</td>\n",
       "      <td>13300000</td>\n",
       "    </tr>\n",
       "    <tr>\n",
       "      <th>1</th>\n",
       "      <td>8960</td>\n",
       "      <td>4</td>\n",
       "      <td>4</td>\n",
       "      <td>4</td>\n",
       "      <td>yes</td>\n",
       "      <td>no</td>\n",
       "      <td>no</td>\n",
       "      <td>no</td>\n",
       "      <td>yes</td>\n",
       "      <td>3</td>\n",
       "      <td>no</td>\n",
       "      <td>furnished</td>\n",
       "      <td>12250000</td>\n",
       "    </tr>\n",
       "    <tr>\n",
       "      <th>2</th>\n",
       "      <td>9960</td>\n",
       "      <td>3</td>\n",
       "      <td>2</td>\n",
       "      <td>2</td>\n",
       "      <td>yes</td>\n",
       "      <td>no</td>\n",
       "      <td>yes</td>\n",
       "      <td>no</td>\n",
       "      <td>no</td>\n",
       "      <td>2</td>\n",
       "      <td>yes</td>\n",
       "      <td>semi-furnished</td>\n",
       "      <td>12250000</td>\n",
       "    </tr>\n",
       "    <tr>\n",
       "      <th>3</th>\n",
       "      <td>7500</td>\n",
       "      <td>4</td>\n",
       "      <td>2</td>\n",
       "      <td>2</td>\n",
       "      <td>yes</td>\n",
       "      <td>no</td>\n",
       "      <td>yes</td>\n",
       "      <td>no</td>\n",
       "      <td>yes</td>\n",
       "      <td>3</td>\n",
       "      <td>yes</td>\n",
       "      <td>furnished</td>\n",
       "      <td>12215000</td>\n",
       "    </tr>\n",
       "    <tr>\n",
       "      <th>4</th>\n",
       "      <td>7420</td>\n",
       "      <td>4</td>\n",
       "      <td>1</td>\n",
       "      <td>2</td>\n",
       "      <td>yes</td>\n",
       "      <td>yes</td>\n",
       "      <td>yes</td>\n",
       "      <td>no</td>\n",
       "      <td>yes</td>\n",
       "      <td>2</td>\n",
       "      <td>no</td>\n",
       "      <td>furnished</td>\n",
       "      <td>11410000</td>\n",
       "    </tr>\n",
       "  </tbody>\n",
       "</table>\n",
       "</div>"
      ],
      "text/plain": [
       "   area  bedrooms  bathrooms  stories mainroad guestroom basement  \\\n",
       "0  7420         4          2        3      yes        no       no   \n",
       "1  8960         4          4        4      yes        no       no   \n",
       "2  9960         3          2        2      yes        no      yes   \n",
       "3  7500         4          2        2      yes        no      yes   \n",
       "4  7420         4          1        2      yes       yes      yes   \n",
       "\n",
       "  hotwaterheating airconditioning  parking prefarea furnishingstatus     price  \n",
       "0              no             yes        2      yes        furnished  13300000  \n",
       "1              no             yes        3       no        furnished  12250000  \n",
       "2              no              no        2      yes   semi-furnished  12250000  \n",
       "3              no             yes        3      yes        furnished  12215000  \n",
       "4              no             yes        2       no        furnished  11410000  "
      ]
     },
     "execution_count": 9,
     "metadata": {},
     "output_type": "execute_result"
    }
   ],
   "source": [
    "df.head()"
   ]
  },
  {
   "cell_type": "code",
   "execution_count": 10,
   "id": "29b7bebd-c777-4c2a-bfb9-328d6a9ad02a",
   "metadata": {},
   "outputs": [
    {
     "data": {
      "text/html": [
       "<div>\n",
       "<style scoped>\n",
       "    .dataframe tbody tr th:only-of-type {\n",
       "        vertical-align: middle;\n",
       "    }\n",
       "\n",
       "    .dataframe tbody tr th {\n",
       "        vertical-align: top;\n",
       "    }\n",
       "\n",
       "    .dataframe thead th {\n",
       "        text-align: right;\n",
       "    }\n",
       "</style>\n",
       "<table border=\"1\" class=\"dataframe\">\n",
       "  <thead>\n",
       "    <tr style=\"text-align: right;\">\n",
       "      <th></th>\n",
       "      <th>area</th>\n",
       "      <th>bedrooms</th>\n",
       "      <th>bathrooms</th>\n",
       "      <th>stories</th>\n",
       "      <th>parking</th>\n",
       "      <th>price</th>\n",
       "    </tr>\n",
       "  </thead>\n",
       "  <tbody>\n",
       "    <tr>\n",
       "      <th>count</th>\n",
       "      <td>545.000000</td>\n",
       "      <td>545.000000</td>\n",
       "      <td>545.000000</td>\n",
       "      <td>545.000000</td>\n",
       "      <td>545.000000</td>\n",
       "      <td>5.450000e+02</td>\n",
       "    </tr>\n",
       "    <tr>\n",
       "      <th>mean</th>\n",
       "      <td>5150.541284</td>\n",
       "      <td>2.965138</td>\n",
       "      <td>1.286239</td>\n",
       "      <td>1.805505</td>\n",
       "      <td>0.693578</td>\n",
       "      <td>4.766729e+06</td>\n",
       "    </tr>\n",
       "    <tr>\n",
       "      <th>std</th>\n",
       "      <td>2170.141023</td>\n",
       "      <td>0.738064</td>\n",
       "      <td>0.502470</td>\n",
       "      <td>0.867492</td>\n",
       "      <td>0.861586</td>\n",
       "      <td>1.870440e+06</td>\n",
       "    </tr>\n",
       "    <tr>\n",
       "      <th>min</th>\n",
       "      <td>1650.000000</td>\n",
       "      <td>1.000000</td>\n",
       "      <td>1.000000</td>\n",
       "      <td>1.000000</td>\n",
       "      <td>0.000000</td>\n",
       "      <td>1.750000e+06</td>\n",
       "    </tr>\n",
       "    <tr>\n",
       "      <th>25%</th>\n",
       "      <td>3600.000000</td>\n",
       "      <td>2.000000</td>\n",
       "      <td>1.000000</td>\n",
       "      <td>1.000000</td>\n",
       "      <td>0.000000</td>\n",
       "      <td>3.430000e+06</td>\n",
       "    </tr>\n",
       "    <tr>\n",
       "      <th>50%</th>\n",
       "      <td>4600.000000</td>\n",
       "      <td>3.000000</td>\n",
       "      <td>1.000000</td>\n",
       "      <td>2.000000</td>\n",
       "      <td>0.000000</td>\n",
       "      <td>4.340000e+06</td>\n",
       "    </tr>\n",
       "    <tr>\n",
       "      <th>75%</th>\n",
       "      <td>6360.000000</td>\n",
       "      <td>3.000000</td>\n",
       "      <td>2.000000</td>\n",
       "      <td>2.000000</td>\n",
       "      <td>1.000000</td>\n",
       "      <td>5.740000e+06</td>\n",
       "    </tr>\n",
       "    <tr>\n",
       "      <th>max</th>\n",
       "      <td>16200.000000</td>\n",
       "      <td>6.000000</td>\n",
       "      <td>4.000000</td>\n",
       "      <td>4.000000</td>\n",
       "      <td>3.000000</td>\n",
       "      <td>1.330000e+07</td>\n",
       "    </tr>\n",
       "  </tbody>\n",
       "</table>\n",
       "</div>"
      ],
      "text/plain": [
       "               area    bedrooms   bathrooms     stories     parking  \\\n",
       "count    545.000000  545.000000  545.000000  545.000000  545.000000   \n",
       "mean    5150.541284    2.965138    1.286239    1.805505    0.693578   \n",
       "std     2170.141023    0.738064    0.502470    0.867492    0.861586   \n",
       "min     1650.000000    1.000000    1.000000    1.000000    0.000000   \n",
       "25%     3600.000000    2.000000    1.000000    1.000000    0.000000   \n",
       "50%     4600.000000    3.000000    1.000000    2.000000    0.000000   \n",
       "75%     6360.000000    3.000000    2.000000    2.000000    1.000000   \n",
       "max    16200.000000    6.000000    4.000000    4.000000    3.000000   \n",
       "\n",
       "              price  \n",
       "count  5.450000e+02  \n",
       "mean   4.766729e+06  \n",
       "std    1.870440e+06  \n",
       "min    1.750000e+06  \n",
       "25%    3.430000e+06  \n",
       "50%    4.340000e+06  \n",
       "75%    5.740000e+06  \n",
       "max    1.330000e+07  "
      ]
     },
     "execution_count": 10,
     "metadata": {},
     "output_type": "execute_result"
    }
   ],
   "source": [
    "df.describe()"
   ]
  },
  {
   "cell_type": "code",
   "execution_count": 11,
   "id": "5dd33ed6-6b3c-4794-8390-2cb700688366",
   "metadata": {},
   "outputs": [
    {
     "data": {
      "text/plain": [
       "area                0\n",
       "bedrooms            0\n",
       "bathrooms           0\n",
       "stories             0\n",
       "mainroad            0\n",
       "guestroom           0\n",
       "basement            0\n",
       "hotwaterheating     0\n",
       "airconditioning     0\n",
       "parking             0\n",
       "prefarea            0\n",
       "furnishingstatus    0\n",
       "price               0\n",
       "dtype: int64"
      ]
     },
     "execution_count": 11,
     "metadata": {},
     "output_type": "execute_result"
    }
   ],
   "source": [
    "df.isna().sum()"
   ]
  },
  {
   "cell_type": "code",
   "execution_count": 12,
   "id": "0f1051d2-73b1-4e64-9a56-bb8d4cad1089",
   "metadata": {},
   "outputs": [
    {
     "name": "stderr",
     "output_type": "stream",
     "text": [
      "/opt/anaconda3/lib/python3.9/site-packages/seaborn/distributions.py:2619: FutureWarning: `distplot` is a deprecated function and will be removed in a future version. Please adapt your code to use either `displot` (a figure-level function with similar flexibility) or `histplot` (an axes-level function for histograms).\n",
      "  warnings.warn(msg, FutureWarning)\n"
     ]
    },
    {
     "data": {
      "image/png": "[encoded data removed]",
      "text/plain": [
       "<Figure size 432x288 with 1 Axes>"
      ]
     },
     "metadata": {
      "needs_background": "light"
     },
     "output_type": "display_data"
    }
   ],
   "source": [
    "ax = sns.distplot(df['area'])"
   ]
  },
  {
   "cell_type": "code",
   "execution_count": 13,
   "id": "91447041-bd78-4608-aa32-87eb736206dc",
   "metadata": {},
   "outputs": [
    {
     "data": {
      "image/png": "[encoded data removed]",
      "text/plain": [
       "<Figure size 432x288 with 1 Axes>"
      ]
     },
     "metadata": {
      "needs_background": "light"
     },
     "output_type": "display_data"
    }
   ],
   "source": [
    "ax = sns.histplot(df['area'])"
   ]
  },
  {
   "cell_type": "code",
   "execution_count": 14,
   "id": "bfe30393-d4af-40e5-a2a3-9a52b8b27741",
   "metadata": {},
   "outputs": [
    {
     "data": {
      "text/html": [
       "<div>\n",
       "<style scoped>\n",
       "    .dataframe tbody tr th:only-of-type {\n",
       "        vertical-align: middle;\n",
       "    }\n",
       "\n",
       "    .dataframe tbody tr th {\n",
       "        vertical-align: top;\n",
       "    }\n",
       "\n",
       "    .dataframe thead th {\n",
       "        text-align: right;\n",
       "    }\n",
       "</style>\n",
       "<table border=\"1\" class=\"dataframe\">\n",
       "  <thead>\n",
       "    <tr style=\"text-align: right;\">\n",
       "      <th></th>\n",
       "      <th>area</th>\n",
       "      <th>bedrooms</th>\n",
       "      <th>bathrooms</th>\n",
       "      <th>stories</th>\n",
       "      <th>mainroad</th>\n",
       "      <th>guestroom</th>\n",
       "      <th>basement</th>\n",
       "      <th>hotwaterheating</th>\n",
       "      <th>airconditioning</th>\n",
       "      <th>parking</th>\n",
       "      <th>prefarea</th>\n",
       "      <th>furnishingstatus</th>\n",
       "      <th>price</th>\n",
       "    </tr>\n",
       "  </thead>\n",
       "  <tbody>\n",
       "    <tr>\n",
       "      <th>7</th>\n",
       "      <td>16200</td>\n",
       "      <td>5</td>\n",
       "      <td>3</td>\n",
       "      <td>2</td>\n",
       "      <td>yes</td>\n",
       "      <td>no</td>\n",
       "      <td>no</td>\n",
       "      <td>no</td>\n",
       "      <td>no</td>\n",
       "      <td>0</td>\n",
       "      <td>no</td>\n",
       "      <td>unfurnished</td>\n",
       "      <td>10150000</td>\n",
       "    </tr>\n",
       "  </tbody>\n",
       "</table>\n",
       "</div>"
      ],
      "text/plain": [
       "    area  bedrooms  bathrooms  stories mainroad guestroom basement  \\\n",
       "7  16200         5          3        2      yes        no       no   \n",
       "\n",
       "  hotwaterheating airconditioning  parking prefarea furnishingstatus     price  \n",
       "7              no              no        0       no      unfurnished  10150000  "
      ]
     },
     "execution_count": 14,
     "metadata": {},
     "output_type": "execute_result"
    }
   ],
   "source": [
    "df[df['area']== 16200]"
   ]
  },
  {
   "cell_type": "code",
   "execution_count": 15,
   "id": "73ef1e98-29ce-4cce-ac51-85611903d164",
   "metadata": {},
   "outputs": [
    {
     "data": {
      "text/plain": [
       "<AxesSubplot:xlabel='area'>"
      ]
     },
     "execution_count": 15,
     "metadata": {},
     "output_type": "execute_result"
    },
    {
     "data": {
      "image/png": "[encoded data removed]",
      "text/plain": [
       "<Figure size 432x288 with 1 Axes>"
      ]
     },
     "metadata": {
      "needs_background": "light"
     },
     "output_type": "display_data"
    }
   ],
   "source": [
    "sns.boxplot(x='area',data=df)"
   ]
  },
  {
   "cell_type": "code",
   "execution_count": 16,
   "id": "72f59c5b-0ca1-45b9-a875-cb3955d8b729",
   "metadata": {},
   "outputs": [],
   "source": [
    "#drop?\n",
    "df.drop(df[df['area'] >= 12000].index,inplace=True)"
   ]
  },
  {
   "cell_type": "code",
   "execution_count": 17,
   "id": "37c94960-af24-45ee-856b-f8d49a29e178",
   "metadata": {},
   "outputs": [
    {
     "data": {
      "text/html": [
       "<div>\n",
       "<style scoped>\n",
       "    .dataframe tbody tr th:only-of-type {\n",
       "        vertical-align: middle;\n",
       "    }\n",
       "\n",
       "    .dataframe tbody tr th {\n",
       "        vertical-align: top;\n",
       "    }\n",
       "\n",
       "    .dataframe thead th {\n",
       "        text-align: right;\n",
       "    }\n",
       "</style>\n",
       "<table border=\"1\" class=\"dataframe\">\n",
       "  <thead>\n",
       "    <tr style=\"text-align: right;\">\n",
       "      <th></th>\n",
       "      <th>area</th>\n",
       "      <th>bedrooms</th>\n",
       "      <th>bathrooms</th>\n",
       "      <th>stories</th>\n",
       "      <th>parking</th>\n",
       "      <th>price</th>\n",
       "    </tr>\n",
       "  </thead>\n",
       "  <tbody>\n",
       "    <tr>\n",
       "      <th>area</th>\n",
       "      <td>1.000000</td>\n",
       "      <td>0.142157</td>\n",
       "      <td>0.198125</td>\n",
       "      <td>0.119742</td>\n",
       "      <td>0.363842</td>\n",
       "      <td>0.542847</td>\n",
       "    </tr>\n",
       "    <tr>\n",
       "      <th>bedrooms</th>\n",
       "      <td>0.142157</td>\n",
       "      <td>1.000000</td>\n",
       "      <td>0.360605</td>\n",
       "      <td>0.410512</td>\n",
       "      <td>0.142804</td>\n",
       "      <td>0.361667</td>\n",
       "    </tr>\n",
       "    <tr>\n",
       "      <th>bathrooms</th>\n",
       "      <td>0.198125</td>\n",
       "      <td>0.360605</td>\n",
       "      <td>1.000000</td>\n",
       "      <td>0.326225</td>\n",
       "      <td>0.187312</td>\n",
       "      <td>0.516971</td>\n",
       "    </tr>\n",
       "    <tr>\n",
       "      <th>stories</th>\n",
       "      <td>0.119742</td>\n",
       "      <td>0.410512</td>\n",
       "      <td>0.326225</td>\n",
       "      <td>1.000000</td>\n",
       "      <td>0.049742</td>\n",
       "      <td>0.429030</td>\n",
       "    </tr>\n",
       "    <tr>\n",
       "      <th>parking</th>\n",
       "      <td>0.363842</td>\n",
       "      <td>0.142804</td>\n",
       "      <td>0.187312</td>\n",
       "      <td>0.049742</td>\n",
       "      <td>1.000000</td>\n",
       "      <td>0.384803</td>\n",
       "    </tr>\n",
       "    <tr>\n",
       "      <th>price</th>\n",
       "      <td>0.542847</td>\n",
       "      <td>0.361667</td>\n",
       "      <td>0.516971</td>\n",
       "      <td>0.429030</td>\n",
       "      <td>0.384803</td>\n",
       "      <td>1.000000</td>\n",
       "    </tr>\n",
       "  </tbody>\n",
       "</table>\n",
       "</div>"
      ],
      "text/plain": [
       "               area  bedrooms  bathrooms   stories   parking     price\n",
       "area       1.000000  0.142157   0.198125  0.119742  0.363842  0.542847\n",
       "bedrooms   0.142157  1.000000   0.360605  0.410512  0.142804  0.361667\n",
       "bathrooms  0.198125  0.360605   1.000000  0.326225  0.187312  0.516971\n",
       "stories    0.119742  0.410512   0.326225  1.000000  0.049742  0.429030\n",
       "parking    0.363842  0.142804   0.187312  0.049742  1.000000  0.384803\n",
       "price      0.542847  0.361667   0.516971  0.429030  0.384803  1.000000"
      ]
     },
     "execution_count": 17,
     "metadata": {},
     "output_type": "execute_result"
    }
   ],
   "source": [
    "df.corr()"
   ]
  },
  {
   "cell_type": "code",
   "execution_count": 18,
   "id": "08b96bbf-592b-476d-a80a-b9da69f2beef",
   "metadata": {},
   "outputs": [
    {
     "data": {
      "text/html": [
       "<div>\n",
       "<style scoped>\n",
       "    .dataframe tbody tr th:only-of-type {\n",
       "        vertical-align: middle;\n",
       "    }\n",
       "\n",
       "    .dataframe tbody tr th {\n",
       "        vertical-align: top;\n",
       "    }\n",
       "\n",
       "    .dataframe thead th {\n",
       "        text-align: right;\n",
       "    }\n",
       "</style>\n",
       "<table border=\"1\" class=\"dataframe\">\n",
       "  <thead>\n",
       "    <tr style=\"text-align: right;\">\n",
       "      <th></th>\n",
       "      <th>area</th>\n",
       "      <th>bedrooms</th>\n",
       "      <th>bathrooms</th>\n",
       "      <th>stories</th>\n",
       "      <th>parking</th>\n",
       "      <th>price</th>\n",
       "    </tr>\n",
       "  </thead>\n",
       "  <tbody>\n",
       "    <tr>\n",
       "      <th>count</th>\n",
       "      <td>538.000000</td>\n",
       "      <td>538.000000</td>\n",
       "      <td>538.000000</td>\n",
       "      <td>538.000000</td>\n",
       "      <td>538.000000</td>\n",
       "      <td>5.380000e+02</td>\n",
       "    </tr>\n",
       "    <tr>\n",
       "      <th>mean</th>\n",
       "      <td>5038.868030</td>\n",
       "      <td>2.960967</td>\n",
       "      <td>1.284387</td>\n",
       "      <td>1.810409</td>\n",
       "      <td>0.685874</td>\n",
       "      <td>4.739506e+06</td>\n",
       "    </tr>\n",
       "    <tr>\n",
       "      <th>std</th>\n",
       "      <td>1942.107992</td>\n",
       "      <td>0.735101</td>\n",
       "      <td>0.498581</td>\n",
       "      <td>0.870221</td>\n",
       "      <td>0.858643</td>\n",
       "      <td>1.849413e+06</td>\n",
       "    </tr>\n",
       "    <tr>\n",
       "      <th>min</th>\n",
       "      <td>1650.000000</td>\n",
       "      <td>1.000000</td>\n",
       "      <td>1.000000</td>\n",
       "      <td>1.000000</td>\n",
       "      <td>0.000000</td>\n",
       "      <td>1.750000e+06</td>\n",
       "    </tr>\n",
       "    <tr>\n",
       "      <th>25%</th>\n",
       "      <td>3573.500000</td>\n",
       "      <td>2.000000</td>\n",
       "      <td>1.000000</td>\n",
       "      <td>1.000000</td>\n",
       "      <td>0.000000</td>\n",
       "      <td>3.430000e+06</td>\n",
       "    </tr>\n",
       "    <tr>\n",
       "      <th>50%</th>\n",
       "      <td>4510.000000</td>\n",
       "      <td>3.000000</td>\n",
       "      <td>1.000000</td>\n",
       "      <td>2.000000</td>\n",
       "      <td>0.000000</td>\n",
       "      <td>4.329500e+06</td>\n",
       "    </tr>\n",
       "    <tr>\n",
       "      <th>75%</th>\n",
       "      <td>6357.500000</td>\n",
       "      <td>3.000000</td>\n",
       "      <td>2.000000</td>\n",
       "      <td>2.000000</td>\n",
       "      <td>1.000000</td>\n",
       "      <td>5.740000e+06</td>\n",
       "    </tr>\n",
       "    <tr>\n",
       "      <th>max</th>\n",
       "      <td>11460.000000</td>\n",
       "      <td>6.000000</td>\n",
       "      <td>4.000000</td>\n",
       "      <td>4.000000</td>\n",
       "      <td>3.000000</td>\n",
       "      <td>1.330000e+07</td>\n",
       "    </tr>\n",
       "  </tbody>\n",
       "</table>\n",
       "</div>"
      ],
      "text/plain": [
       "               area    bedrooms   bathrooms     stories     parking  \\\n",
       "count    538.000000  538.000000  538.000000  538.000000  538.000000   \n",
       "mean    5038.868030    2.960967    1.284387    1.810409    0.685874   \n",
       "std     1942.107992    0.735101    0.498581    0.870221    0.858643   \n",
       "min     1650.000000    1.000000    1.000000    1.000000    0.000000   \n",
       "25%     3573.500000    2.000000    1.000000    1.000000    0.000000   \n",
       "50%     4510.000000    3.000000    1.000000    2.000000    0.000000   \n",
       "75%     6357.500000    3.000000    2.000000    2.000000    1.000000   \n",
       "max    11460.000000    6.000000    4.000000    4.000000    3.000000   \n",
       "\n",
       "              price  \n",
       "count  5.380000e+02  \n",
       "mean   4.739506e+06  \n",
       "std    1.849413e+06  \n",
       "min    1.750000e+06  \n",
       "25%    3.430000e+06  \n",
       "50%    4.329500e+06  \n",
       "75%    5.740000e+06  \n",
       "max    1.330000e+07  "
      ]
     },
     "execution_count": 18,
     "metadata": {},
     "output_type": "execute_result"
    }
   ],
   "source": [
    "df.describe()"
   ]
  },
  {
   "cell_type": "code",
   "execution_count": 19,
   "id": "618171ef-dcb2-4509-8042-53a43c2f721d",
   "metadata": {},
   "outputs": [],
   "source": [
    "X = df.iloc[:,:-1]\n",
    "y = df.iloc[:,-1]"
   ]
  },
  {
   "cell_type": "code",
   "execution_count": 20,
   "id": "f8b379bb-8194-4038-b836-55a55e1f97bc",
   "metadata": {},
   "outputs": [],
   "source": [
    "from sklearn.compose import make_column_selector as selector\n",
    "\n",
    "numerical_columns_selector = selector(dtype_exclude=object)\n",
    "categorical_columns_selector = selector(dtype_include=object)\n",
    "\n",
    "numerical_columns = numerical_columns_selector(X)\n",
    "categorical_columns = categorical_columns_selector(X)"
   ]
  },
  {
   "cell_type": "code",
   "execution_count": 21,
   "id": "09943417-e0ee-4b75-a02f-8668a0ed661b",
   "metadata": {},
   "outputs": [],
   "source": [
    "from sklearn.preprocessing import OneHotEncoder, StandardScaler\n",
    "\n",
    "categorical_preprocessor = OneHotEncoder(handle_unknown=\"ignore\")\n",
    "numerical_preprocessor = StandardScaler()"
   ]
  },
  {
   "cell_type": "code",
   "execution_count": 22,
   "id": "e1a3bbc3-91f7-471f-94bd-8311ba2ab990",
   "metadata": {},
   "outputs": [],
   "source": [
    "from sklearn.compose import ColumnTransformer\n",
    "\n",
    "preprocessor = ColumnTransformer([\n",
    "    ('one-hot-encoder', categorical_preprocessor, categorical_columns),\n",
    "    ('standard scaler', numerical_preprocessor, numerical_columns)])"
   ]
  },
  {
   "cell_type": "code",
   "execution_count": 23,
   "id": "b2aa7e51-3bb3-40ad-9f60-e85b49880ca1",
   "metadata": {},
   "outputs": [],
   "source": [
    "from sklearn.linear_model import LinearRegression\n",
    "from sklearn.pipeline import make_pipeline\n",
    "\n",
    "model = make_pipeline(preprocessor, LinearRegression())"
   ]
  },
  {
   "cell_type": "code",
   "execution_count": 24,
   "id": "3f28a319-b392-4880-bafc-593bc002e7ab",
   "metadata": {},
   "outputs": [
    {
     "data": {
      "text/html": [
       "<style>#sk-e34cf5a6-4935-4fac-ba0c-b8b720084d0f {color: black;background-color: white;}#sk-e34cf5a6-4935-4fac-ba0c-b8b720084d0f pre{padding: 0;}#sk-e34cf5a6-4935-4fac-ba0c-b8b720084d0f div.sk-toggleable {background-color: white;}#sk-e34cf5a6-4935-4fac-ba0c-b8b720084d0f label.sk-toggleable__label {cursor: pointer;display: block;width: 100%;margin-bottom: 0;padding: 0.3em;box-sizing: border-box;text-align: center;}#sk-e34cf5a6-4935-4fac-ba0c-b8b720084d0f label.sk-toggleable__label-arrow:before {content: \"▸\";float: left;margin-right: 0.25em;color: #696969;}#sk-e34cf5a6-4935-4fac-ba0c-b8b720084d0f label.sk-toggleable__label-arrow:hover:before {color: black;}#sk-e34cf5a6-4935-4fac-ba0c-b8b720084d0f div.sk-estimator:hover label.sk-toggleable__label-arrow:before {color: black;}#sk-e34cf5a6-4935-4fac-ba0c-b8b720084d0f div.sk-toggleable__content {max-height: 0;max-width: 0;overflow: hidden;text-align: left;background-color: #f0f8ff;}#sk-e34cf5a6-4935-4fac-ba0c-b8b720084d0f div.sk-toggleable__content pre {margin: 0.2em;color: black;border-radius: 0.25em;background-color: #f0f8ff;}#sk-e34cf5a6-4935-4fac-ba0c-b8b720084d0f input.sk-toggleable__control:checked~div.sk-toggleable__content {max-height: 200px;max-width: 100%;overflow: auto;}#sk-e34cf5a6-4935-4fac-ba0c-b8b720084d0f input.sk-toggleable__control:checked~label.sk-toggleable__label-arrow:before {content: \"▾\";}#sk-e34cf5a6-4935-4fac-ba0c-b8b720084d0f div.sk-estimator input.sk-toggleable__control:checked~label.sk-toggleable__label {background-color: #d4ebff;}#sk-e34cf5a6-4935-4fac-ba0c-b8b720084d0f div.sk-label input.sk-toggleable__control:checked~label.sk-toggleable__label {background-color: #d4ebff;}#sk-e34cf5a6-4935-4fac-ba0c-b8b720084d0f input.sk-hidden--visually {border: 0;clip: rect(1px 1px 1px 1px);clip: rect(1px, 1px, 1px, 1px);height: 1px;margin: -1px;overflow: hidden;padding: 0;position: absolute;width: 1px;}#sk-e34cf5a6-4935-4fac-ba0c-b8b720084d0f div.sk-estimator {font-family: monospace;background-color: #f0f8ff;border: 1px dotted black;border-radius: 0.25em;box-sizing: border-box;margin-bottom: 0.5em;}#sk-e34cf5a6-4935-4fac-ba0c-b8b720084d0f div.sk-estimator:hover {background-color: #d4ebff;}#sk-e34cf5a6-4935-4fac-ba0c-b8b720084d0f div.sk-parallel-item::after {content: \"\";width: 100%;border-bottom: 1px solid gray;flex-grow: 1;}#sk-e34cf5a6-4935-4fac-ba0c-b8b720084d0f div.sk-label:hover label.sk-toggleable__label {background-color: #d4ebff;}#sk-e34cf5a6-4935-4fac-ba0c-b8b720084d0f div.sk-serial::before {content: \"\";position: absolute;border-left: 1px solid gray;box-sizing: border-box;top: 2em;bottom: 0;left: 50%;}#sk-e34cf5a6-4935-4fac-ba0c-b8b720084d0f div.sk-serial {display: flex;flex-direction: column;align-items: center;background-color: white;padding-right: 0.2em;padding-left: 0.2em;}#sk-e34cf5a6-4935-4fac-ba0c-b8b720084d0f div.sk-item {z-index: 1;}#sk-e34cf5a6-4935-4fac-ba0c-b8b720084d0f div.sk-parallel {display: flex;align-items: stretch;justify-content: center;background-color: white;}#sk-e34cf5a6-4935-4fac-ba0c-b8b720084d0f div.sk-parallel::before {content: \"\";position: absolute;border-left: 1px solid gray;box-sizing: border-box;top: 2em;bottom: 0;left: 50%;}#sk-e34cf5a6-4935-4fac-ba0c-b8b720084d0f div.sk-parallel-item {display: flex;flex-direction: column;position: relative;background-color: white;}#sk-e34cf5a6-4935-4fac-ba0c-b8b720084d0f div.sk-parallel-item:first-child::after {align-self: flex-end;width: 50%;}#sk-e34cf5a6-4935-4fac-ba0c-b8b720084d0f div.sk-parallel-item:last-child::after {align-self: flex-start;width: 50%;}#sk-e34cf5a6-4935-4fac-ba0c-b8b720084d0f div.sk-parallel-item:only-child::after {width: 0;}#sk-e34cf5a6-4935-4fac-ba0c-b8b720084d0f div.sk-dashed-wrapped {border: 1px dashed gray;margin: 0 0.4em 0.5em 0.4em;box-sizing: border-box;padding-bottom: 0.4em;background-color: white;position: relative;}#sk-e34cf5a6-4935-4fac-ba0c-b8b720084d0f div.sk-label label {font-family: monospace;font-weight: bold;background-color: white;display: inline-block;line-height: 1.2em;}#sk-e34cf5a6-4935-4fac-ba0c-b8b720084d0f div.sk-label-container {position: relative;z-index: 2;text-align: center;}#sk-e34cf5a6-4935-4fac-ba0c-b8b720084d0f div.sk-container {/* jupyter's `normalize.less` sets `[hidden] { display: none; }` but bootstrap.min.css set `[hidden] { display: none !important; }` so we also need the `!important` here to be able to override the default hidden behavior on the sphinx rendered scikit-learn.org. See: https://github.com/scikit-learn/scikit-learn/issues/21755 */display: inline-block !important;position: relative;}#sk-e34cf5a6-4935-4fac-ba0c-b8b720084d0f div.sk-text-repr-fallback {display: none;}</style><div id=\"sk-e34cf5a6-4935-4fac-ba0c-b8b720084d0f\" class=\"sk-top-container\"><div class=\"sk-text-repr-fallback\"><pre>Pipeline(steps=[(&#x27;columntransformer&#x27;,\n",
       "                 ColumnTransformer(transformers=[(&#x27;one-hot-encoder&#x27;,\n",
       "                                                  OneHotEncoder(handle_unknown=&#x27;ignore&#x27;),\n",
       "                                                  [&#x27;mainroad&#x27;, &#x27;guestroom&#x27;,\n",
       "                                                   &#x27;basement&#x27;,\n",
       "                                                   &#x27;hotwaterheating&#x27;,\n",
       "                                                   &#x27;airconditioning&#x27;,\n",
       "                                                   &#x27;prefarea&#x27;,\n",
       "                                                   &#x27;furnishingstatus&#x27;]),\n",
       "                                                 (&#x27;standard scaler&#x27;,\n",
       "                                                  StandardScaler(),\n",
       "                                                  [&#x27;area&#x27;, &#x27;bedrooms&#x27;,\n",
       "                                                   &#x27;bathrooms&#x27;, &#x27;stories&#x27;,\n",
       "                                                   &#x27;parking&#x27;])])),\n",
       "                (&#x27;linearregression&#x27;, LinearRegression())])</pre><b>Please rerun this cell to show the HTML repr or trust the notebook.</b></div><div class=\"sk-container\" hidden><div class=\"sk-item sk-dashed-wrapped\"><div class=\"sk-label-container\"><div class=\"sk-label sk-toggleable\"><input class=\"sk-toggleable__control sk-hidden--visually\" id=\"12237fef-0a29-4222-ad48-918af1de61ed\" type=\"checkbox\" ><label for=\"12237fef-0a29-4222-ad48-918af1de61ed\" class=\"sk-toggleable__label sk-toggleable__label-arrow\">Pipeline</label><div class=\"sk-toggleable__content\"><pre>Pipeline(steps=[(&#x27;columntransformer&#x27;,\n",
       "                 ColumnTransformer(transformers=[(&#x27;one-hot-encoder&#x27;,\n",
       "                                                  OneHotEncoder(handle_unknown=&#x27;ignore&#x27;),\n",
       "                                                  [&#x27;mainroad&#x27;, &#x27;guestroom&#x27;,\n",
       "                                                   &#x27;basement&#x27;,\n",
       "                                                   &#x27;hotwaterheating&#x27;,\n",
       "                                                   &#x27;airconditioning&#x27;,\n",
       "                                                   &#x27;prefarea&#x27;,\n",
       "                                                   &#x27;furnishingstatus&#x27;]),\n",
       "                                                 (&#x27;standard scaler&#x27;,\n",
       "                                                  StandardScaler(),\n",
       "                                                  [&#x27;area&#x27;, &#x27;bedrooms&#x27;,\n",
       "                                                   &#x27;bathrooms&#x27;, &#x27;stories&#x27;,\n",
       "                                                   &#x27;parking&#x27;])])),\n",
       "                (&#x27;linearregression&#x27;, LinearRegression())])</pre></div></div></div><div class=\"sk-serial\"><div class=\"sk-item sk-dashed-wrapped\"><div class=\"sk-label-container\"><div class=\"sk-label sk-toggleable\"><input class=\"sk-toggleable__control sk-hidden--visually\" id=\"1824871d-c21a-49d5-8fb6-7781a16be2d3\" type=\"checkbox\" ><label for=\"1824871d-c21a-49d5-8fb6-7781a16be2d3\" class=\"sk-toggleable__label sk-toggleable__label-arrow\">columntransformer: ColumnTransformer</label><div class=\"sk-toggleable__content\"><pre>ColumnTransformer(transformers=[(&#x27;one-hot-encoder&#x27;,\n",
       "                                 OneHotEncoder(handle_unknown=&#x27;ignore&#x27;),\n",
       "                                 [&#x27;mainroad&#x27;, &#x27;guestroom&#x27;, &#x27;basement&#x27;,\n",
       "                                  &#x27;hotwaterheating&#x27;, &#x27;airconditioning&#x27;,\n",
       "                                  &#x27;prefarea&#x27;, &#x27;furnishingstatus&#x27;]),\n",
       "                                (&#x27;standard scaler&#x27;, StandardScaler(),\n",
       "                                 [&#x27;area&#x27;, &#x27;bedrooms&#x27;, &#x27;bathrooms&#x27;, &#x27;stories&#x27;,\n",
       "                                  &#x27;parking&#x27;])])</pre></div></div></div><div class=\"sk-parallel\"><div class=\"sk-parallel-item\"><div class=\"sk-item\"><div class=\"sk-label-container\"><div class=\"sk-label sk-toggleable\"><input class=\"sk-toggleable__control sk-hidden--visually\" id=\"a849e7c2-ad41-4fed-89f5-5b869c0fae91\" type=\"checkbox\" ><label for=\"a849e7c2-ad41-4fed-89f5-5b869c0fae91\" class=\"sk-toggleable__label sk-toggleable__label-arrow\">one-hot-encoder</label><div class=\"sk-toggleable__content\"><pre>[&#x27;mainroad&#x27;, &#x27;guestroom&#x27;, &#x27;basement&#x27;, &#x27;hotwaterheating&#x27;, &#x27;airconditioning&#x27;, &#x27;prefarea&#x27;, &#x27;furnishingstatus&#x27;]</pre></div></div></div><div class=\"sk-serial\"><div class=\"sk-item\"><div class=\"sk-estimator sk-toggleable\"><input class=\"sk-toggleable__control sk-hidden--visually\" id=\"067eae1f-1ab6-4f95-9fcc-4932017315b5\" type=\"checkbox\" ><label for=\"067eae1f-1ab6-4f95-9fcc-4932017315b5\" class=\"sk-toggleable__label sk-toggleable__label-arrow\">OneHotEncoder</label><div class=\"sk-toggleable__content\"><pre>OneHotEncoder(handle_unknown=&#x27;ignore&#x27;)</pre></div></div></div></div></div></div><div class=\"sk-parallel-item\"><div class=\"sk-item\"><div class=\"sk-label-container\"><div class=\"sk-label sk-toggleable\"><input class=\"sk-toggleable__control sk-hidden--visually\" id=\"20f12a6c-7bce-46f2-bbab-c44b82d36781\" type=\"checkbox\" ><label for=\"20f12a6c-7bce-46f2-bbab-c44b82d36781\" class=\"sk-toggleable__label sk-toggleable__label-arrow\">standard scaler</label><div class=\"sk-toggleable__content\"><pre>[&#x27;area&#x27;, &#x27;bedrooms&#x27;, &#x27;bathrooms&#x27;, &#x27;stories&#x27;, &#x27;parking&#x27;]</pre></div></div></div><div class=\"sk-serial\"><div class=\"sk-item\"><div class=\"sk-estimator sk-toggleable\"><input class=\"sk-toggleable__control sk-hidden--visually\" id=\"7cb11320-b9df-4b02-a15e-98beb79c8999\" type=\"checkbox\" ><label for=\"7cb11320-b9df-4b02-a15e-98beb79c8999\" class=\"sk-toggleable__label sk-toggleable__label-arrow\">StandardScaler</label><div class=\"sk-toggleable__content\"><pre>StandardScaler()</pre></div></div></div></div></div></div></div></div><div class=\"sk-item\"><div class=\"sk-estimator sk-toggleable\"><input class=\"sk-toggleable__control sk-hidden--visually\" id=\"a0adfe68-6189-4187-b6f7-95707ffc523b\" type=\"checkbox\" ><label for=\"a0adfe68-6189-4187-b6f7-95707ffc523b\" class=\"sk-toggleable__label sk-toggleable__label-arrow\">LinearRegression</label><div class=\"sk-toggleable__content\"><pre>LinearRegression()</pre></div></div></div></div></div></div></div>"
      ],
      "text/plain": [
       "Pipeline(steps=[('columntransformer',\n",
       "                 ColumnTransformer(transformers=[('one-hot-encoder',\n",
       "                                                  OneHotEncoder(handle_unknown='ignore'),\n",
       "                                                  ['mainroad', 'guestroom',\n",
       "                                                   'basement',\n",
       "                                                   'hotwaterheating',\n",
       "                                                   'airconditioning',\n",
       "                                                   'prefarea',\n",
       "                                                   'furnishingstatus']),\n",
       "                                                 ('standard scaler',\n",
       "                                                  StandardScaler(),\n",
       "                                                  ['area', 'bedrooms',\n",
       "                                                   'bathrooms', 'stories',\n",
       "                                                   'parking'])])),\n",
       "                ('linearregression', LinearRegression())])"
      ]
     },
     "execution_count": 24,
     "metadata": {},
     "output_type": "execute_result"
    }
   ],
   "source": [
    "from sklearn import set_config\n",
    "set_config(display='diagram')\n",
    "model"
   ]
  },
  {
   "cell_type": "code",
   "execution_count": 25,
   "id": "a1bb5fd8-223a-4a06-a4b8-505ae044acbb",
   "metadata": {},
   "outputs": [],
   "source": [
    "from sklearn.model_selection import train_test_split\n",
    "X_train, X_test, y_train, y_test = train_test_split(X, y)"
   ]
  },
  {
   "cell_type": "code",
   "execution_count": 26,
   "id": "4a1284c8-fc29-4a72-822f-8ca4ea1776c7",
   "metadata": {},
   "outputs": [],
   "source": [
    "_ = model.fit(X_train, y_train)"
   ]
  },
  {
   "cell_type": "code",
   "execution_count": 27,
   "id": "aa23d2a4-6627-4897-80b6-4bbff68a8c77",
   "metadata": {},
   "outputs": [],
   "source": [
    "y_pred = model.predict(X_test)"
   ]
  },
  {
   "cell_type": "code",
   "execution_count": 28,
   "id": "12fc3e59-ef68-47a9-af33-45bacf79aa22",
   "metadata": {},
   "outputs": [
    {
     "name": "stdout",
     "output_type": "stream",
     "text": [
      "r2 score: 0.6649923602177598\n"
     ]
    }
   ],
   "source": [
    "from sklearn.metrics import confusion_matrix, accuracy_score, r2_score, explained_variance_score,mean_absolute_error\n",
    "print(f'r2 score: {r2_score(y_test, y_pred)}')"
   ]
  },
  {
   "cell_type": "code",
   "execution_count": 29,
   "id": "81614784-af8e-4209-8e01-9256e18cc1f7",
   "metadata": {},
   "outputs": [
    {
     "data": {
      "text/plain": [
       "array([-1.47717701e+19, -1.47717701e+19,  5.09216410e+19,  5.09216410e+19,\n",
       "        5.07370145e+19,  5.07370145e+19,  3.94795051e+18,  3.94795051e+18,\n",
       "       -6.21504137e+18, -6.21504137e+18,  2.83778692e+19,  2.83778692e+19,\n",
       "        2.23828161e+18,  2.23828161e+18,  2.23828161e+18,  4.27008000e+05,\n",
       "        8.45280000e+04,  4.83072000e+05,  3.66080000e+05,  2.45760000e+05])"
      ]
     },
     "execution_count": 29,
     "metadata": {},
     "output_type": "execute_result"
    }
   ],
   "source": [
    "model.named_steps.linearregression.coef_"
   ]
  },
  {
   "cell_type": "code",
   "execution_count": 30,
   "id": "6cebca62-bffa-4b46-aa2a-a58a4172c1a2",
   "metadata": {},
   "outputs": [
    {
     "data": {
      "text/plain": [
       "-1.1523594538012312e+20"
      ]
     },
     "execution_count": 30,
     "metadata": {},
     "output_type": "execute_result"
    }
   ],
   "source": [
    "model.named_steps.linearregression.intercept_"
   ]
  },
  {
   "cell_type": "code",
   "execution_count": 31,
   "id": "7e9b303e-e694-4451-ac0c-07cbebca9791",
   "metadata": {},
   "outputs": [],
   "source": [
    "from time import time\n",
    "\n",
    "from sklearn.linear_model import LinearRegression, Ridge,Lasso\n",
    "from sklearn.neighbors import KNeighborsRegressor\n",
    "from sklearn.ensemble import GradientBoostingRegressor\n",
    "from sklearn.ensemble import ExtraTreesRegressor, RandomForestRegressor\n",
    "from sklearn.tree import DecisionTreeRegressor"
   ]
  },
  {
   "cell_type": "code",
   "execution_count": 41,
   "id": "f7c929d5-d09b-4734-888b-d9a5fd1d42da",
   "metadata": {},
   "outputs": [],
   "source": [
    "regressors = [\n",
    "    KNeighborsRegressor(),\n",
    "    GradientBoostingRegressor(),\n",
    "    ExtraTreesRegressor(),\n",
    "    RandomForestRegressor(),\n",
    "    DecisionTreeRegressor(),\n",
    "    LinearRegression(),\n",
    "    Lasso(),\n",
    "    Ridge(alpha=0.99)\n",
    "]"
   ]
  },
  {
   "cell_type": "code",
   "execution_count": 42,
   "id": "f5cff5f8-a48f-49ee-988c-3b241d87d968",
   "metadata": {},
   "outputs": [
    {
     "name": "stdout",
     "output_type": "stream",
     "text": [
      "KNeighborsRegressor()\n",
      "\tTraining time: 0.011s\n",
      "\tPrediction time: 0.006s\n",
      "\tExplained variance: 0.6275513009868174\n",
      "\tMean absolute error: 739841.925925926\n",
      "\tR2 score: 0.6221125192524702\n",
      "\n",
      "GradientBoostingRegressor()\n",
      "\tTraining time: 0.043s\n",
      "\tPrediction time: 0.003s\n",
      "\tExplained variance: 0.6447971755741706\n",
      "\tMean absolute error: 774850.5686581894\n",
      "\tR2 score: 0.6426200630274184\n",
      "\n",
      "ExtraTreesRegressor()\n",
      "\tTraining time: 0.109s\n",
      "\tPrediction time: 0.008s\n",
      "\tExplained variance: 0.583463448020044\n",
      "\tMean absolute error: 829356.5518518519\n",
      "\tR2 score: 0.578115611605509\n",
      "\n",
      "RandomForestRegressor()\n",
      "\tTraining time: 0.123s\n",
      "\tPrediction time: 0.008s\n",
      "\tExplained variance: 0.6538582181638095\n",
      "\tMean absolute error: 777013.1703703704\n",
      "\tR2 score: 0.6501513874586378\n",
      "\n",
      "DecisionTreeRegressor()\n",
      "\tTraining time: 0.004s\n",
      "\tPrediction time: 0.002s\n",
      "\tExplained variance: 0.29162315646552583\n",
      "\tMean absolute error: 1136236.3703703703\n",
      "\tR2 score: 0.27889629756387335\n",
      "\n",
      "LinearRegression()\n",
      "\tTraining time: 0.004s\n",
      "\tPrediction time: 0.002s\n",
      "\tExplained variance: 0.6651858658244112\n",
      "\tMean absolute error: 800082.3555555556\n",
      "\tR2 score: 0.6649923602177598\n",
      "\n",
      "Lasso()\n",
      "\tTraining time: 0.003s\n",
      "\tPrediction time: 0.002s\n",
      "\tExplained variance: 0.6576391301053499\n",
      "\tMean absolute error: 809857.6894848696\n",
      "\tR2 score: 0.6574482211756869\n",
      "\n",
      "Ridge(alpha=0.99)\n",
      "\tTraining time: 0.003s\n",
      "\tPrediction time: 0.002s\n",
      "\tExplained variance: 0.6580542590896935\n",
      "\tMean absolute error: 808987.0079613241\n",
      "\tR2 score: 0.6578657819249043\n",
      "\n"
     ]
    }
   ],
   "source": [
    "head = 10\n",
    "for model in regressors[:head]:\n",
    "    start = time()\n",
    "    model.fit(preprocessor.transform(X_train), y_train)\n",
    "    train_time = time() - start\n",
    "    start = time()\n",
    "    y_pred = model.predict(preprocessor.transform(X_test))\n",
    "    predict_time = time()-start    \n",
    "    print(model)\n",
    "    print(\"\\tTraining time: %0.3fs\" % train_time)\n",
    "    print(\"\\tPrediction time: %0.3fs\" % predict_time)\n",
    "    print(\"\\tExplained variance:\", explained_variance_score(y_test, y_pred))\n",
    "    print(\"\\tMean absolute error:\", mean_absolute_error(y_test, y_pred))\n",
    "    print(\"\\tR2 score:\", r2_score(y_test, y_pred))\n",
    "    print()"
   ]
  },
  {
   "cell_type": "code",
   "execution_count": 34,
   "id": "63e36969-1fe0-4b7a-ba2d-1be8c9606fb4",
   "metadata": {},
   "outputs": [],
   "source": [
    "from sklearn.preprocessing import LabelEncoder\n",
    "from sklearn.preprocessing import OneHotEncoder\n",
    "from sklearn.compose import make_column_selector as selector\n",
    "\n",
    "numerical_columns_selector = selector(dtype_exclude=object)\n",
    "categorical_columns_selector = selector(dtype_include=object)\n",
    "\n",
    "numerical_columns = numerical_columns_selector(X)\n",
    "categorical_columns = categorical_columns_selector(X)\n",
    "\n",
    "le = LabelEncoder()\n",
    "sc = StandardScaler()\n",
    "\n",
    "\n",
    "for i in categorical_columns:\n",
    "    X[i] = le.fit_transform(X[i])\n",
    "\n",
    "\n",
    "X = sc.fit_transform(X)"
   ]
  },
  {
   "cell_type": "code",
   "execution_count": 40,
   "id": "2e7dba2a-ef26-442f-8610-d8a72260e0fb",
   "metadata": {},
   "outputs": [
    {
     "data": {
      "text/plain": [
       "array([[ 1.22719644,  1.41477283,  1.43663717, ...,  1.53189357,\n",
       "         1.80827024, -1.41755257],\n",
       "       [ 2.02088723,  1.41477283,  5.45175821, ...,  2.69760607,\n",
       "        -0.55301469, -1.41755257],\n",
       "       [ 2.53627086,  0.05314889,  1.43663717, ...,  1.53189357,\n",
       "         1.80827024, -0.09810052],\n",
       "       ...,\n",
       "       [-0.73126135, -1.30847505, -0.57092334, ..., -0.79953144,\n",
       "        -0.55301469,  1.22135153],\n",
       "       [-1.09718373,  0.05314889, -0.57092334, ..., -0.79953144,\n",
       "        -0.55301469, -1.41755257],\n",
       "       [-0.61272312,  0.05314889, -0.57092334, ..., -0.79953144,\n",
       "        -0.55301469,  1.22135153]])"
      ]
     },
     "execution_count": 40,
     "metadata": {},
     "output_type": "execute_result"
    }
   ],
   "source": [
    "X"
   ]
  },
  {
   "cell_type": "code",
   "execution_count": 36,
   "id": "df3ea2a6-ac82-4502-83d0-26fdccfdecf0",
   "metadata": {},
   "outputs": [],
   "source": [
    "from sklearn.model_selection import GridSearchCV\n",
    "from sklearn.model_selection import RepeatedKFold\n",
    "\n",
    "\n",
    "\n",
    "cv = RepeatedKFold(n_splits=10, n_repeats=3)\n",
    "grid = dict()\n",
    "grid['alpha'] = np.arange(0, 1, 0.01)\n",
    "search = GridSearchCV(model, grid, scoring='neg_mean_absolute_error', cv=cv, n_jobs=-1)\n",
    "results = search.fit(X, y)"
   ]
  },
  {
   "cell_type": "code",
   "execution_count": 37,
   "id": "04671d23-fc60-4e9b-8225-9ed9b49cab92",
   "metadata": {},
   "outputs": [
    {
     "name": "stdout",
     "output_type": "stream",
     "text": [
      "MAE: -794689.097\n",
      "Config: {'alpha': 0.99}\n"
     ]
    }
   ],
   "source": [
    "print('MAE: %.3f' % results.best_score_)\n",
    "print('Config: %s' % results.best_params_)"
   ]
  },
  {
   "cell_type": "code",
   "execution_count": 38,
   "id": "377982d2-d15c-4243-80a7-c2fcf817f26b",
   "metadata": {},
   "outputs": [],
   "source": []
  },
  {
   "cell_type": "code",
   "execution_count": 39,
   "id": "fe65dd22-38b8-4124-be5f-29ea18278295",
   "metadata": {},
   "outputs": [
    {
     "data": {
      "text/plain": [
       "{'alpha': 0.99}"
      ]
     },
     "execution_count": 39,
     "metadata": {},
     "output_type": "execute_result"
    }
   ],
   "source": [
    "search.best_params_"
   ]
  },
  {
   "cell_type": "code",
   "execution_count": null,
   "id": "7c1637c1-a963-4adb-baf5-506d4b4903f5",
   "metadata": {},
   "outputs": [],
   "source": []
  }
 ],
 "metadata": {
  "kernelspec": {
   "display_name": "Python 3 (ipykernel)",
   "language": "python",
   "name": "python3"
  },
  "language_info": {
   "codemirror_mode": {
    "name": "ipython",
    "version": 3
   },
   "file_extension": ".py",
   "mimetype": "text/x-python",
   "name": "python",
   "nbconvert_exporter": "python",
   "pygments_lexer": "ipython3",
   "version": "3.8.13"
  }
 },
 "nbformat": 4,
 "nbformat_minor": 5
}
