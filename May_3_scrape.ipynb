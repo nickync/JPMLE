{
 "cells": [
  {
   "cell_type": "code",
   "execution_count": 1,
   "id": "6b963c60-1434-40e4-9348-dc86408254c7",
   "metadata": {},
   "outputs": [
    {
     "name": "stdout",
     "output_type": "stream",
     "text": [
      "Requirement already satisfied: nltk in /opt/anaconda3/lib/python3.9/site-packages (3.6.5)\n",
      "Requirement already satisfied: bs4 in /opt/anaconda3/lib/python3.9/site-packages (0.0.1)\n",
      "Requirement already satisfied: click in /opt/anaconda3/lib/python3.9/site-packages (from nltk) (8.0.3)\n",
      "Requirement already satisfied: joblib in /opt/anaconda3/lib/python3.9/site-packages (from nltk) (1.1.0)\n",
      "Requirement already satisfied: regex>=2021.8.3 in /opt/anaconda3/lib/python3.9/site-packages (from nltk) (2021.8.3)\n",
      "Requirement already satisfied: tqdm in /opt/anaconda3/lib/python3.9/site-packages (from nltk) (4.62.3)\n",
      "Requirement already satisfied: beautifulsoup4 in /opt/anaconda3/lib/python3.9/site-packages (from bs4) (4.10.0)\n",
      "Requirement already satisfied: soupsieve>1.2 in /opt/anaconda3/lib/python3.9/site-packages (from beautifulsoup4->bs4) (2.2.1)\n"
     ]
    }
   ],
   "source": [
    "#!pip install nltk bs4"
   ]
  },
  {
   "cell_type": "code",
   "execution_count": 2,
   "id": "3213486e-ff9e-48cd-b906-9501ff2750cb",
   "metadata": {},
   "outputs": [],
   "source": [
    "import os\n",
    "import matplotlib.pyplot as plt\n",
    "from bs4 import BeautifulSoup\n",
    "import pandas as pd\n",
    "from urllib.request import urlopen, Request\n",
    "from nltk.sentiment.vader import SentimentIntensityAnalyzer"
   ]
  },
  {
   "cell_type": "code",
   "execution_count": 4,
   "id": "b55d9c84-5667-4155-afb9-1c71bf6c3501",
   "metadata": {},
   "outputs": [],
   "source": [
    "url = 'https://finviz.com/quote.ashx?t=AMZN'"
   ]
  },
  {
   "cell_type": "code",
   "execution_count": 5,
   "id": "59b80a14-c86f-47c8-8149-8fa0c8fad5d1",
   "metadata": {},
   "outputs": [],
   "source": [
    "web_url = 'https://finviz.com/quote.ashx?t='\n",
    "news_tables = {}\n",
    "tickers = ['AMZN', 'GOOG', 'TSLA']\n",
    "for tick in tickers:\n",
    "    url = web_url + tick\n",
    "    req = Request(url=url,headers={\"User-Agent\": \"Chrome\"}) \n",
    "    response = urlopen(req)    \n",
    "    html = BeautifulSoup(response,\"html.parser\")\n",
    "    news_table = html.find(id='news-table')\n",
    "    news_tables[tick] = news_table"
   ]
  },
  {
   "cell_type": "code",
   "execution_count": 6,
   "id": "65e85893-e482-40dc-a1b1-a0f52cdd67f2",
   "metadata": {},
   "outputs": [
    {
     "name": "stdout",
     "output_type": "stream",
     "text": [
      "Amazon plans to add 2,500 office jobs in Southern California\n",
      "May-03-22 08:00AM  \n",
      "2 Stock Split Stocks That Crushed Earnings, and 1 That Didn't\n",
      "07:45AM  \n",
      "Traders Face Up to Reality as Nasdaq 100 Profit Forecasts Drop\n",
      "06:53AM  \n",
      "Inflation: Clorox is jacking up prices (again)\n",
      "06:36AM  \n"
     ]
    }
   ],
   "source": [
    "amazon = news_tables['AMZN']\n",
    "amazon_tr = amazon.findAll('tr')\n",
    "for x, table_row in enumerate(amazon_tr):\n",
    "    a_text = table_row.a.text\n",
    "    td_text = table_row.td.text\n",
    "    print(a_text)\n",
    "    print(td_text)\n",
    "    if x == 3:\n",
    "        break\n"
   ]
  },
  {
   "cell_type": "code",
   "execution_count": 7,
   "id": "13989af4-c844-4267-ba24-b18e4d35eb33",
   "metadata": {},
   "outputs": [],
   "source": [
    "news_list = []\n",
    "for file_name, news_table in news_tables.items():\n",
    "    for i in news_table.findAll('tr'):\n",
    "        \n",
    "        text = i.a.get_text() \n",
    "        \n",
    "        date_scrape = i.td.text.split()\n",
    "        if len(date_scrape) == 1:\n",
    "            time = date_scrape[0]\n",
    "            \n",
    "        else:\n",
    "            date = date_scrape[0]\n",
    "            time = date_scrape[1]\n",
    "        tick = file_name.split('_')[0]\n",
    "        \n",
    "        news_list.append([tick, date, time, text])\n"
   ]
  },
  {
   "cell_type": "code",
   "execution_count": 8,
   "id": "b41858b1-2764-4688-a93f-7ff359c1bc5b",
   "metadata": {},
   "outputs": [
    {
     "name": "stderr",
     "output_type": "stream",
     "text": [
      "[nltk_data] Downloading package vader_lexicon to\n",
      "[nltk_data]     /Users/zheng/nltk_data...\n"
     ]
    },
    {
     "data": {
      "text/plain": [
       "True"
      ]
     },
     "execution_count": 8,
     "metadata": {},
     "output_type": "execute_result"
    }
   ],
   "source": [
    "import nltk\n",
    "nltk.downloader.download('vader_lexicon')"
   ]
  },
  {
   "cell_type": "code",
   "execution_count": 9,
   "id": "0a41f462-15bb-4fbf-ab5b-bcc00a1eaf81",
   "metadata": {},
   "outputs": [
    {
     "name": "stdout",
     "output_type": "stream",
     "text": [
      "  ticker        date     time  \\\n",
      "0   AMZN  2022-05-03  08:00AM   \n",
      "1   AMZN  2022-05-03  07:45AM   \n",
      "2   AMZN  2022-05-03  06:53AM   \n",
      "3   AMZN  2022-05-03  06:36AM   \n",
      "4   AMZN  2022-05-03  05:52AM   \n",
      "\n",
      "                                            headline    neg    neu    pos  \\\n",
      "0  Amazon plans to add 2,500 office jobs in South...  0.000  0.841  0.159   \n",
      "1  2 Stock Split Stocks That Crushed Earnings, an...  0.259  0.741  0.000   \n",
      "2  Traders Face Up to Reality as Nasdaq 100 Profi...  0.150  0.643  0.207   \n",
      "3     Inflation: Clorox is jacking up prices (again)  0.000  1.000  0.000   \n",
      "4  These 3 Growth Stocks Got Pummeled Last Week: ...  0.000  0.794  0.206   \n",
      "\n",
      "   compound  \n",
      "0    0.1779  \n",
      "1   -0.4215  \n",
      "2    0.2023  \n",
      "3    0.0000  \n",
      "4    0.3818  \n"
     ]
    }
   ],
   "source": [
    "vader = SentimentIntensityAnalyzer()\n",
    "columns = ['ticker', 'date', 'time', 'headline']\n",
    "news_df = pd.DataFrame(news_list, columns=columns)\n",
    "scores = news_df['headline'].apply(vader.polarity_scores).tolist()\n",
    "scores_df = pd.DataFrame(scores)\n",
    "news_df = news_df.join(scores_df, rsuffix='_right')\n",
    "news_df['date'] = pd.to_datetime(news_df.date).dt.date\n",
    "print(news_df.head())"
   ]
  },
  {
   "cell_type": "code",
   "execution_count": 10,
   "id": "47bf2e11-fd7b-485a-bb9c-7cc28b826224",
   "metadata": {},
   "outputs": [
    {
     "data": {
      "image/png": "[encoded data removed]",
      "text/plain": [
       "<Figure size 720x432 with 1 Axes>"
      ]
     },
     "metadata": {
      "needs_background": "light"
     },
     "output_type": "display_data"
    }
   ],
   "source": [
    "plt.rcParams['figure.figsize'] = [10, 6]\n",
    "mean_scores = news_df.groupby(['ticker','date']).mean()\n",
    "mean_scores = mean_scores.unstack()\n",
    "mean_scores = mean_scores.xs('compound', axis=\"columns\").transpose()\n",
    "mean_scores.plot(kind = 'bar')\n",
    "plt.grid()\n",
    "plt.show()"
   ]
  },
  {
   "cell_type": "code",
   "execution_count": null,
   "id": "0f5354ed-8f87-4ef8-b49e-3b239279d7ff",
   "metadata": {},
   "outputs": [],
   "source": []
  }
 ],
 "metadata": {
  "kernelspec": {
   "display_name": "Python 3 (ipykernel)",
   "language": "python",
   "name": "python3"
  },
  "language_info": {
   "codemirror_mode": {
    "name": "ipython",
    "version": 3
   },
   "file_extension": ".py",
   "mimetype": "text/x-python",
   "name": "python",
   "nbconvert_exporter": "python",
   "pygments_lexer": "ipython3",
   "version": "3.9.7"
  }
 },
 "nbformat": 4,
 "nbformat_minor": 5
}
