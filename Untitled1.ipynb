{
 "cells": [
  {
   "cell_type": "code",
   "execution_count": 1,
   "id": "88f3882f-24ce-4d8d-809c-3d5e0b44e84a",
   "metadata": {},
   "outputs": [],
   "source": [
    "import joblib"
   ]
  },
  {
   "cell_type": "code",
   "execution_count": 2,
   "id": "ce44ea70-2362-4109-b77f-07a606e9c5cc",
   "metadata": {},
   "outputs": [],
   "source": [
    "md = joblib.load(\"./web/model.pkl\")"
   ]
  },
  {
   "cell_type": "code",
   "execution_count": 3,
   "id": "76384ffd-7394-4023-8377-ae7fbc502eec",
   "metadata": {},
   "outputs": [
    {
     "data": {
      "text/plain": [
       "<bound method BaseEstimator.get_params of GradientBoostingClassifier(learning_rate=1.0, max_depth=1, random_state=0)>"
      ]
     },
     "execution_count": 3,
     "metadata": {},
     "output_type": "execute_result"
    }
   ],
   "source": [
    "md.get_params"
   ]
  },
  {
   "cell_type": "code",
   "execution_count": 31,
   "id": "61d128a4-8337-45da-a162-be8c55f9af9f",
   "metadata": {},
   "outputs": [],
   "source": [
    "x = []\n",
    "for i in range(0,171):\n",
    "    x.append(i)"
   ]
  },
  {
   "cell_type": "code",
   "execution_count": 32,
   "id": "d7c66492-0c9e-4505-b7b0-40a29f83321f",
   "metadata": {},
   "outputs": [],
   "source": [
    "import numpy as np"
   ]
  },
  {
   "cell_type": "code",
   "execution_count": 33,
   "id": "69fd50bf-34ba-451b-a1be-4f7bb4fd8a59",
   "metadata": {},
   "outputs": [
    {
     "data": {
      "text/plain": [
       "list"
      ]
     },
     "execution_count": 33,
     "metadata": {},
     "output_type": "execute_result"
    }
   ],
   "source": [
    "type(x)"
   ]
  },
  {
   "cell_type": "code",
   "execution_count": null,
   "id": "157bc824-675b-4705-abe8-d3b08c17a781",
   "metadata": {},
   "outputs": [],
   "source": []
  },
  {
   "cell_type": "code",
   "execution_count": 34,
   "id": "88cc1fa4-60cb-428c-b810-d4965f250c9c",
   "metadata": {},
   "outputs": [],
   "source": [
    "x = [np.array(x)]"
   ]
  },
  {
   "cell_type": "code",
   "execution_count": 35,
   "id": "7f70bd70-f4e2-41c8-9da0-03ba5614f156",
   "metadata": {},
   "outputs": [
    {
     "data": {
      "text/plain": [
       "list"
      ]
     },
     "execution_count": 35,
     "metadata": {},
     "output_type": "execute_result"
    }
   ],
   "source": [
    "type(x)"
   ]
  },
  {
   "cell_type": "code",
   "execution_count": 36,
   "id": "928c9d3b-e78b-420a-ada6-5f532feed7a3",
   "metadata": {},
   "outputs": [
    {
     "data": {
      "text/plain": [
       "array([0])"
      ]
     },
     "execution_count": 36,
     "metadata": {},
     "output_type": "execute_result"
    }
   ],
   "source": [
    "md.predict(x)"
   ]
  },
  {
   "cell_type": "code",
   "execution_count": null,
   "id": "7feb53ed-434e-4502-95a0-6ee251f7d452",
   "metadata": {},
   "outputs": [],
   "source": []
  }
 ],
 "metadata": {
  "kernelspec": {
   "display_name": "Python 3 (ipykernel)",
   "language": "python",
   "name": "python3"
  },
  "language_info": {
   "codemirror_mode": {
    "name": "ipython",
    "version": 3
   },
   "file_extension": ".py",
   "mimetype": "text/x-python",
   "name": "python",
   "nbconvert_exporter": "python",
   "pygments_lexer": "ipython3",
   "version": "3.8.13"
  }
 },
 "nbformat": 4,
 "nbformat_minor": 5
}
